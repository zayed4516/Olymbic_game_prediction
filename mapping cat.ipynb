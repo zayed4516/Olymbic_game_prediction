{
 "cells": [
  {
   "cell_type": "code",
   "execution_count": 1,
   "id": "2640d465-0765-4b57-be70-6c6aaf2ecc88",
   "metadata": {},
   "outputs": [],
   "source": [
    "import pandas as pd\n",
    "import numpy as np"
   ]
  },
  {
   "cell_type": "code",
   "execution_count": 2,
   "id": "92d83f3d-27ea-41e6-bfcc-76ff4b0da04d",
   "metadata": {},
   "outputs": [
    {
     "data": {
      "text/html": [
       "<div>\n",
       "<style scoped>\n",
       "    .dataframe tbody tr th:only-of-type {\n",
       "        vertical-align: middle;\n",
       "    }\n",
       "\n",
       "    .dataframe tbody tr th {\n",
       "        vertical-align: top;\n",
       "    }\n",
       "\n",
       "    .dataframe thead th {\n",
       "        text-align: right;\n",
       "    }\n",
       "</style>\n",
       "<table border=\"1\" class=\"dataframe\">\n",
       "  <thead>\n",
       "    <tr style=\"text-align: right;\">\n",
       "      <th></th>\n",
       "      <th>player_id</th>\n",
       "      <th>Name</th>\n",
       "      <th>Sex</th>\n",
       "      <th>NOC</th>\n",
       "      <th>Year</th>\n",
       "      <th>Season</th>\n",
       "      <th>City</th>\n",
       "      <th>Sport</th>\n",
       "      <th>Event</th>\n",
       "      <th>Medal</th>\n",
       "      <th>Country</th>\n",
       "      <th>won_or_not</th>\n",
       "    </tr>\n",
       "  </thead>\n",
       "  <tbody>\n",
       "    <tr>\n",
       "      <th>0</th>\n",
       "      <td>0</td>\n",
       "      <td>A Dijiang</td>\n",
       "      <td>M</td>\n",
       "      <td>CHN</td>\n",
       "      <td>1992</td>\n",
       "      <td>Summer</td>\n",
       "      <td>Barcelona</td>\n",
       "      <td>Basketball</td>\n",
       "      <td>Basketball Men's Basketball</td>\n",
       "      <td>No medal</td>\n",
       "      <td>China</td>\n",
       "      <td>0</td>\n",
       "    </tr>\n",
       "    <tr>\n",
       "      <th>1</th>\n",
       "      <td>1</td>\n",
       "      <td>A Lamusi</td>\n",
       "      <td>M</td>\n",
       "      <td>CHN</td>\n",
       "      <td>2012</td>\n",
       "      <td>Summer</td>\n",
       "      <td>London</td>\n",
       "      <td>Judo</td>\n",
       "      <td>Judo Men's Extra-Lightweight</td>\n",
       "      <td>No medal</td>\n",
       "      <td>China</td>\n",
       "      <td>0</td>\n",
       "    </tr>\n",
       "    <tr>\n",
       "      <th>2</th>\n",
       "      <td>2</td>\n",
       "      <td>Gunnar Aaby</td>\n",
       "      <td>M</td>\n",
       "      <td>DEN</td>\n",
       "      <td>1920</td>\n",
       "      <td>Summer</td>\n",
       "      <td>Antwerpen</td>\n",
       "      <td>Football</td>\n",
       "      <td>Football Men's Football</td>\n",
       "      <td>No medal</td>\n",
       "      <td>Denmark</td>\n",
       "      <td>0</td>\n",
       "    </tr>\n",
       "    <tr>\n",
       "      <th>3</th>\n",
       "      <td>3</td>\n",
       "      <td>Edgar Aabye</td>\n",
       "      <td>M</td>\n",
       "      <td>DEN</td>\n",
       "      <td>1900</td>\n",
       "      <td>Summer</td>\n",
       "      <td>Paris</td>\n",
       "      <td>Tug-Of-War</td>\n",
       "      <td>Tug-Of-War Men's Tug-Of-War</td>\n",
       "      <td>Gold</td>\n",
       "      <td>Denmark/Sweden</td>\n",
       "      <td>1</td>\n",
       "    </tr>\n",
       "    <tr>\n",
       "      <th>4</th>\n",
       "      <td>26</td>\n",
       "      <td>Cornelia (-strannood)</td>\n",
       "      <td>F</td>\n",
       "      <td>NED</td>\n",
       "      <td>1932</td>\n",
       "      <td>Summer</td>\n",
       "      <td>Los Angeles</td>\n",
       "      <td>Athletics</td>\n",
       "      <td>Athletics Women's 100 metres</td>\n",
       "      <td>No medal</td>\n",
       "      <td>Netherlands</td>\n",
       "      <td>0</td>\n",
       "    </tr>\n",
       "  </tbody>\n",
       "</table>\n",
       "</div>"
      ],
      "text/plain": [
       "   player_id                   Name Sex  NOC  Year  Season         City  \\\n",
       "0          0              A Dijiang   M  CHN  1992  Summer    Barcelona   \n",
       "1          1               A Lamusi   M  CHN  2012  Summer       London   \n",
       "2          2            Gunnar Aaby   M  DEN  1920  Summer    Antwerpen   \n",
       "3          3            Edgar Aabye   M  DEN  1900  Summer        Paris   \n",
       "4         26  Cornelia (-strannood)   F  NED  1932  Summer  Los Angeles   \n",
       "\n",
       "        Sport                         Event     Medal         Country  \\\n",
       "0  Basketball   Basketball Men's Basketball  No medal           China   \n",
       "1        Judo  Judo Men's Extra-Lightweight  No medal           China   \n",
       "2    Football       Football Men's Football  No medal         Denmark   \n",
       "3  Tug-Of-War   Tug-Of-War Men's Tug-Of-War      Gold  Denmark/Sweden   \n",
       "4   Athletics  Athletics Women's 100 metres  No medal     Netherlands   \n",
       "\n",
       "   won_or_not  \n",
       "0           0  \n",
       "1           0  \n",
       "2           0  \n",
       "3           1  \n",
       "4           0  "
      ]
     },
     "execution_count": 2,
     "metadata": {},
     "output_type": "execute_result"
    }
   ],
   "source": [
    "df = pd.read_csv('preprocessing_olymbic.csv')\n",
    "df.head()"
   ]
  },
  {
   "cell_type": "markdown",
   "id": "73390cc5-ea04-4d53-b6a4-64ecb1278a09",
   "metadata": {},
   "source": [
    "# NOC"
   ]
  },
  {
   "cell_type": "code",
   "execution_count": 3,
   "id": "bf8e0773-58b5-45bd-aa84-260f669717d2",
   "metadata": {},
   "outputs": [
    {
     "data": {
      "text/plain": [
       "array(['CHN', 'DEN', 'NED', 'FIN', 'NOR', 'ROU', 'EST', 'FRA', 'MAR',\n",
       "       'ESP', 'EGY', 'IRI', 'BUL', 'ITA', 'CHA', 'AZE', 'SUD', 'RUS',\n",
       "       'ARG', 'CUB', 'BLR', 'GRE', 'CMR', 'TUR', 'CHI', 'MEX', 'USA',\n",
       "       'URS', 'NCA', 'HUN', 'NGR', 'ALG', 'KUW', 'BRN', 'PAK', 'IRQ',\n",
       "       'UAR', 'LIB', 'QAT', 'MAS', 'GER', 'CAN', 'IRL', 'AUS', 'RSA',\n",
       "       'ERI', 'TAN', 'JOR', 'TUN', 'LBA', 'BEL', 'DJI', 'PLE', 'COM',\n",
       "       'KAZ', 'BRU', 'IND', 'KSA', 'SYR', 'MDV', 'ETH', 'UAE', 'YAR',\n",
       "       'INA', 'PHI', 'SGP', 'UZB', 'KGZ', 'TJK', 'EUN', 'JPN', 'CGO',\n",
       "       'SUI', 'BRA', 'GDR', 'MON', 'ISR', 'URU', 'SWE', 'SRI', 'ARM',\n",
       "       'CIV', 'KEN', 'BEN', 'GBR', 'GHA', 'SOM', 'NIG', 'MLI', 'AFG',\n",
       "       'POL', 'CRC', 'PAN', 'GEO', 'SLO', 'GUY', 'NZL', 'POR', 'PAR',\n",
       "       'ANG', 'VEN', 'COL', 'FRG', 'BAN', 'PER', 'ESA', 'PUR', 'UGA',\n",
       "       'HON', 'ECU', 'TKM', 'MRI', 'SEY', 'TCH', 'LUX', 'MTN', 'SKN',\n",
       "       'TTO', 'DOM', 'VIN', 'JAM', 'LBR', 'SUR', 'NEP', 'MGL', 'AUT',\n",
       "       'PLW', 'LTU', 'TOG', 'NAM', 'AHO', 'UKR', 'ISL', 'ASA', 'SAM',\n",
       "       'RWA', 'CRO', 'DMA', 'HAI', 'MLT', 'CYP', 'GUI', 'BIZ', 'YMD',\n",
       "       'THA', 'BER', 'ANZ', 'SCG', 'SLE', 'PNG', 'YEM', 'IOA', 'OMA',\n",
       "       'FIJ', 'VAN', 'MDA', 'BAH', 'GUA', 'YUG', 'LAT', 'SRB', 'IVB',\n",
       "       'MOZ', 'ISV', 'CAF', 'MAD', 'MAL', 'BIH', 'GUM', 'CAY', 'SVK',\n",
       "       'BAR', 'GBS', 'TLS', 'COD', 'GAB', 'SMR', 'LAO', 'BOT', 'ROT',\n",
       "       'KOR', 'CAM', 'PRK', 'SOL', 'SEN', 'CPV', 'CZE', 'CRT', 'GEQ',\n",
       "       'BOL', 'SAA', 'ANT', 'AND', 'ZIM', 'GRN', 'HKG', 'LCA', 'FSM',\n",
       "       'MYA', 'MAW', 'ZAM', 'RHO', 'TPE', 'STP', 'MKD', 'BOH', 'LIE',\n",
       "       'MNE', 'GAM', 'COK', 'ALB', 'WIF', 'SWZ', 'BUR', 'NBO', 'BDI',\n",
       "       'ARU', 'NRU', 'VNM', 'VIE', 'BHU', 'MHL', 'KIR', 'UNK', 'TUV',\n",
       "       'TGA', 'NFL', 'KOS', 'SSD', 'LES', 'ROC', 'EOR', 'LBN', 'AIN'],\n",
       "      dtype=object)"
      ]
     },
     "execution_count": 3,
     "metadata": {},
     "output_type": "execute_result"
    }
   ],
   "source": [
    "#Noc country event sport\n",
    "df['NOC'].unique()"
   ]
  },
  {
   "cell_type": "code",
   "execution_count": 4,
   "id": "70f3bd0c-076d-488f-9d36-2fa82cf14614",
   "metadata": {},
   "outputs": [
    {
     "name": "stdout",
     "output_type": "stream",
     "text": [
      "{'CHN': 0, 'DEN': 1, 'NED': 2, 'FIN': 3, 'NOR': 4, 'ROU': 5, 'EST': 6, 'FRA': 7, 'MAR': 8, 'ESP': 9, 'EGY': 10, 'IRI': 11, 'BUL': 12, 'ITA': 13, 'CHA': 14, 'AZE': 15, 'SUD': 16, 'RUS': 17, 'ARG': 18, 'CUB': 19, 'BLR': 20, 'GRE': 21, 'CMR': 22, 'TUR': 23, 'CHI': 24, 'MEX': 25, 'USA': 26, 'URS': 27, 'NCA': 28, 'HUN': 29, 'NGR': 30, 'ALG': 31, 'KUW': 32, 'BRN': 33, 'PAK': 34, 'IRQ': 35, 'UAR': 36, 'LIB': 37, 'QAT': 38, 'MAS': 39, 'GER': 40, 'CAN': 41, 'IRL': 42, 'AUS': 43, 'RSA': 44, 'ERI': 45, 'TAN': 46, 'JOR': 47, 'TUN': 48, 'LBA': 49, 'BEL': 50, 'DJI': 51, 'PLE': 52, 'COM': 53, 'KAZ': 54, 'BRU': 55, 'IND': 56, 'KSA': 57, 'SYR': 58, 'MDV': 59, 'ETH': 60, 'UAE': 61, 'YAR': 62, 'INA': 63, 'PHI': 64, 'SGP': 65, 'UZB': 66, 'KGZ': 67, 'TJK': 68, 'EUN': 69, 'JPN': 70, 'CGO': 71, 'SUI': 72, 'BRA': 73, 'GDR': 74, 'MON': 75, 'ISR': 76, 'URU': 77, 'SWE': 78, 'SRI': 79, 'ARM': 80, 'CIV': 81, 'KEN': 82, 'BEN': 83, 'GBR': 84, 'GHA': 85, 'SOM': 86, 'NIG': 87, 'MLI': 88, 'AFG': 89, 'POL': 90, 'CRC': 91, 'PAN': 92, 'GEO': 93, 'SLO': 94, 'GUY': 95, 'NZL': 96, 'POR': 97, 'PAR': 98, 'ANG': 99, 'VEN': 100, 'COL': 101, 'FRG': 102, 'BAN': 103, 'PER': 104, 'ESA': 105, 'PUR': 106, 'UGA': 107, 'HON': 108, 'ECU': 109, 'TKM': 110, 'MRI': 111, 'SEY': 112, 'TCH': 113, 'LUX': 114, 'MTN': 115, 'SKN': 116, 'TTO': 117, 'DOM': 118, 'VIN': 119, 'JAM': 120, 'LBR': 121, 'SUR': 122, 'NEP': 123, 'MGL': 124, 'AUT': 125, 'PLW': 126, 'LTU': 127, 'TOG': 128, 'NAM': 129, 'AHO': 130, 'UKR': 131, 'ISL': 132, 'ASA': 133, 'SAM': 134, 'RWA': 135, 'CRO': 136, 'DMA': 137, 'HAI': 138, 'MLT': 139, 'CYP': 140, 'GUI': 141, 'BIZ': 142, 'YMD': 143, 'THA': 144, 'BER': 145, 'ANZ': 146, 'SCG': 147, 'SLE': 148, 'PNG': 149, 'YEM': 150, 'IOA': 151, 'OMA': 152, 'FIJ': 153, 'VAN': 154, 'MDA': 155, 'BAH': 156, 'GUA': 157, 'YUG': 158, 'LAT': 159, 'SRB': 160, 'IVB': 161, 'MOZ': 162, 'ISV': 163, 'CAF': 164, 'MAD': 165, 'MAL': 166, 'BIH': 167, 'GUM': 168, 'CAY': 169, 'SVK': 170, 'BAR': 171, 'GBS': 172, 'TLS': 173, 'COD': 174, 'GAB': 175, 'SMR': 176, 'LAO': 177, 'BOT': 178, 'ROT': 179, 'KOR': 180, 'CAM': 181, 'PRK': 182, 'SOL': 183, 'SEN': 184, 'CPV': 185, 'CZE': 186, 'CRT': 187, 'GEQ': 188, 'BOL': 189, 'SAA': 190, 'ANT': 191, 'AND': 192, 'ZIM': 193, 'GRN': 194, 'HKG': 195, 'LCA': 196, 'FSM': 197, 'MYA': 198, 'MAW': 199, 'ZAM': 200, 'RHO': 201, 'TPE': 202, 'STP': 203, 'MKD': 204, 'BOH': 205, 'LIE': 206, 'MNE': 207, 'GAM': 208, 'COK': 209, 'ALB': 210, 'WIF': 211, 'SWZ': 212, 'BUR': 213, 'NBO': 214, 'BDI': 215, 'ARU': 216, 'NRU': 217, 'VNM': 218, 'VIE': 219, 'BHU': 220, 'MHL': 221, 'KIR': 222, 'UNK': 223, 'TUV': 224, 'TGA': 225, 'NFL': 226, 'KOS': 227, 'SSD': 228, 'LES': 229, 'ROC': 230, 'EOR': 231, 'LBN': 232, 'AIN': 233}\n"
     ]
    }
   ],
   "source": [
    "# List of country codes\n",
    "country_codes = [\n",
    "    'CHN', 'DEN', 'NED', 'FIN', 'NOR', 'ROU', 'EST', 'FRA', 'MAR', 'ESP', 'EGY', 'IRI', 'BUL', \n",
    "    'ITA', 'CHA', 'AZE', 'SUD', 'RUS', 'ARG', 'CUB', 'BLR', 'GRE', 'CMR', 'TUR', 'CHI', 'MEX', \n",
    "    'USA', 'URS', 'NCA', 'HUN', 'NGR', 'ALG', 'KUW', 'BRN', 'PAK', 'IRQ', 'UAR', 'LIB', 'QAT', \n",
    "    'MAS', 'GER', 'CAN', 'IRL', 'AUS', 'RSA', 'ERI', 'TAN', 'JOR', 'TUN', 'LBA', 'BEL', 'DJI', \n",
    "    'PLE', 'COM', 'KAZ', 'BRU', 'IND', 'KSA', 'SYR', 'MDV', 'ETH', 'UAE', 'YAR', 'INA', 'PHI', \n",
    "    'SGP', 'UZB', 'KGZ', 'TJK', 'EUN', 'JPN', 'CGO', 'SUI', 'BRA', 'GDR', 'MON', 'ISR', 'URU', \n",
    "    'SWE', 'SRI', 'ARM', 'CIV', 'KEN', 'BEN', 'GBR', 'GHA', 'SOM', 'NIG', 'MLI', 'AFG', 'POL', \n",
    "    'CRC', 'PAN', 'GEO', 'SLO', 'GUY', 'NZL', 'POR', 'PAR', 'ANG', 'VEN', 'COL', 'FRG', 'BAN', \n",
    "    'PER', 'ESA', 'PUR', 'UGA', 'HON', 'ECU', 'TKM', 'MRI', 'SEY', 'TCH', 'LUX', 'MTN', 'SKN', \n",
    "    'TTO', 'DOM', 'VIN', 'JAM', 'LBR', 'SUR', 'NEP', 'MGL', 'AUT', 'PLW', 'LTU', 'TOG', 'NAM', \n",
    "    'AHO', 'UKR', 'ISL', 'ASA', 'SAM', 'RWA', 'CRO', 'DMA', 'HAI', 'MLT', 'CYP', 'GUI', 'BIZ', \n",
    "    'YMD', 'THA', 'BER', 'ANZ', 'SCG', 'SLE', 'PNG', 'YEM', 'IOA', 'OMA', 'FIJ', 'VAN', 'MDA', \n",
    "    'BAH', 'GUA', 'YUG', 'LAT', 'SRB', 'IVB', 'MOZ', 'ISV', 'CAF', 'MAD', 'MAL', 'BIH', 'GUM', \n",
    "    'CAY', 'SVK', 'BAR', 'GBS', 'TLS', 'COD', 'GAB', 'SMR', 'LAO', 'BOT', 'ROT', 'KOR', 'CAM', \n",
    "    'PRK', 'SOL', 'SEN', 'CPV', 'CZE', 'CRT', 'GEQ', 'BOL', 'SAA', 'ANT', 'AND', 'ZIM', 'GRN', \n",
    "    'HKG', 'LCA', 'FSM', 'MYA', 'MAW', 'ZAM', 'RHO', 'TPE', 'STP', 'MKD', 'BOH', 'LIE', 'MNE', \n",
    "    'GAM', 'COK', 'ALB', 'WIF', 'SWZ', 'BUR', 'NBO', 'BDI', 'ARU', 'NRU', 'VNM', 'VIE', 'BHU', \n",
    "    'MHL', 'KIR', 'UNK', 'TUV', 'TGA', 'NFL', 'KOS', 'SSD', 'LES', 'ROC', 'EOR', 'LBN', 'AIN'\n",
    "]\n",
    "\n",
    "# Create a mapping where each country code maps to a unique numerical value\n",
    "country_mapping = {code: idx for idx, code in enumerate(country_codes)}\n",
    "\n",
    "# Print the mapping (optional)\n",
    "print(country_mapping)"
   ]
  },
  {
   "cell_type": "code",
   "execution_count": 5,
   "id": "776f7cb8-ee72-4256-9861-e29951ac44e3",
   "metadata": {},
   "outputs": [],
   "source": [
    "df['NOC'] = df['NOC'].map(country_mapping)"
   ]
  },
  {
   "cell_type": "code",
   "execution_count": 6,
   "id": "da6e5d55-a99b-420e-aa3e-b4a3525da97c",
   "metadata": {},
   "outputs": [
    {
     "data": {
      "text/plain": [
       "NOC\n",
       "26     16774\n",
       "84     11998\n",
       "7      11972\n",
       "13      9351\n",
       "40      8866\n",
       "       ...  \n",
       "187       11\n",
       "143        5\n",
       "214        2\n",
       "223        2\n",
       "226        1\n",
       "Name: count, Length: 234, dtype: int64"
      ]
     },
     "execution_count": 6,
     "metadata": {},
     "output_type": "execute_result"
    }
   ],
   "source": [
    "df['NOC'].value_counts()"
   ]
  },
  {
   "cell_type": "markdown",
   "id": "5840891a-5716-44bd-bc98-30fe3b0c4396",
   "metadata": {},
   "source": [
    "# sport"
   ]
  },
  {
   "cell_type": "code",
   "execution_count": 7,
   "id": "5675b952-8e6c-40e1-976f-d553a3663cdc",
   "metadata": {},
   "outputs": [
    {
     "data": {
      "text/plain": [
       "array(['Basketball', 'Judo', 'Football', 'Tug-Of-War', 'Athletics',\n",
       "       'Swimming', 'Badminton', 'Sailing', 'Gymnastics',\n",
       "       'Art Competitions', 'Handball', 'Weightlifting', 'Wrestling',\n",
       "       'Water Polo', 'Hockey', 'Rowing', 'Fencing', 'Equestrianism',\n",
       "       'Shooting', 'Boxing', 'Taekwondo', 'Cycling', 'Diving', 'Canoeing',\n",
       "       'Tennis', 'Modern Pentathlon', 'Golf', 'Softball', 'Archery',\n",
       "       'Volleyball', 'Synchronized Swimming', 'Table Tennis', 'Baseball',\n",
       "       'Rhythmic Gymnastics', 'Rugby Sevens', 'Trampolining',\n",
       "       'Beach Volleyball', 'Triathlon', 'Rugby', 'Lacrosse', 'Polo',\n",
       "       'Cricket', 'Ice Hockey', 'Racquets', 'Motorboating', 'Croquet',\n",
       "       'Figure Skating', 'Jeu De Paume', 'Roque', 'Basque Pelota',\n",
       "       'Alpinism', 'Aeronautics', 'Cycling Road', 'Artistic Gymnastics',\n",
       "       'Karate', 'Baseball/Softball', 'Trampoline Gymnastics',\n",
       "       'Marathon Swimming', 'Canoe Slalom', 'Surfing', 'Canoe Sprint',\n",
       "       'Cycling BMX Racing', 'Equestrian', 'Artistic Swimming',\n",
       "       'Cycling Track', 'Skateboarding', 'Cycling Mountain Bike',\n",
       "       '3x3 Basketball', 'Cycling BMX Freestyle', 'Sport Climbing',\n",
       "       'Marathon Swimming, Swimming', 'Breaking',\n",
       "       'Cycling Road, Cycling Track',\n",
       "       'Cycling Road, Cycling Mountain Bike', 'Cycling Road, Triathlon',\n",
       "       '3x3 Basketball, Basketball'], dtype=object)"
      ]
     },
     "execution_count": 7,
     "metadata": {},
     "output_type": "execute_result"
    }
   ],
   "source": [
    "df['Sport'].unique()"
   ]
  },
  {
   "cell_type": "code",
   "execution_count": 8,
   "id": "72bd7744-993b-402f-90b0-8a72c4866048",
   "metadata": {},
   "outputs": [
    {
     "data": {
      "text/plain": [
       "76"
      ]
     },
     "execution_count": 8,
     "metadata": {},
     "output_type": "execute_result"
    }
   ],
   "source": [
    "df['Sport'].nunique()"
   ]
  },
  {
   "cell_type": "code",
   "execution_count": 9,
   "id": "feb1ab52-1b5d-4149-aa7c-3510572682c6",
   "metadata": {},
   "outputs": [
    {
     "name": "stdout",
     "output_type": "stream",
     "text": [
      "['Basketball' 'Judo' 'Football' 'Tug-Of-War' 'Athletics' 'Swimming'\n",
      " 'Badminton' 'Sailing' 'Gymnastics' 'Art Competitions' 'Handball'\n",
      " 'Weightlifting' 'Wrestling' 'Water Polo' 'Hockey' 'Rowing' 'Fencing'\n",
      " 'Equestrianism' 'Shooting' 'Boxing' 'Taekwondo' 'Cycling' 'Diving'\n",
      " 'Canoeing' 'Tennis' 'Modern Pentathlon' 'Golf' 'Softball' 'Archery'\n",
      " 'Volleyball' 'Synchronized Swimming' 'Table Tennis' 'Baseball'\n",
      " 'Rhythmic Gymnastics' 'Rugby Sevens' 'Trampolining' 'Beach Volleyball'\n",
      " 'Triathlon' 'Rugby' 'Lacrosse' 'Polo' 'Cricket' 'Ice Hockey' 'Racquets'\n",
      " 'Motorboating' 'Croquet' 'Figure Skating' 'Jeu De Paume' 'Roque'\n",
      " 'Basque Pelota' 'Alpinism' 'Aeronautics' 'Cycling Road'\n",
      " 'Artistic Gymnastics' 'Karate' 'Baseball/Softball'\n",
      " 'Trampoline Gymnastics' 'Marathon Swimming' 'Canoe Slalom' 'Surfing'\n",
      " 'Canoe Sprint' 'Cycling BMX Racing' 'Equestrian' 'Artistic Swimming'\n",
      " 'Cycling Track' 'Skateboarding' 'Cycling Mountain Bike' '3x3 Basketball'\n",
      " 'Cycling BMX Freestyle' 'Sport Climbing' 'Breaking']\n"
     ]
    }
   ],
   "source": [
    "# Define a function to clean up sport names\n",
    "def clean_sport(sport):\n",
    "    # Split by ',' and take the first sport only (customize if needed)\n",
    "    return sport.split(',')[0].strip()\n",
    "\n",
    "# Apply the function to the 'Sport' column\n",
    "df['Sport'] = df['Sport'].apply(clean_sport)\n",
    "\n",
    "# Display unique values to verify\n",
    "print(df['Sport'].unique())"
   ]
  },
  {
   "cell_type": "code",
   "execution_count": 10,
   "id": "ec028884-634f-4915-bfdf-639619cb4711",
   "metadata": {},
   "outputs": [
    {
     "name": "stdout",
     "output_type": "stream",
     "text": [
      "['Basketball' 'Judo' 'Football' 'Tug-Of-War' 'Athletics' 'Swimming'\n",
      " 'Badminton' 'Sailing' 'Gymnastics' 'Art Competitions' 'Handball'\n",
      " 'Weightlifting' 'Wrestling' 'Water Polo' 'Hockey' 'Rowing' 'Fencing'\n",
      " 'Equestrianism' 'Shooting' 'Boxing' 'Taekwondo' 'Cycling' 'Diving'\n",
      " 'Canoeing' 'Tennis' 'Modern Pentathlon' 'Golf' 'Softball' 'Archery'\n",
      " 'Volleyball' 'Synchronized Swimming' 'Table Tennis' 'Rhythmic Gymnastics'\n",
      " 'Rugby Sevens' 'Trampolining' 'Beach Volleyball' 'Triathlon' 'Rugby'\n",
      " 'Lacrosse' 'Polo' 'Cricket' 'Ice Hockey' 'Racquets' 'Motorboating'\n",
      " 'Croquet' 'Figure Skating' 'Jeu De Paume' 'Roque' 'Basque Pelota'\n",
      " 'Alpinism' 'Aeronautics' 'Cycling Road' 'Artistic Gymnastics' 'Karate'\n",
      " 'Trampoline Gymnastics' 'Marathon Swimming' 'Canoe Slalom' 'Surfing'\n",
      " 'Canoe Sprint' 'Cycling BMX Racing' 'Equestrian' 'Artistic Swimming'\n",
      " 'Cycling Track' 'Skateboarding' 'Cycling Mountain Bike' '3x3 Basketball'\n",
      " 'Cycling BMX Freestyle' 'Sport Climbing' 'Breaking']\n"
     ]
    }
   ],
   "source": [
    "def replace_sport(sport):\n",
    "    if sport == 'Baseball/Softball':\n",
    "        return 'Softball'\n",
    "    elif sport == 'Baseball':\n",
    "        return 'Basketball'\n",
    "    else:\n",
    "        return sport\n",
    "\n",
    "# Apply the function to the 'Sport' column\n",
    "df['Sport'] = df['Sport'].apply(replace_sport)\n",
    "\n",
    "# Display unique values to verify\n",
    "print(df['Sport'].unique())"
   ]
  },
  {
   "cell_type": "code",
   "execution_count": 11,
   "id": "15c2e201-4707-4f97-9620-81b728270be3",
   "metadata": {},
   "outputs": [
    {
     "data": {
      "text/plain": [
       "69"
      ]
     },
     "execution_count": 11,
     "metadata": {},
     "output_type": "execute_result"
    }
   ],
   "source": [
    "df['Sport'].nunique()"
   ]
  },
  {
   "cell_type": "code",
   "execution_count": 12,
   "id": "11dc7cf3-1b29-4325-bce8-dfa56d9f0f7e",
   "metadata": {},
   "outputs": [
    {
     "name": "stdout",
     "output_type": "stream",
     "text": [
      "<class 'pandas.core.frame.DataFrame'>\n",
      "RangeIndex: 252565 entries, 0 to 252564\n",
      "Data columns (total 12 columns):\n",
      " #   Column      Non-Null Count   Dtype \n",
      "---  ------      --------------   ----- \n",
      " 0   player_id   252565 non-null  int64 \n",
      " 1   Name        252565 non-null  object\n",
      " 2   Sex         252565 non-null  object\n",
      " 3   NOC         252565 non-null  int64 \n",
      " 4   Year        252565 non-null  int64 \n",
      " 5   Season      252565 non-null  object\n",
      " 6   City        252565 non-null  object\n",
      " 7   Sport       252565 non-null  object\n",
      " 8   Event       252565 non-null  object\n",
      " 9   Medal       252565 non-null  object\n",
      " 10  Country     252565 non-null  object\n",
      " 11  won_or_not  252565 non-null  int64 \n",
      "dtypes: int64(4), object(8)\n",
      "memory usage: 23.1+ MB\n"
     ]
    }
   ],
   "source": [
    "df.info()"
   ]
  },
  {
   "cell_type": "code",
   "execution_count": 13,
   "id": "4fe941b2-2912-4008-9aa1-ab7bfb9b4071",
   "metadata": {},
   "outputs": [
    {
     "name": "stdout",
     "output_type": "stream",
     "text": [
      "{'Basketball': 0, 'Judo': 1, 'Football': 2, 'Tug-Of-War': 3, 'Athletics': 4, 'Swimming': 5, 'Badminton': 6, 'Sailing': 7, 'Gymnastics': 8, 'Art Competitions': 9, 'Handball': 10, 'Weightlifting': 11, 'Wrestling': 12, 'Water Polo': 13, 'Hockey': 14, 'Rowing': 15, 'Fencing': 16, 'Equestrianism': 17, 'Shooting': 18, 'Boxing': 19, 'Taekwondo': 20, 'Cycling': 21, 'Diving': 22, 'Canoeing': 23, 'Tennis': 24, 'Modern Pentathlon': 25, 'Golf': 26, 'Softball': 27, 'Archery': 28, 'Volleyball': 29, 'Synchronized Swimming': 30, 'Table Tennis': 31, 'Rhythmic Gymnastics': 32, 'Rugby Sevens': 33, 'Trampolining': 34, 'Beach Volleyball': 35, 'Triathlon': 36, 'Rugby': 37, 'Lacrosse': 38, 'Polo': 39, 'Cricket': 40, 'Ice Hockey': 41, 'Racquets': 42, 'Motorboating': 43, 'Croquet': 44, 'Figure Skating': 45, 'Jeu De Paume': 46, 'Roque': 47, 'Basque Pelota': 48, 'Alpinism': 49, 'Aeronautics': 50, 'Cycling Road': 51, 'Artistic Gymnastics': 52, 'Karate': 53, 'Trampoline Gymnastics': 54, 'Marathon Swimming': 55, 'Canoe Slalom': 56, 'Surfing': 57, 'Canoe Sprint': 58, 'Cycling BMX Racing': 59, 'Equestrian': 60, 'Artistic Swimming': 61, 'Cycling Track': 62, 'Skateboarding': 63, 'Cycling Mountain Bike': 64, '3x3 Basketball': 65, 'Cycling BMX Freestyle': 66, 'Sport Climbing': 67, 'Breaking': 68}\n"
     ]
    }
   ],
   "source": [
    "# List of country codes\n",
    "sport_codes = ['Basketball', 'Judo' ,'Football', 'Tug-Of-War', 'Athletics' ,'Swimming',\n",
    " 'Badminton' ,'Sailing', 'Gymnastics' ,'Art Competitions', 'Handball',\n",
    " 'Weightlifting' ,'Wrestling', 'Water Polo' ,'Hockey', 'Rowing' ,'Fencing',\n",
    " 'Equestrianism' ,'Shooting' ,'Boxing', 'Taekwondo' ,'Cycling' ,'Diving',\n",
    " 'Canoeing' ,'Tennis' ,'Modern Pentathlon' ,'Golf' ,'Softball' ,'Archery',\n",
    " 'Volleyball', 'Synchronized Swimming' ,'Table Tennis', 'Rhythmic Gymnastics',\n",
    " 'Rugby Sevens', 'Trampolining', 'Beach Volleyball', 'Triathlon' ,'Rugby',\n",
    " 'Lacrosse', 'Polo' ,'Cricket', 'Ice Hockey', 'Racquets' ,'Motorboating',\n",
    " 'Croquet' ,'Figure Skating' ,'Jeu De Paume', 'Roque' ,'Basque Pelota',\n",
    " 'Alpinism', 'Aeronautics' ,'Cycling Road', 'Artistic Gymnastics' ,'Karate',\n",
    " 'Trampoline Gymnastics', 'Marathon Swimming' ,'Canoe Slalom', 'Surfing',\n",
    " 'Canoe Sprint', 'Cycling BMX Racing', 'Equestrian','Artistic Swimming',\n",
    " 'Cycling Track', 'Skateboarding' ,'Cycling Mountain Bike' ,'3x3 Basketball',\n",
    " 'Cycling BMX Freestyle' ,'Sport Climbing', 'Breaking']\n",
    "\n",
    "# Create a mapping where each country code maps to a unique numerical value\n",
    "sport_mapping = {code: idx for idx, code in enumerate(sport_codes)}\n",
    "\n",
    "# Print the mapping (optional)\n",
    "print(sport_mapping)"
   ]
  },
  {
   "cell_type": "code",
   "execution_count": 14,
   "id": "08047203-f2a4-4366-81a3-d6c42679fadc",
   "metadata": {},
   "outputs": [],
   "source": [
    "df['Sport'] = df['Sport'].map(sport_mapping)"
   ]
  },
  {
   "cell_type": "code",
   "execution_count": 15,
   "id": "e72374fe-1075-44a4-aca8-e4b62c957413",
   "metadata": {},
   "outputs": [
    {
     "name": "stdout",
     "output_type": "stream",
     "text": [
      "<class 'pandas.core.frame.DataFrame'>\n",
      "RangeIndex: 252565 entries, 0 to 252564\n",
      "Data columns (total 12 columns):\n",
      " #   Column      Non-Null Count   Dtype \n",
      "---  ------      --------------   ----- \n",
      " 0   player_id   252565 non-null  int64 \n",
      " 1   Name        252565 non-null  object\n",
      " 2   Sex         252565 non-null  object\n",
      " 3   NOC         252565 non-null  int64 \n",
      " 4   Year        252565 non-null  int64 \n",
      " 5   Season      252565 non-null  object\n",
      " 6   City        252565 non-null  object\n",
      " 7   Sport       252565 non-null  int64 \n",
      " 8   Event       252565 non-null  object\n",
      " 9   Medal       252565 non-null  object\n",
      " 10  Country     252565 non-null  object\n",
      " 11  won_or_not  252565 non-null  int64 \n",
      "dtypes: int64(5), object(7)\n",
      "memory usage: 23.1+ MB\n"
     ]
    }
   ],
   "source": [
    "df.info()"
   ]
  },
  {
   "cell_type": "markdown",
   "id": "6b88a907-56fe-41b6-bc1a-0a92d40ff14f",
   "metadata": {},
   "source": [
    "# Event"
   ]
  },
  {
   "cell_type": "code",
   "execution_count": 16,
   "id": "4b794045-89f2-4ce7-b0fa-cbd0e65f3785",
   "metadata": {},
   "outputs": [
    {
     "data": {
      "text/plain": [
       "1041"
      ]
     },
     "execution_count": 16,
     "metadata": {},
     "output_type": "execute_result"
    }
   ],
   "source": [
    "df['Event'].nunique()"
   ]
  },
  {
   "cell_type": "code",
   "execution_count": 17,
   "id": "2fee38f0-3582-4f04-a182-a70298010fd9",
   "metadata": {},
   "outputs": [
    {
     "name": "stdout",
     "output_type": "stream",
     "text": [
      "Total unique events: 1041\n",
      "[\"Basketball Men's Basketball\", \"Judo Men's Extra-Lightweight\", \"Football Men's Football\", \"Tug-Of-War Men's Tug-Of-War\", \"Athletics Women's 100 metres\", \"Athletics Women's 4 x 100 metres Relay\", \"Swimming Men's 400 metres Freestyle\", \"Badminton Men's Singles\", \"Sailing Women's Windsurfer\", \"Swimming Men's 200 metres Breaststroke\", \"Swimming Men's 400 metres Breaststroke\", \"Gymnastics Men's Individual All-Around\", \"Gymnastics Men's Team All-Around\", \"Gymnastics Men's Floor Exercise\", \"Gymnastics Men's Horse Vault\", \"Gymnastics Men's Parallel Bars\", \"Gymnastics Men's Horizontal Bar\", \"Gymnastics Men's Rings\", \"Gymnastics Men's Pommelled Horse\", \"Athletics Men's Shot Put\", 'Art Competitions Mixed Sculpturing, Unknown Event', \"Handball Women's Handball\", \"Weightlifting Women's Super-Heavyweight\", \"Wrestling Men's Light-Heavyweight, Greco-Roman\", \"Gymnastics Men's Team All-Around, Free System\", \"Water Polo Men's Water Polo\", 'Sailing Mixed Three Person Keelboat', \"Hockey Women's Hockey\", \"Rowing Men's Lightweight Double Sculls\", \"Athletics Men's Pole Vault\", \"Athletics Men's High Jump\", \"Sailing Men's Two Person Dinghy\", \"Athletics Men's 1,500 metres\", \"Swimming Men's 100 metres Butterfly\", \"Swimming Men's 200 metres Butterfly\", \"Swimming Men's 4 x 100 metres Medley Relay\", \"Football Women's Football\", \"Fencing Men's Foil, Individual\", \"Fencing Men's epee, Individual\", \"Fencing Men's epee, Team\", 'Sailing Mixed 8 metres', 'Equestrianism Mixed Jumping, Individual', \"Shooting Men's Small-Bore Rifle, Prone, 50 metres\", \"Shooting Men's Rapid-Fire Pistol, 25 metres\", \"Shooting Men's Trap\", \"Athletics Men's 4 x 100 metres Relay\", \"Athletics Men's Long Jump\", \"Boxing Men's Light-Welterweight\", \"Athletics Women's Javelin Throw\", \"Wrestling Men's Heavyweight, Freestyle\", \"Taekwondo Men's Flyweight\", \"Boxing Men's Heavyweight\", \"Athletics Men's 5,000 metres\", \"Cycling Men's Road Race, Individual\", \"Cycling Men's Road Race, Team\", \"Weightlifting Men's Lightweight\", \"Weightlifting Men's Middleweight\", \"Rowing Men's Coxless Pairs\", \"Judo Men's Half-Middleweight\", \"Taekwondo Women's Flyweight\", \"Boxing Men's Flyweight\", \"Basketball Women's Basketball\", \"Diving Men's Platform\", \"Canoeing Men's Canadian Doubles, 500 metres\", \"Canoeing Men's Canadian Doubles, 1,000 metres\", \"Canoeing Men's Kayak Fours, 1,000 metres\", \"Handball Men's Handball\", \"Rowing Women's Coxless Pairs\", \"Boxing Men's Middleweight\", \"Judo Men's Lightweight\", \"Boxing Men's Featherweight\", \"Tennis Men's Doubles\", 'Shooting Mixed Skeet', \"Wrestling Men's Featherweight, Freestyle\", 'Sailing Mixed Two Person Heavyweight Dinghy', \"Athletics Women's Shot Put\", \"Rowing Men's Coxed Eights\", \"Cycling Women's Sprint\", \"Cycling Women's 500 metres Time Trial\", \"Athletics Men's 110 metres Hurdles\", 'Shooting Mixed Trap', \"Athletics Women's Marathon\", \"Athletics Men's 100 metres\", \"Fencing Men's Foil, Team\", \"Fencing Men's Sabre, Team\", \"Swimming Men's 100 metres Freestyle\", \"Swimming Men's 4 x 200 metres Freestyle Relay\", \"Boxing Men's Lightweight\", \"Modern Pentathlon Men's Individual\", \"Boxing Men's Welterweight\", \"Rowing Men's Quadruple Sculls\", \"Rowing Men's Double Sculls\", \"Rowing Men's Coxed Pairs\", \"Athletics Men's 400 metres Hurdles\", \"Athletics Men's 400 metres\", \"Athletics Men's Hammer Throw\", \"Weightlifting Men's Featherweight\", \"Athletics Men's 800 metres\", \"Hockey Men's Hockey\", \"Rowing Women's Single Sculls\", \"Swimming Men's 50 metres Freestyle\", \"Weightlifting Women's Featherweight\", \"Water Polo Women's Water Polo\", \"Weightlifting Men's Heavyweight\", 'Equestrianism Mixed Three-Day Event, Individual', 'Equestrianism Mixed Three-Day Event, Team', \"Sailing Women's Three Person Keelboat\", \"Cycling Women's Road Race, Individual\", \"Golf Women's Individual\", \"Softball Women's Softball\", \"Archery Women's Individual\", \"Wrestling Men's Heavyweight, Greco-Roman\", \"Volleyball Men's Volleyball\", \"Taekwondo Women's Heavyweight\", \"Synchronized Swimming Women's Duet\", \"Synchronized Swimming Women's Team\", \"Taekwondo Women's Featherweight\", \"Athletics Men's Marathon\", \"Athletics Men's 4 x 400 metres Relay\", \"Athletics Men's 10,000 metres\", \"Athletics Women's 3,000 metres\", \"Diving Women's Platform\", \"Shooting Men's Air Rifle, 10 metres\", \"Athletics Men's 200 metres\", \"Weightlifting Men's Flyweight\", \"Swimming Men's 100 metres Backstroke\", \"Weightlifting Men's Light-Heavyweight\", \"Wrestling Men's Lightweight, Greco-Roman\", \"Fencing Men's Sabre, Individual\", \"Wrestling Men's Super-Heavyweight, Greco-Roman\", \"Shooting Men's Free Pistol, 50 metres\", \"Shooting Men's Air Pistol, 10 metres\", \"Rowing Men's Coxless Fours\", \"Boxing Men's Light-Flyweight\", \"Boxing Men's Super-Heavyweight\", \"Wrestling Men's Flyweight, Greco-Roman\", \"Shooting Women's Air Rifle, 10 metres\", \"Weightlifting Men's Middle-Heavyweight\", \"Athletics Men's Javelin Throw\", \"Volleyball Women's Volleyball\", \"Wrestling Men's Welterweight, Greco-Roman\", \"Wrestling Men's Middleweight, Greco-Roman\", \"Athletics Men's 3,000 metres Steeplechase\", \"Wrestling Men's Middleweight, Freestyle\", \"Swimming Women's 100 metres Backstroke\", \"Swimming Women's 200 metres Backstroke\", \"Swimming Women's 4 x 100 metres Medley Relay\", \"Wrestling Men's Light-Heavyweight, Freestyle\", \"Modern Pentathlon Men's Team\", \"Boxing Men's Bantamweight\", \"Athletics Women's 200 metres\", \"Table Tennis Women's Singles\", \"Table Tennis Women's Doubles\", \"Shooting Men's Skeet\", \"Swimming Women's 50 metres Freestyle\", \"Shooting Men's Small-Bore Rifle, Three Positions, 50 metres\", \"Athletics Men's Triple Jump\", \"Weightlifting Women's Lightweight\", \"Athletics Women's Long Jump\", \"Fencing Women's epee, Individual\", \"Swimming Men's 200 metres Freestyle\", \"Swimming Men's 4 x 100 metres Freestyle Relay\", \"Swimming Men's 200 metres Backstroke\", \"Swimming Men's 200 metres Individual Medley\", \"Swimming Men's 400 metres Individual Medley\", \"Badminton Women's Singles\", \"Boxing Men's Light-Middleweight\", \"Tennis Men's Singles\", \"Wrestling Men's Bantamweight, Freestyle\", \"Wrestling Men's Flyweight, Freestyle\", \"Athletics Women's 5,000 metres\", \"Weightlifting Women's Light-Heavyweight\", \"Weightlifting Women's Heavyweight\", \"Athletics Men's Discus Throw\", \"Taekwondo Men's Featherweight\", \"Taekwondo Men's Welterweight\", \"Judo Men's Heavyweight\", \"Cycling Men's Sprint\", \"Wrestling Men's Lightweight, Freestyle\", \"Baseball Men's Baseball\", \"Rowing Men's Coxed Fours\", \"Cycling Men's 100 kilometres Team Time Trial\", \"Rhythmic Gymnastics Women's Group\", 'Art Competitions Mixed Architecture, Designs For Town Planning', 'Art Competitions Mixed Architecture, Architectural Designs', \"Gymnastics Women's Individual All-Around\", \"Gymnastics Women's Team All-Around\", \"Gymnastics Women's Floor Exercise\", \"Gymnastics Women's Horse Vault\", \"Gymnastics Women's Uneven Bars\", \"Gymnastics Women's Balance Beam\", \"Diving Women's Springboard\", \"Diving Women's Synchronized Springboard\", \"Athletics Women's 10,000 metres\", 'Sailing Mixed 7 metres', \"Judo Women's Half-Middleweight\", \"Athletics Men's Decathlon\", \"Wrestling Men's Middleweight A, Greco-Roman\", \"Athletics Women's Discus Throw\", \"Swimming Women's 4 x 100 metres Freestyle Relay\", \"Athletics Women's 1,500 metres\", \"Shooting Women's Air Pistol, 10 metres\", \"Shooting Women's Sporting Pistol, 25 metres\", \"Canoeing Men's Kayak Doubles, 500 metres\", \"Canoeing Men's Kayak Singles, 500 metres\", \"Canoeing Men's Kayak Singles, 1,000 metres\", \"Shooting Men's Running Target, 50 metres\", \"Judo Women's Half-Heavyweight\", \"Athletics Women's Pole Vault\", \"Rugby Sevens Women's Rugby Sevens\", \"Table Tennis Men's Team\", \"Rowing Women's Coxed Eights\", \"Athletics Women's 4 x 400 metres Relay\", \"Cycling Men's 1,000 metres Time Trial\", \"Cycling Men's Individual Pursuit, 4,000 metres\", \"Wrestling Men's Welterweight, Freestyle\", \"Wrestling Men's Bantamweight, Greco-Roman\", \"Rowing Women's Lightweight Double Sculls\", \"Athletics Women's 800 metres\", \"Rowing Women's Coxed Quadruple Sculls\", \"Rhythmic Gymnastics Women's Individual\", \"Canoeing Men's Kayak Singles, Slalom\", \"Archery Men's Individual\", \"Archery Men's Team\", \"Athletics Women's 400 metres\", \"Trampolining Men's Individual\", \"Beach Volleyball Men's Beach Volleyball\", \"Cycling Women's Mountainbike, Cross-Country\", \"Athletics Men's Javelin Throw, Both Hands\", \"Triathlon Women's Olympic Distance\", \"Gymnastics Women's Team Portable Apparatus\", \"Cycling Men's Mountainbike, Cross-Country\", \"Athletics Women's 400 metres Hurdles\", \"Diving Men's Springboard\", \"Wrestling Men's Featherweight, Greco-Roman\", \"Table Tennis Men's Singles\", 'Art Competitions Mixed Painting', \"Judo Men's Open Class\", \"Rowing Women's Quadruple Sculls\", \"Gymnastics Men's Team All-Around, Swedish System\", \"Athletics Women's Pentathlon\", 'Art Competitions Mixed Painting, Unknown Event', \"Cycling Men's Team Pursuit, 4,000 metres\", \"Weightlifting Women's Middleweight\", \"Swimming Men's 1,500 metres Freestyle\", \"Wrestling Women's Light-Heavyweight, Freestyle\", \"Swimming Women's 100 metres Freestyle\", \"Equestrianism Men's Jumping, Individual\", \"Equestrianism Men's Jumping, Team\", \"Equestrianism Men's Three-Day Event, Individual\", \"Equestrianism Men's Three-Day Event, Team\", \"Athletics Women's High Jump\", \"Canoeing Women's Kayak Fours, 500 metres\", \"Sailing Men's One Person Dinghy\", \"Trampolining Women's Individual\", 'Art Competitions Mixed Literature', \"Judo Men's Middleweight\", \"Judo Men's Half-Lightweight\", \"Fencing Women's Foil, Team\", \"Swimming Women's 200 metres Butterfly\", \"Swimming Women's 400 metres Individual Medley\", \"Golf Men's Individual\", \"Athletics Men's Standing High Jump\", \"Athletics Men's Standing Long Jump\", \"Athletics Men's 20 kilometres Walk\", \"Swimming Men's 220 yard Freestyle\", \"Swimming Men's 880 yard Freestyle\", \"Swimming Men's One Mile Freestyle\", \"Swimming Men's 4 x 50 Yard Freestyle Relay\", \"Swimming Men's Plunge For Distance\", \"Shooting Men's Free Rifle, Three Positions, 300 metres\", \"Shooting Men's Military Rifle, Three Positions, 300 metres\", \"Shooting Men's Military Rifle, Any Position, 600 metres\", \"Shooting Men's Military Rifle, 200, 400, 500 and 600 metres, Team\", \"Shooting Men's Military Rifle, Prone, 300 metres\", \"Judo Men's Half-Heavyweight\", \"Archery Women's Team\", \"Athletics Men's 50 kilometres Walk\", \"Rowing Women's Double Sculls\", 'Sailing Mixed 6 metres', \"Boxing Men's Light-Heavyweight\", \"Boxing Women's Flyweight\", \"Athletics Women's 100 metres Hurdles\", \"Athletics Men's Discus Throw, Greek Style\", 'Sailing Mixed One Person Dinghy', \"Wrestling Women's Heavyweight, Freestyle\", 'Badminton Mixed Doubles', \"Fencing Women's Foil, Individual\", 'Sailing Mixed Two Person Keelboat', \"Shooting Men's Military Rifle, 300 metres and 600 metres, Prone, Team\", \"Table Tennis Men's Doubles\", \"Wrestling Men's Light-Flyweight, Freestyle\", \"Wrestling Women's Featherweight, Freestyle\", \"Swimming Women's 200 metres Freestyle\", \"Swimming Women's 400 metres Freestyle\", \"Swimming Women's 200 metres Individual Medley\", \"Sailing Men's Windsurfer\", \"Shooting Men's Running Target, Single Shot\", \"Shooting Men's Running Target, Double Shot\", \"Rugby Sevens Men's Rugby Sevens\", \"Wrestling Women's Lightweight, Freestyle\", \"Modern Pentathlon Women's Individual\", \"Canoeing Men's Canadian Doubles, Slalom\", \"Judo Women's Half-Lightweight\", \"Diving Women's Plain High\", \"Equestrianism Men's Dressage, Individual\", \"Equestrianism Men's Dressage, Team\", \"Tennis Women's Singles, Covered Courts\", \"Diving Men's Plain High\", 'Shooting Mixed Small-Bore Rifle, Three Positions, 50 metres', 'Shooting Mixed Small-Bore Rifle, Prone, 50 metres', \"Swimming Women's 800 metres Freestyle\", \"Sailing Women's Two Person Dinghy\", \"Shooting Men's Free Pistol, 50 metres, Team\", \"Shooting Men's Free Rifle, Three Positions, 300 metres, Team\", \"Shooting Men's Military Rifle, Prone, 300 metres, Team\", \"Shooting Men's Military Rifle, Prone, 600 metres, Team\", \"Shooting Men's Military Rifle, Standing, 300 metres, Team\", \"Shooting Men's Free Rifle, Prone, 600 metres\", \"Shooting Men's Free Rifle, 400, 600 and 800 metres, Team\", \"Rowing Men's Single Sculls\", \"Cycling Men's Tandem Sprint, 2,000 metres\", \"Athletics Women's Heptathlon\", \"Cycling Men's Points Race\", \"Synchronized Swimming Women's Solo\", 'Equestrianism Mixed Dressage, Individual', 'Equestrianism Mixed Dressage, Team', \"Swimming Men's 100 metres Breaststroke\", 'Shooting Mixed Free Pistol, 50 metres', \"Sailing Women's Skiff\", \"Canoeing Men's Kayak Doubles, 10,000 metres\", \"Triathlon Men's Olympic Distance\", \"Sailing Women's One Person Dinghy\", \"Rowing Men's 17-Man Naval Rowing Boats\", \"Beach Volleyball Women's Beach Volleyball\", \"Weightlifting Men's Super-Heavyweight\", \"Rowing Men's Lightweight Coxless Fours\", \"Wrestling Men's Light-Flyweight, Greco-Roman\", \"Canoeing Men's Canadian Singles, 1,000 metres\", 'Sailing Mixed 5.5 metres', 'Equestrianism Mixed Jumping, Team', \"Diving Men's Synchronized Platform\", \"Canoeing Women's Kayak Singles, Slalom\", \"Weightlifting Women's Flyweight\", \"Swimming Women's 100 metres Breaststroke\", \"Swimming Women's 200 metres Breaststroke\", \"Wrestling Men's Middleweight B, Greco-Roman\", \"Athletics Men's Stone Throw\", \"Athletics Men's Javelin Throw, Freestyle\", \"Athletics Men's Pentathlon (Ancient)\", \"Shooting Women's Small-Bore Rifle, Three Positions, 50 metres\", \"Swimming Women's 100 metres Butterfly\", \"Weightlifting Men's Heavyweight I\", \"Athletics Women's 3,000 metres Steeplechase\", \"Athletics Men's Shot Put, Both Hands\", \"Shooting Women's Trap\", \"Badminton Men's Doubles\", \"Swimming Women's 4 x 200 metres Freestyle Relay\", \"Athletics Men's 10 kilometres Walk\", \"Athletics Women's 20 kilometres Walk\", \"Athletics Women's 80 metres Hurdles\", \"Sailing Men's One Person Heavyweight Dinghy\", 'Art Competitions Mixed Painting, Paintings', 'Tennis Mixed Doubles, Covered Courts', \"Cycling Men's Madison\", 'Art Competitions Mixed Sculpturing, Statues', \"Rugby Men's Rugby\", \"Weightlifting Men's Heavyweight II\", \"Canoeing Women's Kayak Doubles, 500 metres\", \"Cycling Men's Individual Time Trial\", \"Judo Women's Heavyweight\", \"Canoeing Men's Kayak Doubles, 1,000 metres\", \"Gymnastics Men's Individual All-Around, 5 Events\", \"Wrestling Men's Super-Heavyweight, Freestyle\", \"Fencing Women's Sabre, Team\", \"Shooting Men's Double Trap\", \"Weightlifting Men's Bantamweight\", \"Taekwondo Men's Heavyweight\", 'Sailing Mixed Windsurfer', \"Taekwondo Women's Welterweight\", 'Shooting Mixed Free Rifle, Three Positions, 300 metres', \"Cycling Men's 50 kilometres\", 'Shooting Mixed Rapid-Fire Pistol, 25 metres', \"Cycling Men's 333 metres Time Trial\", \"Cycling Men's 20 kilometres\", \"Canoeing Men's Kayak Singles, 10,000 metres\", 'Sailing Mixed Open', 'Sailing Mixed 1-2 Ton', \"Canoeing Men's Canadian Singles, Slalom\", 'Sailing Mixed Multihull', \"Badminton Women's Doubles\", \"Diving Women's Synchronized Platform\", \"Athletics Women's Triple Jump\", 'Art Competitions Mixed Painting, Drawings And Water Colors', \"Shooting Men's Dueling Pistol, 30 metres\", \"Boxing Women's Lightweight\", \"Cycling Women's BMX\", \"Canoeing Men's Kayak Doubles, 200 metres\", \"Fencing Men's Sabre, Masters, Individual\", \"Lacrosse Men's Lacrosse\", \"Canoeing Women's Kayak Singles, 500 metres\", \"Athletics Women's 10 kilometres Walk\", 'Sailing Mixed 12 metres', \"Judo Women's Extra-Lightweight\", \"Diving Men's Synchronized Springboard\", \"Rowing Men's Coxed Fours, Outriggers\", \"Gymnastics Men's Rope Climbing\", 'Sailing Mixed Two Person Dinghy', 'Art Competitions Mixed Architecture, Unknown Event', \"Archery Men's Target Archery, 28 metres, Team\", \"Archery Men's Target Archery, 33 metres, Team\", \"Archery Men's Target Archery, 50 metres, Team\", \"Shooting Men's Running Target, 10 metres\", \"Polo Men's Polo\", \"Rowing Men's Coxed Fours, Inriggers\", \"Cycling Men's BMX\", 'Art Competitions Mixed Sculpturing', \"Athletics Men's Cross-Country, Individual\", \"Athletics Men's Cross-Country, Team\", 'Sailing Mixed 40 metres', \"Gymnastics Men's Club Swinging\", \"Tennis Women's Singles\", 'Tennis Mixed Doubles', \"Tennis Women's Doubles\", \"Judo Women's Middleweight\", \"Judo Women's Lightweight\", \"Canoeing Women's Kayak Singles, 200 metres\", \"Canoeing Men's Kayak Relay 4 x 500 metres\", \"Athletics Men's 3,000 metres, Team\", \"Shooting Men's Small-Bore Rifle, Prone, 50 and 100 yards\", \"Shooting Men's Small-Bore Rifle, 50 and 100 yards, Team\", \"Shooting Men's Small-Bore Rifle, Disappearing Target, 25 yards\", \"Shooting Men's Small-Bore Rifle, Moving Target, 25 yards\", \"Shooting Men's Military Pistol, Team\", \"Rowing Women's Coxed Fours\", \"Weightlifting Men's Unlimited, One Hand\", \"Canoeing Men's Canadian Singles, 500 metres\", \"Fencing Men's Foil, Masters, Individual\", \"Fencing Men's epee, Masters, Individual\", \"Gymnastics Men's Individual All-Around, Field Sports\", \"Gymnastics Men's Individual All-Around, Apparatus Work\", 'Art Competitions Mixed Music, Compositions For Solo Or Chorus', \"Fencing Women's epee, Team\", \"Swimming Men's 4,000 metres Freestyle\", \"Swimming Men's Underwater Swimming\", 'Sailing Mixed Skiff', \"Shooting Men's Military Rifle, 200/500/600/800/900/1,000 Yards, Team\", \"Shooting Men's Running Target, Single And Double Shot\", \"Shooting Men's Small-Bore Rifle, Any Position, 50 metres\", \"Shooting Men's Small-Bore Rifle, Disappearing Target, 25 metres\", \"Swimming Women's 10 kilometres Open Water\", \"Cycling Men's Team Pursuit, 1,980 yards\", \"Cycling Men's 5,000 metres\", \"Cycling Men's 100 kilometres\", \"Cricket Men's Cricket\", \"Canoeing Men's Canadian Singles, 10,000 metres\", \"Boxing Women's Middleweight\", \"Sailing Men's Skiff\", \"Athletics Men's Pentathlon\", \"Swimming Men's 1,200 metres Freestyle\", \"Shooting Women's Skeet\", \"Cycling Men's 1/4 mile\", \"Cycling Men's 1/2 mile\", \"Cycling Men's 5 mile\", \"Cycling Men's 25 mile\", \"Shooting Men's Small-Bore Rifle, Standing, 50 metres\", \"Shooting Men's Small Bore-Rifle, Standing, 50 metres, Team\", \"Shooting Men's Free Rifle, 1,000 Yards\", \"Cycling Women's Team Pursuit\", \"Athletics Men's 3,000 metres Walk\", 'Shooting Mixed Running Target, 50 metres', \"Cycling Women's Individual Time Trial\", \"Fencing Women's Sabre, Individual\", \"Fencing Men's Sabre, Individual, Three Hits\", \"Archery Women's Double National Round\", \"Cycling Men's Omnium\", 'Equestrianism Mixed Hacks And Hunter Combined', 'Sailing Mixed 10 metres', \"Shooting Men's Trap, Team\", \"Cycling Women's Individual Pursuit, 3,000 metres\", \"Cycling Women's Points Race\", \"Sailing Men's Two Person Keelboat\", \"Cycling Men's Keirin\", \"Cycling Men's Team Sprint\", \"Athletics Men's 5 mile\", \"Shooting Men's Running Target, Single Shot, Team\", \"Ice Hockey Men's Ice Hockey\", \"Racquets Men's Singles\", \"Racquets Men's Doubles\", 'Art Competitions Mixed Literature, Lyric Works', 'Motorboating Mixed A-Class (Open)', \"Archery Men's Continental Style\", 'Art Competitions Mixed Painting, Graphic Arts', \"Wrestling Women's Flyweight, Freestyle\", 'Art Competitions Mixed Literature, Unknown Event', 'Sailing Mixed 0.5-1 Ton', 'Art Competitions Mixed Painting, Applied Arts', 'Croquet Mixed Singles, One Ball', 'Croquet Mixed Doubles', \"Shooting Men's Running Target, Double Shot, Team\", \"Shooting Men's Free Pistol, 50 yards\", \"Shooting Men's Free Pistol, 50 yards, Team\", \"Fencing Men's epee, Masters and Amateurs, Individual\", \"Swimming Men's 10 kilometres Open Water\", 'Art Competitions Mixed Music, Compositions For Orchestra', \"Archery Men's Double York Round\", \"Wrestling Women's Middleweight, Freestyle\", \"Equestrianism Men's Vaulting, Individual\", \"Swimming Men's 4 x 250 metres Freestyle Relay\", \"Table Tennis Women's Team\", \"Athletics Women's Hammer Throw\", \"Canoeing Men's Kayak Singles, 200 metres\", \"Shooting Women's Double Trap\", \"Rowing Men's 6-Man Naval Rowing Boats\", 'Art Competitions Mixed Music', \"Shooting Men's Free Rifle, Kneeling, 300 metres\", \"Shooting Men's Free Rifle, Prone, 300 metres\", \"Shooting Men's Free Rifle, Standing, 300 metres\", \"Athletics Men's 3,200 metres Steeplechase\", \"Rowing Women's Coxless Fours\", \"Tennis Men's Doubles, Covered Courts\", \"Tennis Men's Singles, Covered Courts\", \"Cycling Men's 25 kilometres\", \"Shooting Men's Military Rifle, 200 metres\", \"Athletics Men's Standing Triple Jump\", \"Rowing Men's Coxed Pairs (1 kilometres)\", \"Shooting Men's Military Pistol, 30 metres\", \"Cycling Women's Keirin\", \"Archery Men's Au Cordon Dore, 50 metres\", \"Figure Skating Men's Singles\", 'Figure Skating Mixed Pairs', \"Swimming Women's 300 metres Freestyle\", \"Canoeing Men's Canadian Singles, 200 metres\", 'Sailing Mixed 30 metres', \"Athletics Men's 4,000 metres Steeplechase\", \"Athletics Men's 5,000 metres, Team\", \"Rowing Men's Coxed Pairs (1 mile)\", 'Art Competitions Mixed Unknown Event', \"Cycling Women's Omnium\", \"Swimming Men's 200 metres Obstacle Course\", \"Swimming Men's 200 metres Team Swimming\", 'Sailing Mixed 12 foot', 'Art Competitions Mixed Music, Instrumental And Chamber', 'Art Competitions Mixed Music, Vocals', 'Art Competitions Mixed Literature, Dramatic Works', \"Jeu De Paume Men's Singles\", 'Sailing Mixed 10-20 Ton', \"Cycling Men's 1/3 mile\", \"Cycling Men's 1 mile\", \"Cycling Men's 2 mile\", 'Art Competitions Mixed Sculpturing, Medals And Plaques', \"Athletics Men's 1,600 metres Medley Relay\", 'Croquet Mixed Singles, Two Balls', \"Canoeing Men's Folding Kayak Doubles, 10 kilometres\", \"Athletics Men's 60 metres\", 'Sailing Mixed 2-3 Ton', \"Shooting Men's Military Rifle, Prone, 600 metres\", \"Canoeing Men's Canadian Doubles, 10,000 metres\", \"Shooting Men's Dueling Pistol, 30 metres, Team\", \"Gymnastics Men's Parallel Bars, Teams\", \"Gymnastics Men's Horizontal Bar, Teams\", \"Shooting Men's Small-Bore Rifle, Disappearing Target, 25 metres, Team\", 'Art Competitions Mixed Sculpturing, Medals And Reliefs', \"Athletics Men's 1,500 metres Walk\", \"Athletics Men's 3 mile, Team\", 'Art Competitions Mixed Sculpturing, Medals', \"Shooting Men's Military Rifle, Kneeling Or Standing, 300 metres\", \"Equestrianism Men's Vaulting, Team\", \"Shooting Men's Free Rifle, Any Position, 300 metres\", \"Shooting Men's Military Rifle, 1873-1874 Gras Model, Kneeling Or Standing, 200 metres\", \"Swimming Men's 100 Yard Backstroke\", \"Swimming Men's 440 Yard Breaststroke\", 'Art Competitions Mixed Literature, Epic Works', 'Art Competitions Mixed Architecture', \"Athletics Men's 3,500 metres Walk\", \"Roque Men's Singles\", \"Gymnastics Men's Side Horse\", \"Archery Men's Double American Round\", \"Archery Men's Team Round\", \"Archery Men's Target Archery, 33 metres, Individual\", \"Archery Men's Target Archery, 50 metres, Individual\", \"Swimming Men's 1,000 metres Freestyle\", \"Athletics Men's 10 mile Walk\", \"Athletics Men's Discus Throw, Both Hands\", \"Golf Men's Team\", 'Sailing Mixed 0-0.5 Ton', 'Sailing Mixed 20+ Ton', \"Cycling Women's Team Sprint\", \"Weightlifting Men's Unlimited, Two Hands\", \"Shooting Men's Free Pistol, 25 metres\", \"Shooting Men's Military Revolver, 1873-1874 Gras Model, 20 metres\", \"Shooting Men's Military Revolver, 20 metres\", \"Shooting Men's Dueling Pistol Au Vise 20 metres\", \"Shooting Men's Dueling Pistol Au Commandement, 25 metres\", \"Shooting Men's Small-Bore Rifle, Prone, 50 metres, Team\", 'Sailing Mixed 6.5 metres', \"Athletics Men's 200 metres Hurdles\", \"Athletics Men's 56-pound Weight Throw\", 'Equestrianism Mixed Four-In-Hand Competition', \"Athletics Men's 2,500 metres Steeplechase\", 'Art Competitions Mixed Music, Unknown Event', \"Athletics Men's All-Around Championship\", \"Archery Men's Pole Archery, Small Birds, Individual\", \"Archery Men's Pole Archery, Large Birds, Individual\", \"Archery Men's Pole Archery, Small Birds, Team\", \"Archery Men's Pole Archery, Large Birds, Team\", \"Athletics Men's 2,590 metres Steeplechase\", \"Archery Women's Double Columbia Round\", \"Athletics Men's 4 mile, Team\", \"Figure Skating Men's Special Figures\", \"Shooting Men's Military Rifle, Standing, 300 metres\", \"Swimming Men's 50 yard Freestyle\", \"Swimming Men's 100 yard Freestyle\", \"Swimming Men's 440 yard Freestyle\", \"Basque Pelota Men's Two-Man Teams With Cesta\", \"Shooting Men's Trap, Single Shot, 16 metres\", \"Shooting Men's Trap, Double Shot, 14 metres\", 'Equestrianism Mixed Long Jump', \"Canoeing Men's Folding Kayak Singles, 10 kilometres\", \"Shooting Men's Free Pistol, 30 metres\", \"Shooting Men's Military Pistol, 25 metres\", \"Swimming Men's 100 metres Freestyle For Sailors\", \"Archery Men's Sur La Perche a La Herse\", 'Sailing Mixed 3-10 Ton', \"Gymnastics Men's Individual All-Around, 4 Events\", 'Alpinism Mixed Alpinism', \"Wrestling Men's Unlimited Class, Greco-Roman\", 'Motorboating Mixed B-Class (Under 60 Feet)', 'Motorboating Mixed C-Class', \"Cycling Men's 10,000 metres\", 'Art Competitions Mixed Sculpturing, Reliefs', \"Shooting Men's Muzzle-Loading Pistol, 25 metres\", 'Equestrianism Mixed High Jump', \"Archery Men's Sur La Perche a La Pyramide\", \"Fencing Men's Single Sticks, Individual\", \"Figure Skating Women's Singles\", \"Gymnastics Men's Tumbling\", \"Shooting Men's Unknown Event\", 'Sailing Mixed 18 foot', \"Archery Men's Unknown Event\", \"Archery Men's Au Chapelet, 50 metres\", \"Archery Men's Championnat Du Monde\", \"Archery Women's Team Round\", \"Wrestling Men's All-Around, Greco-Roman\", \"Cycling Men's 12-Hours Race\", \"Swimming Men's 500 metres Freestyle\", \"Weightlifting Men's All-Around Dumbbell Contest\", \"Archery Men's Au Chapelet, 33 metres\", \"Archery Men's Au Cordon Dore, 33 metres\", \"Archery Men's Target Archery, 28 metres, Individual\", 'Aeronautics Mixed Aeronautics', \"Women's Road Race\", \"Women's Individual Time Trial\", \"Men's All-Around\", \"Men's Floor Exercise\", \"Men's Pommel Horse\", \"Men's Rings\", \"Men's Vault\", \"Men's Parallel Bars\", \"Men's Horizontal Bar\", \"Men's Team\", \"Men's Pair Team\", 'Men Team', 'Women Team', \"Lightweight Men's Double Sculls Team\", \"Men's 100m Breaststroke\", \"Women's Kumite +61kg\", \"Men's Greco-Roman 87kg\", 'Group All-Around Team', 'Softball Team', \"Men's 800m\", 'Men -73 kg', '10m Air Pistol Women', '10m Air Pistol Mixed Team', '10m Air Pistol Men', 'Men -81 kg', \"Men's Kumite -75kg\", \"Women's Team\", 'Men -66 kg', \"Men's Freestyle 125kg\", \"Men's Javelin Throw\", 'Women -49kg', \"Men's 3000m Steeplechase\", \"Men's Marathon\", \"Women's All-Around\", \"Women's Vault\", \"Women's Uneven Bars\", \"Women's Balance Beam\", \"Women's Floor Exercise\", \"Women's Épée Individual\", \"Women's Singles\", \"Men's Heavy (81-91kg)\", \"Men's Freestyle 57kg\", \"Men's Greco-Roman 130kg\", \"Men's 73kg\", \"Men's Super Heavy (+91kg)\", \"Men's Individual\", \"Men's Light (57-63kg)\", \"Men's Freestyle 74kg\", 'Mixed Team', \"Men's 400m Hurdles\", 'Women -52 kg', \"Women's 3000m Steeplechase\", \"Men's Sabre Individual\", \"Men's Sabre Team\", \"Women's 3m Springboard\", \"Women's Synchronised 3m Springboard Team\", \"Men's Singles\", \"Men's 100m Freestyle\", \"Women's Skiff - 49er  Team\", \"Men's 5000m\", \"Women's 100m\", \"Men's Foil Individual\", \"Men's Foil Team\", \"Women's 76kg\", \"Women's 400m\", \"Men's Shot Put\", 'Men', \"Men's 10km\", \"Women's Single Sculls\", \"Men's 1500m Freestyle\", \"Men's 4 x 400m Relay Team\", '4 x 400m Relay Mixed Team', 'Mixed 4 x 100m Medley Relay Team', 'Men -68kg', 'Mixed Doubles Team', 'Skeet Men', \"Men's Greco-Roman 97kg\", \"Men's 4 x 100m Freestyle Relay Team\", \"Women's Individual\", 'Women +67kg', \"Men's 800m Freestyle\", \"Men's Kayak\", \"Men's Eight Team\", \"Women's 4 x 100m Relay Team\", 'Women -57kg', \"Women's 100m Breaststroke\", \"Women's Shot Put\", \"Men's 96kg\", \"Women's Freestyle 76kg\", \"Men's 100m\", \"Women's Freestyle 57kg\", \"Women's Freestyle 62kg\", 'Individual All-Around', 'Women +78 kg', 'Women', \"Men's Canoe Single 1000m\", \"Men's Canoe Double 1000m Team\", \"Men's Double Sculls Team\", \"Women's Quadruple Sculls Team\", \"Men's Two Person Dinghy - 470 Team\", \"Women's 1500m\", \"Men's 400m\", \"Women's 50m Freestyle\", 'Women -63 kg', \"Men's Kayak Single 1000m\", \"Men's Triple Jump\", \"Men's Freestyle 86kg\", \"Men's 50km Race Walk\", 'Women -78 kg', \"Women's Heptathlon\", \"Women's 10m Platform\", \"Women's Synchronised 10m Platform Team\", \"Men's Welter (63-69kg)\", \"Men's 100m Butterfly\", \"Women's Freestyle 68kg\", \"Men's 10,000m\", \"Women's Kayak Single 200m\", \"Women's Kayak Single 500m\", \"Men's Doubles Team\", \"Women's 4 x 100m Freestyle Relay Team\", \"Women's Pair Team\", \"Men's Greco-Roman 60kg\", \"Women's 49kg\", \"Men's Greco-Roman 77kg\", \"Men's 4 x 100m Relay Team\", '10m Air Rifle Men', '50m Rifle 3 Positions Men', \"Women's Freestyle 53kg\", '25m Rapid Fire Pistol Men', \"Men's High Jump\", \"Women's Welter (64-69kg)\", 'Men -60 kg', \"Women's +87kg\", \"Men's Freestyle 65kg\", \"Men's Kayak Single 200m\", \"Men's Kumite +75kg\", 'Jumping Team', 'Jumping Individual', 'Trap Men', \"Men's Single Sculls\", \"Men's Greco-Roman 67kg\", \"Men's Fly (48-52kg)\", 'Mixed Relay Team', 'Men +80kg', 'Mixed Multihull - Nacra 17 Foiling Team', 'Women -57 kg', \"Women's Eight Team\", 'Team', \"Women's 59kg\", \"Women's 800m\", 'Men -80kg', 'Duet Team', \"Women's Light (57-60kg)\", \"Men's Light Heavy (75-81kg)\", 'Eventing Team', 'Eventing Individual', \"Women's Feather (54-57kg)\", 'Trap Women', 'Trap Mixed Team', \"Men's Feather (52-57kg)\", \"Men's 110m Hurdles\", \"Men's 81kg\", 'Baseball Team', \"Men's 200m Breaststroke\", \"Women's Discus Throw\", \"Women's 4 x 400m Relay Team\", \"Men's Kumite -67kg\", \"Men's Road Race\", \"Men's Individual Time Trial\", \"Women's 4 x 200m Freestyle Relay Team\", \"Men's Kata\", \"Women's 100m Butterfly\", 'Women -67kg', \"Men's 61kg\", \"Lightweight Women's Double Sculls Team\", 'Women -48 kg', \"Men's 400m Freestyle\", \"Men's 200m Freestyle\", \"Women's Team Pursuit Team\", \"Men's Middle (69-75kg)\", \"Men's 200m\", \"Men's Skiff - 49er Team\", \"Women's 100m Hurdles\", \"Women's Marathon\", \"Women's Kata\", 'Men -90 kg', \"Men's Hammer Throw\", 'Skeet Women', \"Men's Individual Stroke Play\", \"Women's Hammer Throw\", \"Men's Park\", \"Women's 100m Freestyle\", \"Women's 200m Freestyle\", \"Women's 4 x 100m Medley Relay Team\", \"Women's 10km\", '4 x 400m Relay Mixed', \"Women's 20km Race Walk\", \"Women's 200m Individual Medley\", \"Women's 64kg\", \"Women's 10,000m\", \"Men's 1500m\", \"Women's Canoe Single 200m\", \"Women's Canoe Double 500m Team\", \"Women's Javelin Throw\", \"Men's 50m Freestyle\", \"Men's 200m Individual Medley\", \"Men's 4 x 100m Medley Relay Team\", \"Women's Sprint\", \"Women's Keirin\", \"Women's 87kg\", \"Men's 67kg\", \"Women's One Person Dinghy - Laser Radial\", \"Women's Four Team\", \"Men's Kayak Double 1000m Team\", \"Men's Kayak Four 500m Team\", \"Men's Quadruple Sculls Team\", \"Women's Team Sprint Team\", \"Women's Double Sculls Team\", \"Women's Sabre Individual\", \"Women's Sabre Team\", \"Men's Street\", \"Women's Doubles Team\", \"Men's 4 x 200m Freestyle Relay Team\", 'Women -70 kg', \"Women's Long Jump\", \"Men's One Person Dinghy - Laser\", \"Women's Omnium\", \"Women's Madison Team\", \"Women's 100m Backstroke\", \"Men's 3m Springboard\", \"Men's 20km Race Walk\", \"Women's Kayak Double 500m Team\", \"Women's Two Person Dinghy - 470 Team\", \"Men's 10m Platform\", \"Women's Park\", \"Men's 100m Backstroke\", \"Men's 400m Individual Medley\", '10m Air Rifle Women', '50m Rifle 3 Positions Women', '10m Air Rifle Mixed Team', 'Men -58kg', '25m Pistol Women', \"Men's +109kg\", \"Women's Individual Stroke Play\", \"Men's Windsurfer - RS:X\", \"Women's 4 x 100m Relay\", \"Men's 200m Backstroke\", \"Men's Cross-country\", \"Women's 200m Butterfly\", \"Men's Sprint\", \"Men's Keirin\", 'Dressage Team', 'Dressage Individual', \"Women's 200m\", \"Women's Foil Individual\", \"Women's Foil Team\", \"Women's 1500m Freestyle\", \"Men's 109kg\", \"Men's 200m Butterfly\", \"Women's 200m Backstroke\", \"Women's Kumite -55kg\", \"Men's Discus Throw\", \"Men's Synchronised 10m Platform Team\", \"Women's 400m Individual Medley\", \"Men's Épée Individual\", \"Men's Épée Team\", \"Women's Madison\", 'Men +100 kg', \"Men's Decathlon\", \"Women's 5000m\", \"Women's Cross-country\", \"Women's Windsurfer - RS:X\", \"Women's 400m Hurdles\", \"Women's 200m Breaststroke\", \"Women's Épée Team\", \"Women's 800m Freestyle\", \"Women's Pole Vault\", \"Women's Street\", \"Men's Canoe\", \"Men's Four Team\", \"Men's One Person Dinghy (Heavyweight) - Finn\", \"Men's Team Pursuit Team\", \"Men's Madison Team\", \"Women's Canoe\", \"Men's Long Jump\", \"Men's Team Sprint Team\", \"Men's Pole Vault\", \"Women's 400m Freestyle\", \"Women's Kayak Four 500m Team\", 'Men -100 kg', \"Women's High Jump\", \"Women's Fly (48-51kg)\", \"Women's Kayak\", \"Women's Middle (69-75kg)\", \"Men's Synchronised 3m Springboard Team\", \"Women's Combined\", \"Women's 55kg\", \"Men's Combined\", \"Women's Kumite -61kg\", \"Men's 4 x 400m Relay\", \"Men's Omnium\", \"Men's Freestyle 97kg\", \"Women's Freestyle 50kg\", \"Women's Triple Jump\", \"Men's 4 x 100m Relay\", \"Women's 4 x 400m Relay\", 'Marathon Race Walk Relay Mixed', 'Duet', \"Men's +102kg\", \"Men's Kayak Single\", \"Men's Kayak Cross\", \"Men's 63.5kg\", \"Men's 71kg\", \"Women's Dinghy\", \"Women's Windsurfing\", \"Lightweight Men's Double Sculls\", \"Men's Synchronised 10m Platform\", \"Women's Synchronised 10m Platform\", \"Men's Synchronised 3m Springboard\", 'Group All-Around', \"Women's Kayak Single\", \"Women's Kayak Cross\", \"Women's Kayak Double 500m\", \"Women's 60kg\", \"Women's 57kg\", \"Men's Kite\", \"Men's Dinghy\", \"Women's 4 x 100m Medley Relay\", \"Men's Speed\", 'Mixed Doubles', \"Men's 89kg\", \"Men's 102kg\", 'Mixed Multihull', \"Men's Windsurfing\", \"Women's Kite\", 'Skeet Mixed Team', \"Lightweight Women's Double Sculls\", \"Men's Doubles\", \"Women's Doubles\", \"Women's 66kg\", \"Women's 4 x 100m Freestyle Relay\", 'Relay Only Athlete', \"Men's 4 x 100m Medley Relay\", \"Women's Team Pursuit\", \"Women's Pair\", \"Women's Four\", \"Men's +92kg\", \"Women's 50kg\", \"Women's 54kg\", \"Men's 57kg\", \"Men's Canoe Double 500m\", 'B-Boys', 'B-Girls', \"Women's 81kg\", \"Women's 75kg\", \"Men's Skiff\", \"Men's Double Sculls\", \"Men's Pair\", \"Women's Double Sculls\", \"Women's 71kg\", \"Women's +81kg\", \"Men's Boulder & Lead\", \"Women's Boulder & Lead\", \"Men's Canoe Single\", \"Men's 92kg\", \"Men's Quadruple Sculls\", \"Men's Four\", \"Men's Eight\", \"Women's Eight\", \"Men's 51kg\", \"Women's Canoe Double 500m\", \"Women's Quadruple Sculls\", \"Women's Canoe Single\", \"Women's Team Sprint\", \"Women's Speed\", \"Men's 80kg\", 'Mixed Dinghy', \"Women's Skiff\", \"Men's Madison\", \"Women's Kayak Four 500m\", \"Men's Kayak Four 500m\", \"Men's Kayak Double 500m\", \"Men's 4 x 100m Freestyle Relay\", 'Mixed 4 x 100m Medley Relay', \"Men's Team Pursuit\", \"Women's 4 x 200m Freestyle Relay\", \"Men's Team Sprint\", \"Men's 4 x 200m Freestyle Relay\", \"Women's Synchronised 3m Springboard\", 'Mixed Relay']\n"
     ]
    }
   ],
   "source": [
    "event_list = df['Event'].unique().tolist()\n",
    "event_list\n",
    "# Verify the number of unique items and print a sample\n",
    "print(f'Total unique events: {len(event_list)}')\n",
    "print(event_list[:1041])  # Display first 10 items"
   ]
  },
  {
   "cell_type": "code",
   "execution_count": 18,
   "id": "125e5880-961b-48b5-8925-a39b67aad3ea",
   "metadata": {},
   "outputs": [
    {
     "name": "stdout",
     "output_type": "stream",
     "text": [
      "{\"Basketball Men's Basketball\": 0, \"Judo Men's Extra-Lightweight\": 1, \"Football Men's Football\": 2, \"Tug-Of-War Men's Tug-Of-War\": 3, \"Athletics Women's 100 metres\": 4, \"Athletics Women's 4 x 100 metres Relay\": 5, \"Swimming Men's 400 metres Freestyle\": 6, \"Badminton Men's Singles\": 7, \"Sailing Women's Windsurfer\": 8, \"Swimming Men's 200 metres Breaststroke\": 9, \"Swimming Men's 400 metres Breaststroke\": 10, \"Gymnastics Men's Individual All-Around\": 11, \"Gymnastics Men's Team All-Around\": 12, \"Gymnastics Men's Floor Exercise\": 13, \"Gymnastics Men's Horse Vault\": 14, \"Gymnastics Men's Parallel Bars\": 15, \"Gymnastics Men's Horizontal Bar\": 16, \"Gymnastics Men's Rings\": 17, \"Gymnastics Men's Pommelled Horse\": 18, \"Athletics Men's Shot Put\": 19, 'Art Competitions Mixed Sculpturing, Unknown Event': 20, \"Handball Women's Handball\": 21, \"Weightlifting Women's Super-Heavyweight\": 22, \"Wrestling Men's Light-Heavyweight, Greco-Roman\": 23, \"Gymnastics Men's Team All-Around, Free System\": 24, \"Water Polo Men's Water Polo\": 25, 'Sailing Mixed Three Person Keelboat': 26, \"Hockey Women's Hockey\": 27, \"Rowing Men's Lightweight Double Sculls\": 28, \"Athletics Men's Pole Vault\": 29, \"Athletics Men's High Jump\": 30, \"Sailing Men's Two Person Dinghy\": 31, \"Athletics Men's 1,500 metres\": 32, \"Swimming Men's 100 metres Butterfly\": 33, \"Swimming Men's 200 metres Butterfly\": 34, \"Swimming Men's 4 x 100 metres Medley Relay\": 35, \"Football Women's Football\": 36, \"Fencing Men's Foil, Individual\": 37, \"Fencing Men's epee, Individual\": 38, \"Fencing Men's epee, Team\": 39, 'Sailing Mixed 8 metres': 40, 'Equestrianism Mixed Jumping, Individual': 41, \"Shooting Men's Small-Bore Rifle, Prone, 50 metres\": 42, \"Shooting Men's Rapid-Fire Pistol, 25 metres\": 43, \"Shooting Men's Trap\": 44, \"Athletics Men's 4 x 100 metres Relay\": 45, \"Athletics Men's Long Jump\": 46, \"Boxing Men's Light-Welterweight\": 47, \"Athletics Women's Javelin Throw\": 48, \"Wrestling Men's Heavyweight, Freestyle\": 49, \"Taekwondo Men's Flyweight\": 50, \"Boxing Men's Heavyweight\": 51, \"Athletics Men's 5,000 metres\": 52, \"Cycling Men's Road Race, Individual\": 53, \"Cycling Men's Road Race, Team\": 54, \"Weightlifting Men's Lightweight\": 55, \"Weightlifting Men's Middleweight\": 56, \"Rowing Men's Coxless Pairs\": 57, \"Judo Men's Half-Middleweight\": 58, \"Taekwondo Women's Flyweight\": 59, \"Boxing Men's Flyweight\": 60, \"Basketball Women's Basketball\": 61, \"Diving Men's Platform\": 62, \"Canoeing Men's Canadian Doubles, 500 metres\": 63, \"Canoeing Men's Canadian Doubles, 1,000 metres\": 64, \"Canoeing Men's Kayak Fours, 1,000 metres\": 65, \"Handball Men's Handball\": 66, \"Rowing Women's Coxless Pairs\": 67, \"Boxing Men's Middleweight\": 68, \"Judo Men's Lightweight\": 69, \"Boxing Men's Featherweight\": 70, \"Tennis Men's Doubles\": 71, 'Shooting Mixed Skeet': 72, \"Wrestling Men's Featherweight, Freestyle\": 73, 'Sailing Mixed Two Person Heavyweight Dinghy': 74, \"Athletics Women's Shot Put\": 75, \"Rowing Men's Coxed Eights\": 76, \"Cycling Women's Sprint\": 77, \"Cycling Women's 500 metres Time Trial\": 78, \"Athletics Men's 110 metres Hurdles\": 79, 'Shooting Mixed Trap': 80, \"Athletics Women's Marathon\": 81, \"Athletics Men's 100 metres\": 82, \"Fencing Men's Foil, Team\": 83, \"Fencing Men's Sabre, Team\": 84, \"Swimming Men's 100 metres Freestyle\": 85, \"Swimming Men's 4 x 200 metres Freestyle Relay\": 86, \"Boxing Men's Lightweight\": 87, \"Modern Pentathlon Men's Individual\": 88, \"Boxing Men's Welterweight\": 89, \"Rowing Men's Quadruple Sculls\": 90, \"Rowing Men's Double Sculls\": 91, \"Rowing Men's Coxed Pairs\": 92, \"Athletics Men's 400 metres Hurdles\": 93, \"Athletics Men's 400 metres\": 94, \"Athletics Men's Hammer Throw\": 95, \"Weightlifting Men's Featherweight\": 96, \"Athletics Men's 800 metres\": 97, \"Hockey Men's Hockey\": 98, \"Rowing Women's Single Sculls\": 99, \"Swimming Men's 50 metres Freestyle\": 100, \"Weightlifting Women's Featherweight\": 101, \"Water Polo Women's Water Polo\": 102, \"Weightlifting Men's Heavyweight\": 103, 'Equestrianism Mixed Three-Day Event, Individual': 104, 'Equestrianism Mixed Three-Day Event, Team': 105, \"Sailing Women's Three Person Keelboat\": 106, \"Cycling Women's Road Race, Individual\": 107, \"Golf Women's Individual\": 108, \"Softball Women's Softball\": 109, \"Archery Women's Individual\": 110, \"Wrestling Men's Heavyweight, Greco-Roman\": 111, \"Volleyball Men's Volleyball\": 112, \"Taekwondo Women's Heavyweight\": 113, \"Synchronized Swimming Women's Duet\": 114, \"Synchronized Swimming Women's Team\": 115, \"Taekwondo Women's Featherweight\": 116, \"Athletics Men's Marathon\": 117, \"Athletics Men's 4 x 400 metres Relay\": 118, \"Athletics Men's 10,000 metres\": 119, \"Athletics Women's 3,000 metres\": 120, \"Diving Women's Platform\": 121, \"Shooting Men's Air Rifle, 10 metres\": 122, \"Athletics Men's 200 metres\": 123, \"Weightlifting Men's Flyweight\": 124, \"Swimming Men's 100 metres Backstroke\": 125, \"Weightlifting Men's Light-Heavyweight\": 126, \"Wrestling Men's Lightweight, Greco-Roman\": 127, \"Fencing Men's Sabre, Individual\": 128, \"Wrestling Men's Super-Heavyweight, Greco-Roman\": 129, \"Shooting Men's Free Pistol, 50 metres\": 130, \"Shooting Men's Air Pistol, 10 metres\": 131, \"Rowing Men's Coxless Fours\": 132, \"Boxing Men's Light-Flyweight\": 133, \"Boxing Men's Super-Heavyweight\": 134, \"Wrestling Men's Flyweight, Greco-Roman\": 135, \"Shooting Women's Air Rifle, 10 metres\": 136, \"Weightlifting Men's Middle-Heavyweight\": 137, \"Athletics Men's Javelin Throw\": 138, \"Volleyball Women's Volleyball\": 139, \"Wrestling Men's Welterweight, Greco-Roman\": 140, \"Wrestling Men's Middleweight, Greco-Roman\": 141, \"Athletics Men's 3,000 metres Steeplechase\": 142, \"Wrestling Men's Middleweight, Freestyle\": 143, \"Swimming Women's 100 metres Backstroke\": 144, \"Swimming Women's 200 metres Backstroke\": 145, \"Swimming Women's 4 x 100 metres Medley Relay\": 146, \"Wrestling Men's Light-Heavyweight, Freestyle\": 147, \"Modern Pentathlon Men's Team\": 148, \"Boxing Men's Bantamweight\": 149, \"Athletics Women's 200 metres\": 150, \"Table Tennis Women's Singles\": 151, \"Table Tennis Women's Doubles\": 152, \"Shooting Men's Skeet\": 153, \"Swimming Women's 50 metres Freestyle\": 154, \"Shooting Men's Small-Bore Rifle, Three Positions, 50 metres\": 155, \"Athletics Men's Triple Jump\": 156, \"Weightlifting Women's Lightweight\": 157, \"Athletics Women's Long Jump\": 158, \"Fencing Women's epee, Individual\": 159, \"Swimming Men's 200 metres Freestyle\": 160, \"Swimming Men's 4 x 100 metres Freestyle Relay\": 161, \"Swimming Men's 200 metres Backstroke\": 162, \"Swimming Men's 200 metres Individual Medley\": 163, \"Swimming Men's 400 metres Individual Medley\": 164, \"Badminton Women's Singles\": 165, \"Boxing Men's Light-Middleweight\": 166, \"Tennis Men's Singles\": 167, \"Wrestling Men's Bantamweight, Freestyle\": 168, \"Wrestling Men's Flyweight, Freestyle\": 169, \"Athletics Women's 5,000 metres\": 170, \"Weightlifting Women's Light-Heavyweight\": 171, \"Weightlifting Women's Heavyweight\": 172, \"Athletics Men's Discus Throw\": 173, \"Taekwondo Men's Featherweight\": 174, \"Taekwondo Men's Welterweight\": 175, \"Judo Men's Heavyweight\": 176, \"Cycling Men's Sprint\": 177, \"Wrestling Men's Lightweight, Freestyle\": 178, \"Baseball Men's Baseball\": 179, \"Rowing Men's Coxed Fours\": 180, \"Cycling Men's 100 kilometres Team Time Trial\": 181, \"Rhythmic Gymnastics Women's Group\": 182, 'Art Competitions Mixed Architecture, Designs For Town Planning': 183, 'Art Competitions Mixed Architecture, Architectural Designs': 184, \"Gymnastics Women's Individual All-Around\": 185, \"Gymnastics Women's Team All-Around\": 186, \"Gymnastics Women's Floor Exercise\": 187, \"Gymnastics Women's Horse Vault\": 188, \"Gymnastics Women's Uneven Bars\": 189, \"Gymnastics Women's Balance Beam\": 190, \"Diving Women's Springboard\": 191, \"Diving Women's Synchronized Springboard\": 192, \"Athletics Women's 10,000 metres\": 193, 'Sailing Mixed 7 metres': 194, \"Judo Women's Half-Middleweight\": 195, \"Athletics Men's Decathlon\": 196, \"Wrestling Men's Middleweight A, Greco-Roman\": 197, \"Athletics Women's Discus Throw\": 198, \"Swimming Women's 4 x 100 metres Freestyle Relay\": 199, \"Athletics Women's 1,500 metres\": 200, \"Shooting Women's Air Pistol, 10 metres\": 201, \"Shooting Women's Sporting Pistol, 25 metres\": 202, \"Canoeing Men's Kayak Doubles, 500 metres\": 203, \"Canoeing Men's Kayak Singles, 500 metres\": 204, \"Canoeing Men's Kayak Singles, 1,000 metres\": 205, \"Shooting Men's Running Target, 50 metres\": 206, \"Judo Women's Half-Heavyweight\": 207, \"Athletics Women's Pole Vault\": 208, \"Rugby Sevens Women's Rugby Sevens\": 209, \"Table Tennis Men's Team\": 210, \"Rowing Women's Coxed Eights\": 211, \"Athletics Women's 4 x 400 metres Relay\": 212, \"Cycling Men's 1,000 metres Time Trial\": 213, \"Cycling Men's Individual Pursuit, 4,000 metres\": 214, \"Wrestling Men's Welterweight, Freestyle\": 215, \"Wrestling Men's Bantamweight, Greco-Roman\": 216, \"Rowing Women's Lightweight Double Sculls\": 217, \"Athletics Women's 800 metres\": 218, \"Rowing Women's Coxed Quadruple Sculls\": 219, \"Rhythmic Gymnastics Women's Individual\": 220, \"Canoeing Men's Kayak Singles, Slalom\": 221, \"Archery Men's Individual\": 222, \"Archery Men's Team\": 223, \"Athletics Women's 400 metres\": 224, \"Trampolining Men's Individual\": 225, \"Beach Volleyball Men's Beach Volleyball\": 226, \"Cycling Women's Mountainbike, Cross-Country\": 227, \"Athletics Men's Javelin Throw, Both Hands\": 228, \"Triathlon Women's Olympic Distance\": 229, \"Gymnastics Women's Team Portable Apparatus\": 230, \"Cycling Men's Mountainbike, Cross-Country\": 231, \"Athletics Women's 400 metres Hurdles\": 232, \"Diving Men's Springboard\": 233, \"Wrestling Men's Featherweight, Greco-Roman\": 234, \"Table Tennis Men's Singles\": 235, 'Art Competitions Mixed Painting': 236, \"Judo Men's Open Class\": 237, \"Rowing Women's Quadruple Sculls\": 238, \"Gymnastics Men's Team All-Around, Swedish System\": 239, \"Athletics Women's Pentathlon\": 240, 'Art Competitions Mixed Painting, Unknown Event': 241, \"Cycling Men's Team Pursuit, 4,000 metres\": 242, \"Weightlifting Women's Middleweight\": 243, \"Swimming Men's 1,500 metres Freestyle\": 244, \"Wrestling Women's Light-Heavyweight, Freestyle\": 245, \"Swimming Women's 100 metres Freestyle\": 246, \"Equestrianism Men's Jumping, Individual\": 247, \"Equestrianism Men's Jumping, Team\": 248, \"Equestrianism Men's Three-Day Event, Individual\": 249, \"Equestrianism Men's Three-Day Event, Team\": 250, \"Athletics Women's High Jump\": 251, \"Canoeing Women's Kayak Fours, 500 metres\": 252, \"Sailing Men's One Person Dinghy\": 253, \"Trampolining Women's Individual\": 254, 'Art Competitions Mixed Literature': 255, \"Judo Men's Middleweight\": 256, \"Judo Men's Half-Lightweight\": 257, \"Fencing Women's Foil, Team\": 258, \"Swimming Women's 200 metres Butterfly\": 259, \"Swimming Women's 400 metres Individual Medley\": 260, \"Golf Men's Individual\": 261, \"Athletics Men's Standing High Jump\": 262, \"Athletics Men's Standing Long Jump\": 263, \"Athletics Men's 20 kilometres Walk\": 264, \"Swimming Men's 220 yard Freestyle\": 265, \"Swimming Men's 880 yard Freestyle\": 266, \"Swimming Men's One Mile Freestyle\": 267, \"Swimming Men's 4 x 50 Yard Freestyle Relay\": 268, \"Swimming Men's Plunge For Distance\": 269, \"Shooting Men's Free Rifle, Three Positions, 300 metres\": 270, \"Shooting Men's Military Rifle, Three Positions, 300 metres\": 271, \"Shooting Men's Military Rifle, Any Position, 600 metres\": 272, \"Shooting Men's Military Rifle, 200, 400, 500 and 600 metres, Team\": 273, \"Shooting Men's Military Rifle, Prone, 300 metres\": 274, \"Judo Men's Half-Heavyweight\": 275, \"Archery Women's Team\": 276, \"Athletics Men's 50 kilometres Walk\": 277, \"Rowing Women's Double Sculls\": 278, 'Sailing Mixed 6 metres': 279, \"Boxing Men's Light-Heavyweight\": 280, \"Boxing Women's Flyweight\": 281, \"Athletics Women's 100 metres Hurdles\": 282, \"Athletics Men's Discus Throw, Greek Style\": 283, 'Sailing Mixed One Person Dinghy': 284, \"Wrestling Women's Heavyweight, Freestyle\": 285, 'Badminton Mixed Doubles': 286, \"Fencing Women's Foil, Individual\": 287, 'Sailing Mixed Two Person Keelboat': 288, \"Shooting Men's Military Rifle, 300 metres and 600 metres, Prone, Team\": 289, \"Table Tennis Men's Doubles\": 290, \"Wrestling Men's Light-Flyweight, Freestyle\": 291, \"Wrestling Women's Featherweight, Freestyle\": 292, \"Swimming Women's 200 metres Freestyle\": 293, \"Swimming Women's 400 metres Freestyle\": 294, \"Swimming Women's 200 metres Individual Medley\": 295, \"Sailing Men's Windsurfer\": 296, \"Shooting Men's Running Target, Single Shot\": 297, \"Shooting Men's Running Target, Double Shot\": 298, \"Rugby Sevens Men's Rugby Sevens\": 299, \"Wrestling Women's Lightweight, Freestyle\": 300, \"Modern Pentathlon Women's Individual\": 301, \"Canoeing Men's Canadian Doubles, Slalom\": 302, \"Judo Women's Half-Lightweight\": 303, \"Diving Women's Plain High\": 304, \"Equestrianism Men's Dressage, Individual\": 305, \"Equestrianism Men's Dressage, Team\": 306, \"Tennis Women's Singles, Covered Courts\": 307, \"Diving Men's Plain High\": 308, 'Shooting Mixed Small-Bore Rifle, Three Positions, 50 metres': 309, 'Shooting Mixed Small-Bore Rifle, Prone, 50 metres': 310, \"Swimming Women's 800 metres Freestyle\": 311, \"Sailing Women's Two Person Dinghy\": 312, \"Shooting Men's Free Pistol, 50 metres, Team\": 313, \"Shooting Men's Free Rifle, Three Positions, 300 metres, Team\": 314, \"Shooting Men's Military Rifle, Prone, 300 metres, Team\": 315, \"Shooting Men's Military Rifle, Prone, 600 metres, Team\": 316, \"Shooting Men's Military Rifle, Standing, 300 metres, Team\": 317, \"Shooting Men's Free Rifle, Prone, 600 metres\": 318, \"Shooting Men's Free Rifle, 400, 600 and 800 metres, Team\": 319, \"Rowing Men's Single Sculls\": 320, \"Cycling Men's Tandem Sprint, 2,000 metres\": 321, \"Athletics Women's Heptathlon\": 322, \"Cycling Men's Points Race\": 323, \"Synchronized Swimming Women's Solo\": 324, 'Equestrianism Mixed Dressage, Individual': 325, 'Equestrianism Mixed Dressage, Team': 326, \"Swimming Men's 100 metres Breaststroke\": 327, 'Shooting Mixed Free Pistol, 50 metres': 328, \"Sailing Women's Skiff\": 329, \"Canoeing Men's Kayak Doubles, 10,000 metres\": 330, \"Triathlon Men's Olympic Distance\": 331, \"Sailing Women's One Person Dinghy\": 332, \"Rowing Men's 17-Man Naval Rowing Boats\": 333, \"Beach Volleyball Women's Beach Volleyball\": 334, \"Weightlifting Men's Super-Heavyweight\": 335, \"Rowing Men's Lightweight Coxless Fours\": 336, \"Wrestling Men's Light-Flyweight, Greco-Roman\": 337, \"Canoeing Men's Canadian Singles, 1,000 metres\": 338, 'Sailing Mixed 5.5 metres': 339, 'Equestrianism Mixed Jumping, Team': 340, \"Diving Men's Synchronized Platform\": 341, \"Canoeing Women's Kayak Singles, Slalom\": 342, \"Weightlifting Women's Flyweight\": 343, \"Swimming Women's 100 metres Breaststroke\": 344, \"Swimming Women's 200 metres Breaststroke\": 345, \"Wrestling Men's Middleweight B, Greco-Roman\": 346, \"Athletics Men's Stone Throw\": 347, \"Athletics Men's Javelin Throw, Freestyle\": 348, \"Athletics Men's Pentathlon (Ancient)\": 349, \"Shooting Women's Small-Bore Rifle, Three Positions, 50 metres\": 350, \"Swimming Women's 100 metres Butterfly\": 351, \"Weightlifting Men's Heavyweight I\": 352, \"Athletics Women's 3,000 metres Steeplechase\": 353, \"Athletics Men's Shot Put, Both Hands\": 354, \"Shooting Women's Trap\": 355, \"Badminton Men's Doubles\": 356, \"Swimming Women's 4 x 200 metres Freestyle Relay\": 357, \"Athletics Men's 10 kilometres Walk\": 358, \"Athletics Women's 20 kilometres Walk\": 359, \"Athletics Women's 80 metres Hurdles\": 360, \"Sailing Men's One Person Heavyweight Dinghy\": 361, 'Art Competitions Mixed Painting, Paintings': 362, 'Tennis Mixed Doubles, Covered Courts': 363, \"Cycling Men's Madison\": 364, 'Art Competitions Mixed Sculpturing, Statues': 365, \"Rugby Men's Rugby\": 366, \"Weightlifting Men's Heavyweight II\": 367, \"Canoeing Women's Kayak Doubles, 500 metres\": 368, \"Cycling Men's Individual Time Trial\": 369, \"Judo Women's Heavyweight\": 370, \"Canoeing Men's Kayak Doubles, 1,000 metres\": 371, \"Gymnastics Men's Individual All-Around, 5 Events\": 372, \"Wrestling Men's Super-Heavyweight, Freestyle\": 373, \"Fencing Women's Sabre, Team\": 374, \"Shooting Men's Double Trap\": 375, \"Weightlifting Men's Bantamweight\": 376, \"Taekwondo Men's Heavyweight\": 377, 'Sailing Mixed Windsurfer': 378, \"Taekwondo Women's Welterweight\": 379, 'Shooting Mixed Free Rifle, Three Positions, 300 metres': 380, \"Cycling Men's 50 kilometres\": 381, 'Shooting Mixed Rapid-Fire Pistol, 25 metres': 382, \"Cycling Men's 333 metres Time Trial\": 383, \"Cycling Men's 20 kilometres\": 384, \"Canoeing Men's Kayak Singles, 10,000 metres\": 385, 'Sailing Mixed Open': 386, 'Sailing Mixed 1-2 Ton': 387, \"Canoeing Men's Canadian Singles, Slalom\": 388, 'Sailing Mixed Multihull': 389, \"Badminton Women's Doubles\": 390, \"Diving Women's Synchronized Platform\": 391, \"Athletics Women's Triple Jump\": 392, 'Art Competitions Mixed Painting, Drawings And Water Colors': 393, \"Shooting Men's Dueling Pistol, 30 metres\": 394, \"Boxing Women's Lightweight\": 395, \"Cycling Women's BMX\": 396, \"Canoeing Men's Kayak Doubles, 200 metres\": 397, \"Fencing Men's Sabre, Masters, Individual\": 398, \"Lacrosse Men's Lacrosse\": 399, \"Canoeing Women's Kayak Singles, 500 metres\": 400, \"Athletics Women's 10 kilometres Walk\": 401, 'Sailing Mixed 12 metres': 402, \"Judo Women's Extra-Lightweight\": 403, \"Diving Men's Synchronized Springboard\": 404, \"Rowing Men's Coxed Fours, Outriggers\": 405, \"Gymnastics Men's Rope Climbing\": 406, 'Sailing Mixed Two Person Dinghy': 407, 'Art Competitions Mixed Architecture, Unknown Event': 408, \"Archery Men's Target Archery, 28 metres, Team\": 409, \"Archery Men's Target Archery, 33 metres, Team\": 410, \"Archery Men's Target Archery, 50 metres, Team\": 411, \"Shooting Men's Running Target, 10 metres\": 412, \"Polo Men's Polo\": 413, \"Rowing Men's Coxed Fours, Inriggers\": 414, \"Cycling Men's BMX\": 415, 'Art Competitions Mixed Sculpturing': 416, \"Athletics Men's Cross-Country, Individual\": 417, \"Athletics Men's Cross-Country, Team\": 418, 'Sailing Mixed 40 metres': 419, \"Gymnastics Men's Club Swinging\": 420, \"Tennis Women's Singles\": 421, 'Tennis Mixed Doubles': 422, \"Tennis Women's Doubles\": 423, \"Judo Women's Middleweight\": 424, \"Judo Women's Lightweight\": 425, \"Canoeing Women's Kayak Singles, 200 metres\": 426, \"Canoeing Men's Kayak Relay 4 x 500 metres\": 427, \"Athletics Men's 3,000 metres, Team\": 428, \"Shooting Men's Small-Bore Rifle, Prone, 50 and 100 yards\": 429, \"Shooting Men's Small-Bore Rifle, 50 and 100 yards, Team\": 430, \"Shooting Men's Small-Bore Rifle, Disappearing Target, 25 yards\": 431, \"Shooting Men's Small-Bore Rifle, Moving Target, 25 yards\": 432, \"Shooting Men's Military Pistol, Team\": 433, \"Rowing Women's Coxed Fours\": 434, \"Weightlifting Men's Unlimited, One Hand\": 435, \"Canoeing Men's Canadian Singles, 500 metres\": 436, \"Fencing Men's Foil, Masters, Individual\": 437, \"Fencing Men's epee, Masters, Individual\": 438, \"Gymnastics Men's Individual All-Around, Field Sports\": 439, \"Gymnastics Men's Individual All-Around, Apparatus Work\": 440, 'Art Competitions Mixed Music, Compositions For Solo Or Chorus': 441, \"Fencing Women's epee, Team\": 442, \"Swimming Men's 4,000 metres Freestyle\": 443, \"Swimming Men's Underwater Swimming\": 444, 'Sailing Mixed Skiff': 445, \"Shooting Men's Military Rifle, 200/500/600/800/900/1,000 Yards, Team\": 446, \"Shooting Men's Running Target, Single And Double Shot\": 447, \"Shooting Men's Small-Bore Rifle, Any Position, 50 metres\": 448, \"Shooting Men's Small-Bore Rifle, Disappearing Target, 25 metres\": 449, \"Swimming Women's 10 kilometres Open Water\": 450, \"Cycling Men's Team Pursuit, 1,980 yards\": 451, \"Cycling Men's 5,000 metres\": 452, \"Cycling Men's 100 kilometres\": 453, \"Cricket Men's Cricket\": 454, \"Canoeing Men's Canadian Singles, 10,000 metres\": 455, \"Boxing Women's Middleweight\": 456, \"Sailing Men's Skiff\": 457, \"Athletics Men's Pentathlon\": 458, \"Swimming Men's 1,200 metres Freestyle\": 459, \"Shooting Women's Skeet\": 460, \"Cycling Men's 1/4 mile\": 461, \"Cycling Men's 1/2 mile\": 462, \"Cycling Men's 5 mile\": 463, \"Cycling Men's 25 mile\": 464, \"Shooting Men's Small-Bore Rifle, Standing, 50 metres\": 465, \"Shooting Men's Small Bore-Rifle, Standing, 50 metres, Team\": 466, \"Shooting Men's Free Rifle, 1,000 Yards\": 467, \"Cycling Women's Team Pursuit\": 468, \"Athletics Men's 3,000 metres Walk\": 469, 'Shooting Mixed Running Target, 50 metres': 470, \"Cycling Women's Individual Time Trial\": 471, \"Fencing Women's Sabre, Individual\": 472, \"Fencing Men's Sabre, Individual, Three Hits\": 473, \"Archery Women's Double National Round\": 474, \"Cycling Men's Omnium\": 475, 'Equestrianism Mixed Hacks And Hunter Combined': 476, 'Sailing Mixed 10 metres': 477, \"Shooting Men's Trap, Team\": 478, \"Cycling Women's Individual Pursuit, 3,000 metres\": 479, \"Cycling Women's Points Race\": 480, \"Sailing Men's Two Person Keelboat\": 481, \"Cycling Men's Keirin\": 482, \"Cycling Men's Team Sprint\": 483, \"Athletics Men's 5 mile\": 484, \"Shooting Men's Running Target, Single Shot, Team\": 485, \"Ice Hockey Men's Ice Hockey\": 486, \"Racquets Men's Singles\": 487, \"Racquets Men's Doubles\": 488, 'Art Competitions Mixed Literature, Lyric Works': 489, 'Motorboating Mixed A-Class (Open)': 490, \"Archery Men's Continental Style\": 491, 'Art Competitions Mixed Painting, Graphic Arts': 492, \"Wrestling Women's Flyweight, Freestyle\": 493, 'Art Competitions Mixed Literature, Unknown Event': 494, 'Sailing Mixed 0.5-1 Ton': 495, 'Art Competitions Mixed Painting, Applied Arts': 496, 'Croquet Mixed Singles, One Ball': 497, 'Croquet Mixed Doubles': 498, \"Shooting Men's Running Target, Double Shot, Team\": 499, \"Shooting Men's Free Pistol, 50 yards\": 500, \"Shooting Men's Free Pistol, 50 yards, Team\": 501, \"Fencing Men's epee, Masters and Amateurs, Individual\": 502, \"Swimming Men's 10 kilometres Open Water\": 503, 'Art Competitions Mixed Music, Compositions For Orchestra': 504, \"Archery Men's Double York Round\": 505, \"Wrestling Women's Middleweight, Freestyle\": 506, \"Equestrianism Men's Vaulting, Individual\": 507, \"Swimming Men's 4 x 250 metres Freestyle Relay\": 508, \"Table Tennis Women's Team\": 509, \"Athletics Women's Hammer Throw\": 510, \"Canoeing Men's Kayak Singles, 200 metres\": 511, \"Shooting Women's Double Trap\": 512, \"Rowing Men's 6-Man Naval Rowing Boats\": 513, 'Art Competitions Mixed Music': 514, \"Shooting Men's Free Rifle, Kneeling, 300 metres\": 515, \"Shooting Men's Free Rifle, Prone, 300 metres\": 516, \"Shooting Men's Free Rifle, Standing, 300 metres\": 517, \"Athletics Men's 3,200 metres Steeplechase\": 518, \"Rowing Women's Coxless Fours\": 519, \"Tennis Men's Doubles, Covered Courts\": 520, \"Tennis Men's Singles, Covered Courts\": 521, \"Cycling Men's 25 kilometres\": 522, \"Shooting Men's Military Rifle, 200 metres\": 523, \"Athletics Men's Standing Triple Jump\": 524, \"Rowing Men's Coxed Pairs (1 kilometres)\": 525, \"Shooting Men's Military Pistol, 30 metres\": 526, \"Cycling Women's Keirin\": 527, \"Archery Men's Au Cordon Dore, 50 metres\": 528, \"Figure Skating Men's Singles\": 529, 'Figure Skating Mixed Pairs': 530, \"Swimming Women's 300 metres Freestyle\": 531, \"Canoeing Men's Canadian Singles, 200 metres\": 532, 'Sailing Mixed 30 metres': 533, \"Athletics Men's 4,000 metres Steeplechase\": 534, \"Athletics Men's 5,000 metres, Team\": 535, \"Rowing Men's Coxed Pairs (1 mile)\": 536, 'Art Competitions Mixed Unknown Event': 537, \"Cycling Women's Omnium\": 538, \"Swimming Men's 200 metres Obstacle Course\": 539, \"Swimming Men's 200 metres Team Swimming\": 540, 'Sailing Mixed 12 foot': 541, 'Art Competitions Mixed Music, Instrumental And Chamber': 542, 'Art Competitions Mixed Music, Vocals': 543, 'Art Competitions Mixed Literature, Dramatic Works': 544, \"Jeu De Paume Men's Singles\": 545, 'Sailing Mixed 10-20 Ton': 546, \"Cycling Men's 1/3 mile\": 547, \"Cycling Men's 1 mile\": 548, \"Cycling Men's 2 mile\": 549, 'Art Competitions Mixed Sculpturing, Medals And Plaques': 550, \"Athletics Men's 1,600 metres Medley Relay\": 551, 'Croquet Mixed Singles, Two Balls': 552, \"Canoeing Men's Folding Kayak Doubles, 10 kilometres\": 553, \"Athletics Men's 60 metres\": 554, 'Sailing Mixed 2-3 Ton': 555, \"Shooting Men's Military Rifle, Prone, 600 metres\": 556, \"Canoeing Men's Canadian Doubles, 10,000 metres\": 557, \"Shooting Men's Dueling Pistol, 30 metres, Team\": 558, \"Gymnastics Men's Parallel Bars, Teams\": 559, \"Gymnastics Men's Horizontal Bar, Teams\": 560, \"Shooting Men's Small-Bore Rifle, Disappearing Target, 25 metres, Team\": 561, 'Art Competitions Mixed Sculpturing, Medals And Reliefs': 562, \"Athletics Men's 1,500 metres Walk\": 563, \"Athletics Men's 3 mile, Team\": 564, 'Art Competitions Mixed Sculpturing, Medals': 565, \"Shooting Men's Military Rifle, Kneeling Or Standing, 300 metres\": 566, \"Equestrianism Men's Vaulting, Team\": 567, \"Shooting Men's Free Rifle, Any Position, 300 metres\": 568, \"Shooting Men's Military Rifle, 1873-1874 Gras Model, Kneeling Or Standing, 200 metres\": 569, \"Swimming Men's 100 Yard Backstroke\": 570, \"Swimming Men's 440 Yard Breaststroke\": 571, 'Art Competitions Mixed Literature, Epic Works': 572, 'Art Competitions Mixed Architecture': 573, \"Athletics Men's 3,500 metres Walk\": 574, \"Roque Men's Singles\": 575, \"Gymnastics Men's Side Horse\": 576, \"Archery Men's Double American Round\": 577, \"Archery Men's Team Round\": 578, \"Archery Men's Target Archery, 33 metres, Individual\": 579, \"Archery Men's Target Archery, 50 metres, Individual\": 580, \"Swimming Men's 1,000 metres Freestyle\": 581, \"Athletics Men's 10 mile Walk\": 582, \"Athletics Men's Discus Throw, Both Hands\": 583, \"Golf Men's Team\": 584, 'Sailing Mixed 0-0.5 Ton': 585, 'Sailing Mixed 20+ Ton': 586, \"Cycling Women's Team Sprint\": 587, \"Weightlifting Men's Unlimited, Two Hands\": 588, \"Shooting Men's Free Pistol, 25 metres\": 589, \"Shooting Men's Military Revolver, 1873-1874 Gras Model, 20 metres\": 590, \"Shooting Men's Military Revolver, 20 metres\": 591, \"Shooting Men's Dueling Pistol Au Vise 20 metres\": 592, \"Shooting Men's Dueling Pistol Au Commandement, 25 metres\": 593, \"Shooting Men's Small-Bore Rifle, Prone, 50 metres, Team\": 594, 'Sailing Mixed 6.5 metres': 595, \"Athletics Men's 200 metres Hurdles\": 596, \"Athletics Men's 56-pound Weight Throw\": 597, 'Equestrianism Mixed Four-In-Hand Competition': 598, \"Athletics Men's 2,500 metres Steeplechase\": 599, 'Art Competitions Mixed Music, Unknown Event': 600, \"Athletics Men's All-Around Championship\": 601, \"Archery Men's Pole Archery, Small Birds, Individual\": 602, \"Archery Men's Pole Archery, Large Birds, Individual\": 603, \"Archery Men's Pole Archery, Small Birds, Team\": 604, \"Archery Men's Pole Archery, Large Birds, Team\": 605, \"Athletics Men's 2,590 metres Steeplechase\": 606, \"Archery Women's Double Columbia Round\": 607, \"Athletics Men's 4 mile, Team\": 608, \"Figure Skating Men's Special Figures\": 609, \"Shooting Men's Military Rifle, Standing, 300 metres\": 610, \"Swimming Men's 50 yard Freestyle\": 611, \"Swimming Men's 100 yard Freestyle\": 612, \"Swimming Men's 440 yard Freestyle\": 613, \"Basque Pelota Men's Two-Man Teams With Cesta\": 614, \"Shooting Men's Trap, Single Shot, 16 metres\": 615, \"Shooting Men's Trap, Double Shot, 14 metres\": 616, 'Equestrianism Mixed Long Jump': 617, \"Canoeing Men's Folding Kayak Singles, 10 kilometres\": 618, \"Shooting Men's Free Pistol, 30 metres\": 619, \"Shooting Men's Military Pistol, 25 metres\": 620, \"Swimming Men's 100 metres Freestyle For Sailors\": 621, \"Archery Men's Sur La Perche a La Herse\": 622, 'Sailing Mixed 3-10 Ton': 623, \"Gymnastics Men's Individual All-Around, 4 Events\": 624, 'Alpinism Mixed Alpinism': 625, \"Wrestling Men's Unlimited Class, Greco-Roman\": 626, 'Motorboating Mixed B-Class (Under 60 Feet)': 627, 'Motorboating Mixed C-Class': 628, \"Cycling Men's 10,000 metres\": 629, 'Art Competitions Mixed Sculpturing, Reliefs': 630, \"Shooting Men's Muzzle-Loading Pistol, 25 metres\": 631, 'Equestrianism Mixed High Jump': 632, \"Archery Men's Sur La Perche a La Pyramide\": 633, \"Fencing Men's Single Sticks, Individual\": 634, \"Figure Skating Women's Singles\": 635, \"Gymnastics Men's Tumbling\": 636, \"Shooting Men's Unknown Event\": 637, 'Sailing Mixed 18 foot': 638, \"Archery Men's Unknown Event\": 639, \"Archery Men's Au Chapelet, 50 metres\": 640, \"Archery Men's Championnat Du Monde\": 641, \"Archery Women's Team Round\": 642, \"Wrestling Men's All-Around, Greco-Roman\": 643, \"Cycling Men's 12-Hours Race\": 644, \"Swimming Men's 500 metres Freestyle\": 645, \"Weightlifting Men's All-Around Dumbbell Contest\": 646, \"Archery Men's Au Chapelet, 33 metres\": 647, \"Archery Men's Au Cordon Dore, 33 metres\": 648, \"Archery Men's Target Archery, 28 metres, Individual\": 649, 'Aeronautics Mixed Aeronautics': 650, \"Women's Road Race\": 651, \"Women's Individual Time Trial\": 652, \"Men's All-Around\": 653, \"Men's Floor Exercise\": 654, \"Men's Pommel Horse\": 655, \"Men's Rings\": 656, \"Men's Vault\": 657, \"Men's Parallel Bars\": 658, \"Men's Horizontal Bar\": 659, \"Men's Team\": 660, \"Men's Pair Team\": 661, 'Men Team': 662, 'Women Team': 663, \"Lightweight Men's Double Sculls Team\": 664, \"Men's 100m Breaststroke\": 665, \"Women's Kumite +61kg\": 666, \"Men's Greco-Roman 87kg\": 667, 'Group All-Around Team': 668, 'Softball Team': 669, \"Men's 800m\": 670, 'Men -73 kg': 671, '10m Air Pistol Women': 672, '10m Air Pistol Mixed Team': 673, '10m Air Pistol Men': 674, 'Men -81 kg': 675, \"Men's Kumite -75kg\": 676, \"Women's Team\": 677, 'Men -66 kg': 678, \"Men's Freestyle 125kg\": 679, \"Men's Javelin Throw\": 680, 'Women -49kg': 681, \"Men's 3000m Steeplechase\": 682, \"Men's Marathon\": 683, \"Women's All-Around\": 684, \"Women's Vault\": 685, \"Women's Uneven Bars\": 686, \"Women's Balance Beam\": 687, \"Women's Floor Exercise\": 688, \"Women's Épée Individual\": 689, \"Women's Singles\": 690, \"Men's Heavy (81-91kg)\": 691, \"Men's Freestyle 57kg\": 692, \"Men's Greco-Roman 130kg\": 693, \"Men's 73kg\": 694, \"Men's Super Heavy (+91kg)\": 695, \"Men's Individual\": 696, \"Men's Light (57-63kg)\": 697, \"Men's Freestyle 74kg\": 698, 'Mixed Team': 699, \"Men's 400m Hurdles\": 700, 'Women -52 kg': 701, \"Women's 3000m Steeplechase\": 702, \"Men's Sabre Individual\": 703, \"Men's Sabre Team\": 704, \"Women's 3m Springboard\": 705, \"Women's Synchronised 3m Springboard Team\": 706, \"Men's Singles\": 707, \"Men's 100m Freestyle\": 708, \"Women's Skiff - 49er  Team\": 709, \"Men's 5000m\": 710, \"Women's 100m\": 711, \"Men's Foil Individual\": 712, \"Men's Foil Team\": 713, \"Women's 76kg\": 714, \"Women's 400m\": 715, \"Men's Shot Put\": 716, 'Men': 717, \"Men's 10km\": 718, \"Women's Single Sculls\": 719, \"Men's 1500m Freestyle\": 720, \"Men's 4 x 400m Relay Team\": 721, '4 x 400m Relay Mixed Team': 722, 'Mixed 4 x 100m Medley Relay Team': 723, 'Men -68kg': 724, 'Mixed Doubles Team': 725, 'Skeet Men': 726, \"Men's Greco-Roman 97kg\": 727, \"Men's 4 x 100m Freestyle Relay Team\": 728, \"Women's Individual\": 729, 'Women +67kg': 730, \"Men's 800m Freestyle\": 731, \"Men's Kayak\": 732, \"Men's Eight Team\": 733, \"Women's 4 x 100m Relay Team\": 734, 'Women -57kg': 735, \"Women's 100m Breaststroke\": 736, \"Women's Shot Put\": 737, \"Men's 96kg\": 738, \"Women's Freestyle 76kg\": 739, \"Men's 100m\": 740, \"Women's Freestyle 57kg\": 741, \"Women's Freestyle 62kg\": 742, 'Individual All-Around': 743, 'Women +78 kg': 744, 'Women': 745, \"Men's Canoe Single 1000m\": 746, \"Men's Canoe Double 1000m Team\": 747, \"Men's Double Sculls Team\": 748, \"Women's Quadruple Sculls Team\": 749, \"Men's Two Person Dinghy - 470 Team\": 750, \"Women's 1500m\": 751, \"Men's 400m\": 752, \"Women's 50m Freestyle\": 753, 'Women -63 kg': 754, \"Men's Kayak Single 1000m\": 755, \"Men's Triple Jump\": 756, \"Men's Freestyle 86kg\": 757, \"Men's 50km Race Walk\": 758, 'Women -78 kg': 759, \"Women's Heptathlon\": 760, \"Women's 10m Platform\": 761, \"Women's Synchronised 10m Platform Team\": 762, \"Men's Welter (63-69kg)\": 763, \"Men's 100m Butterfly\": 764, \"Women's Freestyle 68kg\": 765, \"Men's 10,000m\": 766, \"Women's Kayak Single 200m\": 767, \"Women's Kayak Single 500m\": 768, \"Men's Doubles Team\": 769, \"Women's 4 x 100m Freestyle Relay Team\": 770, \"Women's Pair Team\": 771, \"Men's Greco-Roman 60kg\": 772, \"Women's 49kg\": 773, \"Men's Greco-Roman 77kg\": 774, \"Men's 4 x 100m Relay Team\": 775, '10m Air Rifle Men': 776, '50m Rifle 3 Positions Men': 777, \"Women's Freestyle 53kg\": 778, '25m Rapid Fire Pistol Men': 779, \"Men's High Jump\": 780, \"Women's Welter (64-69kg)\": 781, 'Men -60 kg': 782, \"Women's +87kg\": 783, \"Men's Freestyle 65kg\": 784, \"Men's Kayak Single 200m\": 785, \"Men's Kumite +75kg\": 786, 'Jumping Team': 787, 'Jumping Individual': 788, 'Trap Men': 789, \"Men's Single Sculls\": 790, \"Men's Greco-Roman 67kg\": 791, \"Men's Fly (48-52kg)\": 792, 'Mixed Relay Team': 793, 'Men +80kg': 794, 'Mixed Multihull - Nacra 17 Foiling Team': 795, 'Women -57 kg': 796, \"Women's Eight Team\": 797, 'Team': 798, \"Women's 59kg\": 799, \"Women's 800m\": 800, 'Men -80kg': 801, 'Duet Team': 802, \"Women's Light (57-60kg)\": 803, \"Men's Light Heavy (75-81kg)\": 804, 'Eventing Team': 805, 'Eventing Individual': 806, \"Women's Feather (54-57kg)\": 807, 'Trap Women': 808, 'Trap Mixed Team': 809, \"Men's Feather (52-57kg)\": 810, \"Men's 110m Hurdles\": 811, \"Men's 81kg\": 812, 'Baseball Team': 813, \"Men's 200m Breaststroke\": 814, \"Women's Discus Throw\": 815, \"Women's 4 x 400m Relay Team\": 816, \"Men's Kumite -67kg\": 817, \"Men's Road Race\": 818, \"Men's Individual Time Trial\": 819, \"Women's 4 x 200m Freestyle Relay Team\": 820, \"Men's Kata\": 821, \"Women's 100m Butterfly\": 822, 'Women -67kg': 823, \"Men's 61kg\": 824, \"Lightweight Women's Double Sculls Team\": 825, 'Women -48 kg': 826, \"Men's 400m Freestyle\": 827, \"Men's 200m Freestyle\": 828, \"Women's Team Pursuit Team\": 829, \"Men's Middle (69-75kg)\": 830, \"Men's 200m\": 831, \"Men's Skiff - 49er Team\": 832, \"Women's 100m Hurdles\": 833, \"Women's Marathon\": 834, \"Women's Kata\": 835, 'Men -90 kg': 836, \"Men's Hammer Throw\": 837, 'Skeet Women': 838, \"Men's Individual Stroke Play\": 839, \"Women's Hammer Throw\": 840, \"Men's Park\": 841, \"Women's 100m Freestyle\": 842, \"Women's 200m Freestyle\": 843, \"Women's 4 x 100m Medley Relay Team\": 844, \"Women's 10km\": 845, '4 x 400m Relay Mixed': 846, \"Women's 20km Race Walk\": 847, \"Women's 200m Individual Medley\": 848, \"Women's 64kg\": 849, \"Women's 10,000m\": 850, \"Men's 1500m\": 851, \"Women's Canoe Single 200m\": 852, \"Women's Canoe Double 500m Team\": 853, \"Women's Javelin Throw\": 854, \"Men's 50m Freestyle\": 855, \"Men's 200m Individual Medley\": 856, \"Men's 4 x 100m Medley Relay Team\": 857, \"Women's Sprint\": 858, \"Women's Keirin\": 859, \"Women's 87kg\": 860, \"Men's 67kg\": 861, \"Women's One Person Dinghy - Laser Radial\": 862, \"Women's Four Team\": 863, \"Men's Kayak Double 1000m Team\": 864, \"Men's Kayak Four 500m Team\": 865, \"Men's Quadruple Sculls Team\": 866, \"Women's Team Sprint Team\": 867, \"Women's Double Sculls Team\": 868, \"Women's Sabre Individual\": 869, \"Women's Sabre Team\": 870, \"Men's Street\": 871, \"Women's Doubles Team\": 872, \"Men's 4 x 200m Freestyle Relay Team\": 873, 'Women -70 kg': 874, \"Women's Long Jump\": 875, \"Men's One Person Dinghy - Laser\": 876, \"Women's Omnium\": 877, \"Women's Madison Team\": 878, \"Women's 100m Backstroke\": 879, \"Men's 3m Springboard\": 880, \"Men's 20km Race Walk\": 881, \"Women's Kayak Double 500m Team\": 882, \"Women's Two Person Dinghy - 470 Team\": 883, \"Men's 10m Platform\": 884, \"Women's Park\": 885, \"Men's 100m Backstroke\": 886, \"Men's 400m Individual Medley\": 887, '10m Air Rifle Women': 888, '50m Rifle 3 Positions Women': 889, '10m Air Rifle Mixed Team': 890, 'Men -58kg': 891, '25m Pistol Women': 892, \"Men's +109kg\": 893, \"Women's Individual Stroke Play\": 894, \"Men's Windsurfer - RS:X\": 895, \"Women's 4 x 100m Relay\": 896, \"Men's 200m Backstroke\": 897, \"Men's Cross-country\": 898, \"Women's 200m Butterfly\": 899, \"Men's Sprint\": 900, \"Men's Keirin\": 901, 'Dressage Team': 902, 'Dressage Individual': 903, \"Women's 200m\": 904, \"Women's Foil Individual\": 905, \"Women's Foil Team\": 906, \"Women's 1500m Freestyle\": 907, \"Men's 109kg\": 908, \"Men's 200m Butterfly\": 909, \"Women's 200m Backstroke\": 910, \"Women's Kumite -55kg\": 911, \"Men's Discus Throw\": 912, \"Men's Synchronised 10m Platform Team\": 913, \"Women's 400m Individual Medley\": 914, \"Men's Épée Individual\": 915, \"Men's Épée Team\": 916, \"Women's Madison\": 917, 'Men +100 kg': 918, \"Men's Decathlon\": 919, \"Women's 5000m\": 920, \"Women's Cross-country\": 921, \"Women's Windsurfer - RS:X\": 922, \"Women's 400m Hurdles\": 923, \"Women's 200m Breaststroke\": 924, \"Women's Épée Team\": 925, \"Women's 800m Freestyle\": 926, \"Women's Pole Vault\": 927, \"Women's Street\": 928, \"Men's Canoe\": 929, \"Men's Four Team\": 930, \"Men's One Person Dinghy (Heavyweight) - Finn\": 931, \"Men's Team Pursuit Team\": 932, \"Men's Madison Team\": 933, \"Women's Canoe\": 934, \"Men's Long Jump\": 935, \"Men's Team Sprint Team\": 936, \"Men's Pole Vault\": 937, \"Women's 400m Freestyle\": 938, \"Women's Kayak Four 500m Team\": 939, 'Men -100 kg': 940, \"Women's High Jump\": 941, \"Women's Fly (48-51kg)\": 942, \"Women's Kayak\": 943, \"Women's Middle (69-75kg)\": 944, \"Men's Synchronised 3m Springboard Team\": 945, \"Women's Combined\": 946, \"Women's 55kg\": 947, \"Men's Combined\": 948, \"Women's Kumite -61kg\": 949, \"Men's 4 x 400m Relay\": 950, \"Men's Omnium\": 951, \"Men's Freestyle 97kg\": 952, \"Women's Freestyle 50kg\": 953, \"Women's Triple Jump\": 954, \"Men's 4 x 100m Relay\": 955, \"Women's 4 x 400m Relay\": 956, 'Marathon Race Walk Relay Mixed': 957, 'Duet': 958, \"Men's +102kg\": 959, \"Men's Kayak Single\": 960, \"Men's Kayak Cross\": 961, \"Men's 63.5kg\": 962, \"Men's 71kg\": 963, \"Women's Dinghy\": 964, \"Women's Windsurfing\": 965, \"Lightweight Men's Double Sculls\": 966, \"Men's Synchronised 10m Platform\": 967, \"Women's Synchronised 10m Platform\": 968, \"Men's Synchronised 3m Springboard\": 969, 'Group All-Around': 970, \"Women's Kayak Single\": 971, \"Women's Kayak Cross\": 972, \"Women's Kayak Double 500m\": 973, \"Women's 60kg\": 974, \"Women's 57kg\": 975, \"Men's Kite\": 976, \"Men's Dinghy\": 977, \"Women's 4 x 100m Medley Relay\": 978, \"Men's Speed\": 979, 'Mixed Doubles': 980, \"Men's 89kg\": 981, \"Men's 102kg\": 982, 'Mixed Multihull': 983, \"Men's Windsurfing\": 984, \"Women's Kite\": 985, 'Skeet Mixed Team': 986, \"Lightweight Women's Double Sculls\": 987, \"Men's Doubles\": 988, \"Women's Doubles\": 989, \"Women's 66kg\": 990, \"Women's 4 x 100m Freestyle Relay\": 991, 'Relay Only Athlete': 992, \"Men's 4 x 100m Medley Relay\": 993, \"Women's Team Pursuit\": 994, \"Women's Pair\": 995, \"Women's Four\": 996, \"Men's +92kg\": 997, \"Women's 50kg\": 998, \"Women's 54kg\": 999, \"Men's 57kg\": 1000, \"Men's Canoe Double 500m\": 1001, 'B-Boys': 1002, 'B-Girls': 1003, \"Women's 81kg\": 1004, \"Women's 75kg\": 1005, \"Men's Skiff\": 1006, \"Men's Double Sculls\": 1007, \"Men's Pair\": 1008, \"Women's Double Sculls\": 1009, \"Women's 71kg\": 1010, \"Women's +81kg\": 1011, \"Men's Boulder & Lead\": 1012, \"Women's Boulder & Lead\": 1013, \"Men's Canoe Single\": 1014, \"Men's 92kg\": 1015, \"Men's Quadruple Sculls\": 1016, \"Men's Four\": 1017, \"Men's Eight\": 1018, \"Women's Eight\": 1019, \"Men's 51kg\": 1020, \"Women's Canoe Double 500m\": 1021, \"Women's Quadruple Sculls\": 1022, \"Women's Canoe Single\": 1023, \"Women's Team Sprint\": 1024, \"Women's Speed\": 1025, \"Men's 80kg\": 1026, 'Mixed Dinghy': 1027, \"Women's Skiff\": 1028, \"Men's Madison\": 1029, \"Women's Kayak Four 500m\": 1030, \"Men's Kayak Four 500m\": 1031, \"Men's Kayak Double 500m\": 1032, \"Men's 4 x 100m Freestyle Relay\": 1033, 'Mixed 4 x 100m Medley Relay': 1034, \"Men's Team Pursuit\": 1035, \"Women's 4 x 200m Freestyle Relay\": 1036, \"Men's Team Sprint\": 1037, \"Men's 4 x 200m Freestyle Relay\": 1038, \"Women's Synchronised 3m Springboard\": 1039, 'Mixed Relay': 1040}\n"
     ]
    }
   ],
   "source": [
    "Event_map = [\"Basketball Men's Basketball\", \"Judo Men's Extra-Lightweight\", \"Football Men's Football\", \"Tug-Of-War Men's Tug-Of-War\", \"Athletics Women's 100 metres\", \"Athletics Women's 4 x 100 metres Relay\", \"Swimming Men's 400 metres Freestyle\", \"Badminton Men's Singles\", \"Sailing Women's Windsurfer\", \"Swimming Men's 200 metres Breaststroke\", \"Swimming Men's 400 metres Breaststroke\", \"Gymnastics Men's Individual All-Around\", \"Gymnastics Men's Team All-Around\", \"Gymnastics Men's Floor Exercise\", \"Gymnastics Men's Horse Vault\", \"Gymnastics Men's Parallel Bars\", \"Gymnastics Men's Horizontal Bar\", \"Gymnastics Men's Rings\", \"Gymnastics Men's Pommelled Horse\", \"Athletics Men's Shot Put\", 'Art Competitions Mixed Sculpturing, Unknown Event', \"Handball Women's Handball\", \"Weightlifting Women's Super-Heavyweight\", \"Wrestling Men's Light-Heavyweight, Greco-Roman\", \"Gymnastics Men's Team All-Around, Free System\", \"Water Polo Men's Water Polo\", 'Sailing Mixed Three Person Keelboat', \"Hockey Women's Hockey\", \"Rowing Men's Lightweight Double Sculls\", \"Athletics Men's Pole Vault\", \"Athletics Men's High Jump\", \"Sailing Men's Two Person Dinghy\", \"Athletics Men's 1,500 metres\", \"Swimming Men's 100 metres Butterfly\", \"Swimming Men's 200 metres Butterfly\", \"Swimming Men's 4 x 100 metres Medley Relay\", \"Football Women's Football\", \"Fencing Men's Foil, Individual\", \"Fencing Men's epee, Individual\", \"Fencing Men's epee, Team\", 'Sailing Mixed 8 metres', 'Equestrianism Mixed Jumping, Individual', \"Shooting Men's Small-Bore Rifle, Prone, 50 metres\", \"Shooting Men's Rapid-Fire Pistol, 25 metres\", \"Shooting Men's Trap\", \"Athletics Men's 4 x 100 metres Relay\", \"Athletics Men's Long Jump\", \"Boxing Men's Light-Welterweight\", \"Athletics Women's Javelin Throw\", \"Wrestling Men's Heavyweight, Freestyle\", \"Taekwondo Men's Flyweight\", \"Boxing Men's Heavyweight\", \"Athletics Men's 5,000 metres\", \"Cycling Men's Road Race, Individual\", \"Cycling Men's Road Race, Team\", \"Weightlifting Men's Lightweight\", \"Weightlifting Men's Middleweight\", \"Rowing Men's Coxless Pairs\", \"Judo Men's Half-Middleweight\", \"Taekwondo Women's Flyweight\", \"Boxing Men's Flyweight\", \"Basketball Women's Basketball\", \"Diving Men's Platform\", \"Canoeing Men's Canadian Doubles, 500 metres\", \"Canoeing Men's Canadian Doubles, 1,000 metres\", \"Canoeing Men's Kayak Fours, 1,000 metres\", \"Handball Men's Handball\", \"Rowing Women's Coxless Pairs\", \"Boxing Men's Middleweight\", \"Judo Men's Lightweight\", \"Boxing Men's Featherweight\", \"Tennis Men's Doubles\", 'Shooting Mixed Skeet', \"Wrestling Men's Featherweight, Freestyle\", 'Sailing Mixed Two Person Heavyweight Dinghy', \"Athletics Women's Shot Put\", \"Rowing Men's Coxed Eights\", \"Cycling Women's Sprint\", \"Cycling Women's 500 metres Time Trial\", \"Athletics Men's 110 metres Hurdles\", 'Shooting Mixed Trap', \"Athletics Women's Marathon\", \"Athletics Men's 100 metres\", \"Fencing Men's Foil, Team\", \"Fencing Men's Sabre, Team\", \"Swimming Men's 100 metres Freestyle\", \"Swimming Men's 4 x 200 metres Freestyle Relay\", \"Boxing Men's Lightweight\", \"Modern Pentathlon Men's Individual\", \"Boxing Men's Welterweight\", \"Rowing Men's Quadruple Sculls\", \"Rowing Men's Double Sculls\", \"Rowing Men's Coxed Pairs\", \"Athletics Men's 400 metres Hurdles\", \"Athletics Men's 400 metres\", \"Athletics Men's Hammer Throw\", \"Weightlifting Men's Featherweight\", \"Athletics Men's 800 metres\", \"Hockey Men's Hockey\", \"Rowing Women's Single Sculls\", \"Swimming Men's 50 metres Freestyle\", \"Weightlifting Women's Featherweight\", \"Water Polo Women's Water Polo\", \"Weightlifting Men's Heavyweight\", 'Equestrianism Mixed Three-Day Event, Individual', 'Equestrianism Mixed Three-Day Event, Team', \"Sailing Women's Three Person Keelboat\", \"Cycling Women's Road Race, Individual\", \"Golf Women's Individual\", \"Softball Women's Softball\", \"Archery Women's Individual\", \"Wrestling Men's Heavyweight, Greco-Roman\", \"Volleyball Men's Volleyball\", \"Taekwondo Women's Heavyweight\", \"Synchronized Swimming Women's Duet\", \"Synchronized Swimming Women's Team\", \"Taekwondo Women's Featherweight\", \"Athletics Men's Marathon\", \"Athletics Men's 4 x 400 metres Relay\", \"Athletics Men's 10,000 metres\", \"Athletics Women's 3,000 metres\", \"Diving Women's Platform\", \"Shooting Men's Air Rifle, 10 metres\", \"Athletics Men's 200 metres\", \"Weightlifting Men's Flyweight\", \"Swimming Men's 100 metres Backstroke\", \"Weightlifting Men's Light-Heavyweight\", \"Wrestling Men's Lightweight, Greco-Roman\", \"Fencing Men's Sabre, Individual\", \"Wrestling Men's Super-Heavyweight, Greco-Roman\", \"Shooting Men's Free Pistol, 50 metres\", \"Shooting Men's Air Pistol, 10 metres\", \"Rowing Men's Coxless Fours\", \"Boxing Men's Light-Flyweight\", \"Boxing Men's Super-Heavyweight\", \"Wrestling Men's Flyweight, Greco-Roman\", \"Shooting Women's Air Rifle, 10 metres\", \"Weightlifting Men's Middle-Heavyweight\", \"Athletics Men's Javelin Throw\", \"Volleyball Women's Volleyball\", \"Wrestling Men's Welterweight, Greco-Roman\", \"Wrestling Men's Middleweight, Greco-Roman\", \"Athletics Men's 3,000 metres Steeplechase\", \"Wrestling Men's Middleweight, Freestyle\", \"Swimming Women's 100 metres Backstroke\", \"Swimming Women's 200 metres Backstroke\", \"Swimming Women's 4 x 100 metres Medley Relay\", \"Wrestling Men's Light-Heavyweight, Freestyle\", \"Modern Pentathlon Men's Team\", \"Boxing Men's Bantamweight\", \"Athletics Women's 200 metres\", \"Table Tennis Women's Singles\", \"Table Tennis Women's Doubles\", \"Shooting Men's Skeet\", \"Swimming Women's 50 metres Freestyle\", \"Shooting Men's Small-Bore Rifle, Three Positions, 50 metres\", \"Athletics Men's Triple Jump\", \"Weightlifting Women's Lightweight\", \"Athletics Women's Long Jump\", \"Fencing Women's epee, Individual\", \"Swimming Men's 200 metres Freestyle\", \"Swimming Men's 4 x 100 metres Freestyle Relay\", \"Swimming Men's 200 metres Backstroke\", \"Swimming Men's 200 metres Individual Medley\", \"Swimming Men's 400 metres Individual Medley\", \"Badminton Women's Singles\", \"Boxing Men's Light-Middleweight\", \"Tennis Men's Singles\", \"Wrestling Men's Bantamweight, Freestyle\", \"Wrestling Men's Flyweight, Freestyle\", \"Athletics Women's 5,000 metres\", \"Weightlifting Women's Light-Heavyweight\", \"Weightlifting Women's Heavyweight\", \"Athletics Men's Discus Throw\", \"Taekwondo Men's Featherweight\", \"Taekwondo Men's Welterweight\", \"Judo Men's Heavyweight\", \"Cycling Men's Sprint\", \"Wrestling Men's Lightweight, Freestyle\", \"Baseball Men's Baseball\", \"Rowing Men's Coxed Fours\", \"Cycling Men's 100 kilometres Team Time Trial\", \"Rhythmic Gymnastics Women's Group\", 'Art Competitions Mixed Architecture, Designs For Town Planning', 'Art Competitions Mixed Architecture, Architectural Designs', \"Gymnastics Women's Individual All-Around\", \"Gymnastics Women's Team All-Around\", \"Gymnastics Women's Floor Exercise\", \"Gymnastics Women's Horse Vault\", \"Gymnastics Women's Uneven Bars\", \"Gymnastics Women's Balance Beam\", \"Diving Women's Springboard\", \"Diving Women's Synchronized Springboard\", \"Athletics Women's 10,000 metres\", 'Sailing Mixed 7 metres', \"Judo Women's Half-Middleweight\", \"Athletics Men's Decathlon\", \"Wrestling Men's Middleweight A, Greco-Roman\", \"Athletics Women's Discus Throw\", \"Swimming Women's 4 x 100 metres Freestyle Relay\", \"Athletics Women's 1,500 metres\", \"Shooting Women's Air Pistol, 10 metres\", \"Shooting Women's Sporting Pistol, 25 metres\", \"Canoeing Men's Kayak Doubles, 500 metres\", \"Canoeing Men's Kayak Singles, 500 metres\", \"Canoeing Men's Kayak Singles, 1,000 metres\", \"Shooting Men's Running Target, 50 metres\", \"Judo Women's Half-Heavyweight\", \"Athletics Women's Pole Vault\", \"Rugby Sevens Women's Rugby Sevens\", \"Table Tennis Men's Team\", \"Rowing Women's Coxed Eights\", \"Athletics Women's 4 x 400 metres Relay\", \"Cycling Men's 1,000 metres Time Trial\", \"Cycling Men's Individual Pursuit, 4,000 metres\", \"Wrestling Men's Welterweight, Freestyle\", \"Wrestling Men's Bantamweight, Greco-Roman\", \"Rowing Women's Lightweight Double Sculls\", \"Athletics Women's 800 metres\", \"Rowing Women's Coxed Quadruple Sculls\", \"Rhythmic Gymnastics Women's Individual\", \"Canoeing Men's Kayak Singles, Slalom\", \"Archery Men's Individual\", \"Archery Men's Team\", \"Athletics Women's 400 metres\", \"Trampolining Men's Individual\", \"Beach Volleyball Men's Beach Volleyball\", \"Cycling Women's Mountainbike, Cross-Country\", \"Athletics Men's Javelin Throw, Both Hands\", \"Triathlon Women's Olympic Distance\", \"Gymnastics Women's Team Portable Apparatus\", \"Cycling Men's Mountainbike, Cross-Country\", \"Athletics Women's 400 metres Hurdles\", \"Diving Men's Springboard\", \"Wrestling Men's Featherweight, Greco-Roman\", \"Table Tennis Men's Singles\", 'Art Competitions Mixed Painting', \"Judo Men's Open Class\", \"Rowing Women's Quadruple Sculls\", \"Gymnastics Men's Team All-Around, Swedish System\", \"Athletics Women's Pentathlon\", 'Art Competitions Mixed Painting, Unknown Event', \"Cycling Men's Team Pursuit, 4,000 metres\", \"Weightlifting Women's Middleweight\", \"Swimming Men's 1,500 metres Freestyle\", \"Wrestling Women's Light-Heavyweight, Freestyle\", \"Swimming Women's 100 metres Freestyle\", \"Equestrianism Men's Jumping, Individual\", \"Equestrianism Men's Jumping, Team\", \"Equestrianism Men's Three-Day Event, Individual\", \"Equestrianism Men's Three-Day Event, Team\", \"Athletics Women's High Jump\", \"Canoeing Women's Kayak Fours, 500 metres\", \"Sailing Men's One Person Dinghy\", \"Trampolining Women's Individual\", 'Art Competitions Mixed Literature', \"Judo Men's Middleweight\", \"Judo Men's Half-Lightweight\", \"Fencing Women's Foil, Team\", \"Swimming Women's 200 metres Butterfly\", \"Swimming Women's 400 metres Individual Medley\", \"Golf Men's Individual\", \"Athletics Men's Standing High Jump\", \"Athletics Men's Standing Long Jump\", \"Athletics Men's 20 kilometres Walk\", \"Swimming Men's 220 yard Freestyle\", \"Swimming Men's 880 yard Freestyle\", \"Swimming Men's One Mile Freestyle\", \"Swimming Men's 4 x 50 Yard Freestyle Relay\", \"Swimming Men's Plunge For Distance\", \"Shooting Men's Free Rifle, Three Positions, 300 metres\", \"Shooting Men's Military Rifle, Three Positions, 300 metres\", \"Shooting Men's Military Rifle, Any Position, 600 metres\", \"Shooting Men's Military Rifle, 200, 400, 500 and 600 metres, Team\", \"Shooting Men's Military Rifle, Prone, 300 metres\", \"Judo Men's Half-Heavyweight\", \"Archery Women's Team\", \"Athletics Men's 50 kilometres Walk\", \"Rowing Women's Double Sculls\", 'Sailing Mixed 6 metres', \"Boxing Men's Light-Heavyweight\", \"Boxing Women's Flyweight\", \"Athletics Women's 100 metres Hurdles\", \"Athletics Men's Discus Throw, Greek Style\", 'Sailing Mixed One Person Dinghy', \"Wrestling Women's Heavyweight, Freestyle\", 'Badminton Mixed Doubles', \"Fencing Women's Foil, Individual\", 'Sailing Mixed Two Person Keelboat', \"Shooting Men's Military Rifle, 300 metres and 600 metres, Prone, Team\", \"Table Tennis Men's Doubles\", \"Wrestling Men's Light-Flyweight, Freestyle\", \"Wrestling Women's Featherweight, Freestyle\", \"Swimming Women's 200 metres Freestyle\", \"Swimming Women's 400 metres Freestyle\", \"Swimming Women's 200 metres Individual Medley\", \"Sailing Men's Windsurfer\", \"Shooting Men's Running Target, Single Shot\", \"Shooting Men's Running Target, Double Shot\", \"Rugby Sevens Men's Rugby Sevens\", \"Wrestling Women's Lightweight, Freestyle\", \"Modern Pentathlon Women's Individual\", \"Canoeing Men's Canadian Doubles, Slalom\", \"Judo Women's Half-Lightweight\", \"Diving Women's Plain High\", \"Equestrianism Men's Dressage, Individual\", \"Equestrianism Men's Dressage, Team\", \"Tennis Women's Singles, Covered Courts\", \"Diving Men's Plain High\", 'Shooting Mixed Small-Bore Rifle, Three Positions, 50 metres', 'Shooting Mixed Small-Bore Rifle, Prone, 50 metres', \"Swimming Women's 800 metres Freestyle\", \"Sailing Women's Two Person Dinghy\", \"Shooting Men's Free Pistol, 50 metres, Team\", \"Shooting Men's Free Rifle, Three Positions, 300 metres, Team\", \"Shooting Men's Military Rifle, Prone, 300 metres, Team\", \"Shooting Men's Military Rifle, Prone, 600 metres, Team\", \"Shooting Men's Military Rifle, Standing, 300 metres, Team\", \"Shooting Men's Free Rifle, Prone, 600 metres\", \"Shooting Men's Free Rifle, 400, 600 and 800 metres, Team\", \"Rowing Men's Single Sculls\", \"Cycling Men's Tandem Sprint, 2,000 metres\", \"Athletics Women's Heptathlon\", \"Cycling Men's Points Race\", \"Synchronized Swimming Women's Solo\", 'Equestrianism Mixed Dressage, Individual', 'Equestrianism Mixed Dressage, Team', \"Swimming Men's 100 metres Breaststroke\", 'Shooting Mixed Free Pistol, 50 metres', \"Sailing Women's Skiff\", \"Canoeing Men's Kayak Doubles, 10,000 metres\", \"Triathlon Men's Olympic Distance\", \"Sailing Women's One Person Dinghy\", \"Rowing Men's 17-Man Naval Rowing Boats\", \"Beach Volleyball Women's Beach Volleyball\", \"Weightlifting Men's Super-Heavyweight\", \"Rowing Men's Lightweight Coxless Fours\", \"Wrestling Men's Light-Flyweight, Greco-Roman\", \"Canoeing Men's Canadian Singles, 1,000 metres\", 'Sailing Mixed 5.5 metres', 'Equestrianism Mixed Jumping, Team', \"Diving Men's Synchronized Platform\", \"Canoeing Women's Kayak Singles, Slalom\", \"Weightlifting Women's Flyweight\", \"Swimming Women's 100 metres Breaststroke\", \"Swimming Women's 200 metres Breaststroke\", \"Wrestling Men's Middleweight B, Greco-Roman\", \"Athletics Men's Stone Throw\", \"Athletics Men's Javelin Throw, Freestyle\", \"Athletics Men's Pentathlon (Ancient)\", \"Shooting Women's Small-Bore Rifle, Three Positions, 50 metres\", \"Swimming Women's 100 metres Butterfly\", \"Weightlifting Men's Heavyweight I\", \"Athletics Women's 3,000 metres Steeplechase\", \"Athletics Men's Shot Put, Both Hands\", \"Shooting Women's Trap\", \"Badminton Men's Doubles\", \"Swimming Women's 4 x 200 metres Freestyle Relay\", \"Athletics Men's 10 kilometres Walk\", \"Athletics Women's 20 kilometres Walk\", \"Athletics Women's 80 metres Hurdles\", \"Sailing Men's One Person Heavyweight Dinghy\", 'Art Competitions Mixed Painting, Paintings', 'Tennis Mixed Doubles, Covered Courts', \"Cycling Men's Madison\", 'Art Competitions Mixed Sculpturing, Statues', \"Rugby Men's Rugby\", \"Weightlifting Men's Heavyweight II\", \"Canoeing Women's Kayak Doubles, 500 metres\", \"Cycling Men's Individual Time Trial\", \"Judo Women's Heavyweight\", \"Canoeing Men's Kayak Doubles, 1,000 metres\", \"Gymnastics Men's Individual All-Around, 5 Events\", \"Wrestling Men's Super-Heavyweight, Freestyle\", \"Fencing Women's Sabre, Team\", \"Shooting Men's Double Trap\", \"Weightlifting Men's Bantamweight\", \"Taekwondo Men's Heavyweight\", 'Sailing Mixed Windsurfer', \"Taekwondo Women's Welterweight\", 'Shooting Mixed Free Rifle, Three Positions, 300 metres', \"Cycling Men's 50 kilometres\", 'Shooting Mixed Rapid-Fire Pistol, 25 metres', \"Cycling Men's 333 metres Time Trial\", \"Cycling Men's 20 kilometres\", \"Canoeing Men's Kayak Singles, 10,000 metres\", 'Sailing Mixed Open', 'Sailing Mixed 1-2 Ton', \"Canoeing Men's Canadian Singles, Slalom\", 'Sailing Mixed Multihull', \"Badminton Women's Doubles\", \"Diving Women's Synchronized Platform\", \"Athletics Women's Triple Jump\", 'Art Competitions Mixed Painting, Drawings And Water Colors', \"Shooting Men's Dueling Pistol, 30 metres\", \"Boxing Women's Lightweight\", \"Cycling Women's BMX\", \"Canoeing Men's Kayak Doubles, 200 metres\", \"Fencing Men's Sabre, Masters, Individual\", \"Lacrosse Men's Lacrosse\", \"Canoeing Women's Kayak Singles, 500 metres\", \"Athletics Women's 10 kilometres Walk\", 'Sailing Mixed 12 metres', \"Judo Women's Extra-Lightweight\", \"Diving Men's Synchronized Springboard\", \"Rowing Men's Coxed Fours, Outriggers\", \"Gymnastics Men's Rope Climbing\", 'Sailing Mixed Two Person Dinghy', 'Art Competitions Mixed Architecture, Unknown Event', \"Archery Men's Target Archery, 28 metres, Team\", \"Archery Men's Target Archery, 33 metres, Team\", \"Archery Men's Target Archery, 50 metres, Team\", \"Shooting Men's Running Target, 10 metres\", \"Polo Men's Polo\", \"Rowing Men's Coxed Fours, Inriggers\", \"Cycling Men's BMX\", 'Art Competitions Mixed Sculpturing', \"Athletics Men's Cross-Country, Individual\", \"Athletics Men's Cross-Country, Team\", 'Sailing Mixed 40 metres', \"Gymnastics Men's Club Swinging\", \"Tennis Women's Singles\", 'Tennis Mixed Doubles', \"Tennis Women's Doubles\", \"Judo Women's Middleweight\", \"Judo Women's Lightweight\", \"Canoeing Women's Kayak Singles, 200 metres\", \"Canoeing Men's Kayak Relay 4 x 500 metres\", \"Athletics Men's 3,000 metres, Team\", \"Shooting Men's Small-Bore Rifle, Prone, 50 and 100 yards\", \"Shooting Men's Small-Bore Rifle, 50 and 100 yards, Team\", \"Shooting Men's Small-Bore Rifle, Disappearing Target, 25 yards\", \"Shooting Men's Small-Bore Rifle, Moving Target, 25 yards\", \"Shooting Men's Military Pistol, Team\", \"Rowing Women's Coxed Fours\", \"Weightlifting Men's Unlimited, One Hand\", \"Canoeing Men's Canadian Singles, 500 metres\", \"Fencing Men's Foil, Masters, Individual\", \"Fencing Men's epee, Masters, Individual\", \"Gymnastics Men's Individual All-Around, Field Sports\", \"Gymnastics Men's Individual All-Around, Apparatus Work\", 'Art Competitions Mixed Music, Compositions For Solo Or Chorus', \"Fencing Women's epee, Team\", \"Swimming Men's 4,000 metres Freestyle\", \"Swimming Men's Underwater Swimming\", 'Sailing Mixed Skiff', \"Shooting Men's Military Rifle, 200/500/600/800/900/1,000 Yards, Team\", \"Shooting Men's Running Target, Single And Double Shot\", \"Shooting Men's Small-Bore Rifle, Any Position, 50 metres\", \"Shooting Men's Small-Bore Rifle, Disappearing Target, 25 metres\", \"Swimming Women's 10 kilometres Open Water\", \"Cycling Men's Team Pursuit, 1,980 yards\", \"Cycling Men's 5,000 metres\", \"Cycling Men's 100 kilometres\", \"Cricket Men's Cricket\", \"Canoeing Men's Canadian Singles, 10,000 metres\", \"Boxing Women's Middleweight\", \"Sailing Men's Skiff\", \"Athletics Men's Pentathlon\", \"Swimming Men's 1,200 metres Freestyle\", \"Shooting Women's Skeet\", \"Cycling Men's 1/4 mile\", \"Cycling Men's 1/2 mile\", \"Cycling Men's 5 mile\", \"Cycling Men's 25 mile\", \"Shooting Men's Small-Bore Rifle, Standing, 50 metres\", \"Shooting Men's Small Bore-Rifle, Standing, 50 metres, Team\", \"Shooting Men's Free Rifle, 1,000 Yards\", \"Cycling Women's Team Pursuit\", \"Athletics Men's 3,000 metres Walk\", 'Shooting Mixed Running Target, 50 metres', \"Cycling Women's Individual Time Trial\", \"Fencing Women's Sabre, Individual\", \"Fencing Men's Sabre, Individual, Three Hits\", \"Archery Women's Double National Round\", \"Cycling Men's Omnium\", 'Equestrianism Mixed Hacks And Hunter Combined', 'Sailing Mixed 10 metres', \"Shooting Men's Trap, Team\", \"Cycling Women's Individual Pursuit, 3,000 metres\", \"Cycling Women's Points Race\", \"Sailing Men's Two Person Keelboat\", \"Cycling Men's Keirin\", \"Cycling Men's Team Sprint\", \"Athletics Men's 5 mile\", \"Shooting Men's Running Target, Single Shot, Team\", \"Ice Hockey Men's Ice Hockey\", \"Racquets Men's Singles\", \"Racquets Men's Doubles\", 'Art Competitions Mixed Literature, Lyric Works', 'Motorboating Mixed A-Class (Open)', \"Archery Men's Continental Style\", 'Art Competitions Mixed Painting, Graphic Arts', \"Wrestling Women's Flyweight, Freestyle\", 'Art Competitions Mixed Literature, Unknown Event', 'Sailing Mixed 0.5-1 Ton', 'Art Competitions Mixed Painting, Applied Arts', 'Croquet Mixed Singles, One Ball', 'Croquet Mixed Doubles', \"Shooting Men's Running Target, Double Shot, Team\", \"Shooting Men's Free Pistol, 50 yards\", \"Shooting Men's Free Pistol, 50 yards, Team\", \"Fencing Men's epee, Masters and Amateurs, Individual\", \"Swimming Men's 10 kilometres Open Water\", 'Art Competitions Mixed Music, Compositions For Orchestra', \"Archery Men's Double York Round\", \"Wrestling Women's Middleweight, Freestyle\", \"Equestrianism Men's Vaulting, Individual\", \"Swimming Men's 4 x 250 metres Freestyle Relay\", \"Table Tennis Women's Team\", \"Athletics Women's Hammer Throw\", \"Canoeing Men's Kayak Singles, 200 metres\", \"Shooting Women's Double Trap\", \"Rowing Men's 6-Man Naval Rowing Boats\", 'Art Competitions Mixed Music', \"Shooting Men's Free Rifle, Kneeling, 300 metres\", \"Shooting Men's Free Rifle, Prone, 300 metres\", \"Shooting Men's Free Rifle, Standing, 300 metres\", \"Athletics Men's 3,200 metres Steeplechase\", \"Rowing Women's Coxless Fours\", \"Tennis Men's Doubles, Covered Courts\", \"Tennis Men's Singles, Covered Courts\", \"Cycling Men's 25 kilometres\", \"Shooting Men's Military Rifle, 200 metres\", \"Athletics Men's Standing Triple Jump\", \"Rowing Men's Coxed Pairs (1 kilometres)\", \"Shooting Men's Military Pistol, 30 metres\", \"Cycling Women's Keirin\", \"Archery Men's Au Cordon Dore, 50 metres\", \"Figure Skating Men's Singles\", 'Figure Skating Mixed Pairs', \"Swimming Women's 300 metres Freestyle\", \"Canoeing Men's Canadian Singles, 200 metres\", 'Sailing Mixed 30 metres', \"Athletics Men's 4,000 metres Steeplechase\", \"Athletics Men's 5,000 metres, Team\", \"Rowing Men's Coxed Pairs (1 mile)\", 'Art Competitions Mixed Unknown Event', \"Cycling Women's Omnium\", \"Swimming Men's 200 metres Obstacle Course\", \"Swimming Men's 200 metres Team Swimming\", 'Sailing Mixed 12 foot', 'Art Competitions Mixed Music, Instrumental And Chamber', 'Art Competitions Mixed Music, Vocals', 'Art Competitions Mixed Literature, Dramatic Works', \"Jeu De Paume Men's Singles\", 'Sailing Mixed 10-20 Ton', \"Cycling Men's 1/3 mile\", \"Cycling Men's 1 mile\", \"Cycling Men's 2 mile\", 'Art Competitions Mixed Sculpturing, Medals And Plaques', \"Athletics Men's 1,600 metres Medley Relay\", 'Croquet Mixed Singles, Two Balls', \"Canoeing Men's Folding Kayak Doubles, 10 kilometres\", \"Athletics Men's 60 metres\", 'Sailing Mixed 2-3 Ton', \"Shooting Men's Military Rifle, Prone, 600 metres\", \"Canoeing Men's Canadian Doubles, 10,000 metres\", \"Shooting Men's Dueling Pistol, 30 metres, Team\", \"Gymnastics Men's Parallel Bars, Teams\", \"Gymnastics Men's Horizontal Bar, Teams\", \"Shooting Men's Small-Bore Rifle, Disappearing Target, 25 metres, Team\", 'Art Competitions Mixed Sculpturing, Medals And Reliefs', \"Athletics Men's 1,500 metres Walk\", \"Athletics Men's 3 mile, Team\", 'Art Competitions Mixed Sculpturing, Medals', \"Shooting Men's Military Rifle, Kneeling Or Standing, 300 metres\", \"Equestrianism Men's Vaulting, Team\", \"Shooting Men's Free Rifle, Any Position, 300 metres\", \"Shooting Men's Military Rifle, 1873-1874 Gras Model, Kneeling Or Standing, 200 metres\", \"Swimming Men's 100 Yard Backstroke\", \"Swimming Men's 440 Yard Breaststroke\", 'Art Competitions Mixed Literature, Epic Works', 'Art Competitions Mixed Architecture', \"Athletics Men's 3,500 metres Walk\", \"Roque Men's Singles\", \"Gymnastics Men's Side Horse\", \"Archery Men's Double American Round\", \"Archery Men's Team Round\", \"Archery Men's Target Archery, 33 metres, Individual\", \"Archery Men's Target Archery, 50 metres, Individual\", \"Swimming Men's 1,000 metres Freestyle\", \"Athletics Men's 10 mile Walk\", \"Athletics Men's Discus Throw, Both Hands\", \"Golf Men's Team\", 'Sailing Mixed 0-0.5 Ton', 'Sailing Mixed 20+ Ton', \"Cycling Women's Team Sprint\", \"Weightlifting Men's Unlimited, Two Hands\", \"Shooting Men's Free Pistol, 25 metres\", \"Shooting Men's Military Revolver, 1873-1874 Gras Model, 20 metres\", \"Shooting Men's Military Revolver, 20 metres\", \"Shooting Men's Dueling Pistol Au Vise 20 metres\", \"Shooting Men's Dueling Pistol Au Commandement, 25 metres\", \"Shooting Men's Small-Bore Rifle, Prone, 50 metres, Team\", 'Sailing Mixed 6.5 metres', \"Athletics Men's 200 metres Hurdles\", \"Athletics Men's 56-pound Weight Throw\", 'Equestrianism Mixed Four-In-Hand Competition', \"Athletics Men's 2,500 metres Steeplechase\", 'Art Competitions Mixed Music, Unknown Event', \"Athletics Men's All-Around Championship\", \"Archery Men's Pole Archery, Small Birds, Individual\", \"Archery Men's Pole Archery, Large Birds, Individual\", \"Archery Men's Pole Archery, Small Birds, Team\", \"Archery Men's Pole Archery, Large Birds, Team\", \"Athletics Men's 2,590 metres Steeplechase\", \"Archery Women's Double Columbia Round\", \"Athletics Men's 4 mile, Team\", \"Figure Skating Men's Special Figures\", \"Shooting Men's Military Rifle, Standing, 300 metres\", \"Swimming Men's 50 yard Freestyle\", \"Swimming Men's 100 yard Freestyle\", \"Swimming Men's 440 yard Freestyle\", \"Basque Pelota Men's Two-Man Teams With Cesta\", \"Shooting Men's Trap, Single Shot, 16 metres\", \"Shooting Men's Trap, Double Shot, 14 metres\", 'Equestrianism Mixed Long Jump', \"Canoeing Men's Folding Kayak Singles, 10 kilometres\", \"Shooting Men's Free Pistol, 30 metres\", \"Shooting Men's Military Pistol, 25 metres\", \"Swimming Men's 100 metres Freestyle For Sailors\", \"Archery Men's Sur La Perche a La Herse\", 'Sailing Mixed 3-10 Ton', \"Gymnastics Men's Individual All-Around, 4 Events\", 'Alpinism Mixed Alpinism', \"Wrestling Men's Unlimited Class, Greco-Roman\", 'Motorboating Mixed B-Class (Under 60 Feet)', 'Motorboating Mixed C-Class', \"Cycling Men's 10,000 metres\", 'Art Competitions Mixed Sculpturing, Reliefs', \"Shooting Men's Muzzle-Loading Pistol, 25 metres\", 'Equestrianism Mixed High Jump', \"Archery Men's Sur La Perche a La Pyramide\", \"Fencing Men's Single Sticks, Individual\", \"Figure Skating Women's Singles\", \"Gymnastics Men's Tumbling\", \"Shooting Men's Unknown Event\", 'Sailing Mixed 18 foot', \"Archery Men's Unknown Event\", \"Archery Men's Au Chapelet, 50 metres\", \"Archery Men's Championnat Du Monde\", \"Archery Women's Team Round\", \"Wrestling Men's All-Around, Greco-Roman\", \"Cycling Men's 12-Hours Race\", \"Swimming Men's 500 metres Freestyle\", \"Weightlifting Men's All-Around Dumbbell Contest\", \"Archery Men's Au Chapelet, 33 metres\", \"Archery Men's Au Cordon Dore, 33 metres\", \"Archery Men's Target Archery, 28 metres, Individual\", 'Aeronautics Mixed Aeronautics', \"Women's Road Race\", \"Women's Individual Time Trial\", \"Men's All-Around\", \"Men's Floor Exercise\", \"Men's Pommel Horse\", \"Men's Rings\", \"Men's Vault\", \"Men's Parallel Bars\", \"Men's Horizontal Bar\", \"Men's Team\", \"Men's Pair Team\", 'Men Team', 'Women Team', \"Lightweight Men's Double Sculls Team\", \"Men's 100m Breaststroke\", \"Women's Kumite +61kg\", \"Men's Greco-Roman 87kg\", 'Group All-Around Team', 'Softball Team', \"Men's 800m\", 'Men -73 kg', '10m Air Pistol Women', '10m Air Pistol Mixed Team', '10m Air Pistol Men', 'Men -81 kg', \"Men's Kumite -75kg\", \"Women's Team\", 'Men -66 kg', \"Men's Freestyle 125kg\", \"Men's Javelin Throw\", 'Women -49kg', \"Men's 3000m Steeplechase\", \"Men's Marathon\", \"Women's All-Around\", \"Women's Vault\", \"Women's Uneven Bars\", \"Women's Balance Beam\", \"Women's Floor Exercise\", \"Women's Épée Individual\", \"Women's Singles\", \"Men's Heavy (81-91kg)\", \"Men's Freestyle 57kg\", \"Men's Greco-Roman 130kg\", \"Men's 73kg\", \"Men's Super Heavy (+91kg)\", \"Men's Individual\", \"Men's Light (57-63kg)\", \"Men's Freestyle 74kg\", 'Mixed Team', \"Men's 400m Hurdles\", 'Women -52 kg', \"Women's 3000m Steeplechase\", \"Men's Sabre Individual\", \"Men's Sabre Team\", \"Women's 3m Springboard\", \"Women's Synchronised 3m Springboard Team\", \"Men's Singles\", \"Men's 100m Freestyle\", \"Women's Skiff - 49er  Team\", \"Men's 5000m\", \"Women's 100m\", \"Men's Foil Individual\", \"Men's Foil Team\", \"Women's 76kg\", \"Women's 400m\", \"Men's Shot Put\", 'Men', \"Men's 10km\", \"Women's Single Sculls\", \"Men's 1500m Freestyle\", \"Men's 4 x 400m Relay Team\", '4 x 400m Relay Mixed Team', 'Mixed 4 x 100m Medley Relay Team', 'Men -68kg', 'Mixed Doubles Team', 'Skeet Men', \"Men's Greco-Roman 97kg\", \"Men's 4 x 100m Freestyle Relay Team\", \"Women's Individual\", 'Women +67kg', \"Men's 800m Freestyle\", \"Men's Kayak\", \"Men's Eight Team\", \"Women's 4 x 100m Relay Team\", 'Women -57kg', \"Women's 100m Breaststroke\", \"Women's Shot Put\", \"Men's 96kg\", \"Women's Freestyle 76kg\", \"Men's 100m\", \"Women's Freestyle 57kg\", \"Women's Freestyle 62kg\", 'Individual All-Around', 'Women +78 kg', 'Women', \"Men's Canoe Single 1000m\", \"Men's Canoe Double 1000m Team\", \"Men's Double Sculls Team\", \"Women's Quadruple Sculls Team\", \"Men's Two Person Dinghy - 470 Team\", \"Women's 1500m\", \"Men's 400m\", \"Women's 50m Freestyle\", 'Women -63 kg', \"Men's Kayak Single 1000m\", \"Men's Triple Jump\", \"Men's Freestyle 86kg\", \"Men's 50km Race Walk\", 'Women -78 kg', \"Women's Heptathlon\", \"Women's 10m Platform\", \"Women's Synchronised 10m Platform Team\", \"Men's Welter (63-69kg)\", \"Men's 100m Butterfly\", \"Women's Freestyle 68kg\", \"Men's 10,000m\", \"Women's Kayak Single 200m\", \"Women's Kayak Single 500m\", \"Men's Doubles Team\", \"Women's 4 x 100m Freestyle Relay Team\", \"Women's Pair Team\", \"Men's Greco-Roman 60kg\", \"Women's 49kg\", \"Men's Greco-Roman 77kg\", \"Men's 4 x 100m Relay Team\", '10m Air Rifle Men', '50m Rifle 3 Positions Men', \"Women's Freestyle 53kg\", '25m Rapid Fire Pistol Men', \"Men's High Jump\", \"Women's Welter (64-69kg)\", 'Men -60 kg', \"Women's +87kg\", \"Men's Freestyle 65kg\", \"Men's Kayak Single 200m\", \"Men's Kumite +75kg\", 'Jumping Team', 'Jumping Individual', 'Trap Men', \"Men's Single Sculls\", \"Men's Greco-Roman 67kg\", \"Men's Fly (48-52kg)\", 'Mixed Relay Team', 'Men +80kg', 'Mixed Multihull - Nacra 17 Foiling Team', 'Women -57 kg', \"Women's Eight Team\", 'Team', \"Women's 59kg\", \"Women's 800m\", 'Men -80kg', 'Duet Team', \"Women's Light (57-60kg)\", \"Men's Light Heavy (75-81kg)\", 'Eventing Team', 'Eventing Individual', \"Women's Feather (54-57kg)\", 'Trap Women', 'Trap Mixed Team', \"Men's Feather (52-57kg)\", \"Men's 110m Hurdles\", \"Men's 81kg\", 'Baseball Team', \"Men's 200m Breaststroke\", \"Women's Discus Throw\", \"Women's 4 x 400m Relay Team\", \"Men's Kumite -67kg\", \"Men's Road Race\", \"Men's Individual Time Trial\", \"Women's 4 x 200m Freestyle Relay Team\", \"Men's Kata\", \"Women's 100m Butterfly\", 'Women -67kg', \"Men's 61kg\", \"Lightweight Women's Double Sculls Team\", 'Women -48 kg', \"Men's 400m Freestyle\", \"Men's 200m Freestyle\", \"Women's Team Pursuit Team\", \"Men's Middle (69-75kg)\", \"Men's 200m\", \"Men's Skiff - 49er Team\", \"Women's 100m Hurdles\", \"Women's Marathon\", \"Women's Kata\", 'Men -90 kg', \"Men's Hammer Throw\", 'Skeet Women', \"Men's Individual Stroke Play\", \"Women's Hammer Throw\", \"Men's Park\", \"Women's 100m Freestyle\", \"Women's 200m Freestyle\", \"Women's 4 x 100m Medley Relay Team\", \"Women's 10km\", '4 x 400m Relay Mixed', \"Women's 20km Race Walk\", \"Women's 200m Individual Medley\", \"Women's 64kg\", \"Women's 10,000m\", \"Men's 1500m\", \"Women's Canoe Single 200m\", \"Women's Canoe Double 500m Team\", \"Women's Javelin Throw\", \"Men's 50m Freestyle\", \"Men's 200m Individual Medley\", \"Men's 4 x 100m Medley Relay Team\", \"Women's Sprint\", \"Women's Keirin\", \"Women's 87kg\", \"Men's 67kg\", \"Women's One Person Dinghy - Laser Radial\", \"Women's Four Team\", \"Men's Kayak Double 1000m Team\", \"Men's Kayak Four 500m Team\", \"Men's Quadruple Sculls Team\", \"Women's Team Sprint Team\", \"Women's Double Sculls Team\", \"Women's Sabre Individual\", \"Women's Sabre Team\", \"Men's Street\", \"Women's Doubles Team\", \"Men's 4 x 200m Freestyle Relay Team\", 'Women -70 kg', \"Women's Long Jump\", \"Men's One Person Dinghy - Laser\", \"Women's Omnium\", \"Women's Madison Team\", \"Women's 100m Backstroke\", \"Men's 3m Springboard\", \"Men's 20km Race Walk\", \"Women's Kayak Double 500m Team\", \"Women's Two Person Dinghy - 470 Team\", \"Men's 10m Platform\", \"Women's Park\", \"Men's 100m Backstroke\", \"Men's 400m Individual Medley\", '10m Air Rifle Women', '50m Rifle 3 Positions Women', '10m Air Rifle Mixed Team', 'Men -58kg', '25m Pistol Women', \"Men's +109kg\", \"Women's Individual Stroke Play\", \"Men's Windsurfer - RS:X\", \"Women's 4 x 100m Relay\", \"Men's 200m Backstroke\", \"Men's Cross-country\", \"Women's 200m Butterfly\", \"Men's Sprint\", \"Men's Keirin\", 'Dressage Team', 'Dressage Individual', \"Women's 200m\", \"Women's Foil Individual\", \"Women's Foil Team\", \"Women's 1500m Freestyle\", \"Men's 109kg\", \"Men's 200m Butterfly\", \"Women's 200m Backstroke\", \"Women's Kumite -55kg\", \"Men's Discus Throw\", \"Men's Synchronised 10m Platform Team\", \"Women's 400m Individual Medley\", \"Men's Épée Individual\", \"Men's Épée Team\", \"Women's Madison\", 'Men +100 kg', \"Men's Decathlon\", \"Women's 5000m\", \"Women's Cross-country\", \"Women's Windsurfer - RS:X\", \"Women's 400m Hurdles\", \"Women's 200m Breaststroke\", \"Women's Épée Team\", \"Women's 800m Freestyle\", \"Women's Pole Vault\", \"Women's Street\", \"Men's Canoe\", \"Men's Four Team\", \"Men's One Person Dinghy (Heavyweight) - Finn\", \"Men's Team Pursuit Team\", \"Men's Madison Team\", \"Women's Canoe\", \"Men's Long Jump\", \"Men's Team Sprint Team\", \"Men's Pole Vault\", \"Women's 400m Freestyle\", \"Women's Kayak Four 500m Team\", 'Men -100 kg', \"Women's High Jump\", \"Women's Fly (48-51kg)\", \"Women's Kayak\", \"Women's Middle (69-75kg)\", \"Men's Synchronised 3m Springboard Team\", \"Women's Combined\", \"Women's 55kg\", \"Men's Combined\", \"Women's Kumite -61kg\", \"Men's 4 x 400m Relay\", \"Men's Omnium\", \"Men's Freestyle 97kg\", \"Women's Freestyle 50kg\", \"Women's Triple Jump\", \"Men's 4 x 100m Relay\", \"Women's 4 x 400m Relay\", 'Marathon Race Walk Relay Mixed', 'Duet', \"Men's +102kg\", \"Men's Kayak Single\", \"Men's Kayak Cross\", \"Men's 63.5kg\", \"Men's 71kg\", \"Women's Dinghy\", \"Women's Windsurfing\", \"Lightweight Men's Double Sculls\", \"Men's Synchronised 10m Platform\", \"Women's Synchronised 10m Platform\", \"Men's Synchronised 3m Springboard\", 'Group All-Around', \"Women's Kayak Single\", \"Women's Kayak Cross\", \"Women's Kayak Double 500m\", \"Women's 60kg\", \"Women's 57kg\", \"Men's Kite\", \"Men's Dinghy\", \"Women's 4 x 100m Medley Relay\", \"Men's Speed\", 'Mixed Doubles', \"Men's 89kg\", \"Men's 102kg\", 'Mixed Multihull', \"Men's Windsurfing\", \"Women's Kite\", 'Skeet Mixed Team', \"Lightweight Women's Double Sculls\", \"Men's Doubles\", \"Women's Doubles\", \"Women's 66kg\", \"Women's 4 x 100m Freestyle Relay\", 'Relay Only Athlete', \"Men's 4 x 100m Medley Relay\", \"Women's Team Pursuit\", \"Women's Pair\", \"Women's Four\", \"Men's +92kg\", \"Women's 50kg\", \"Women's 54kg\", \"Men's 57kg\", \"Men's Canoe Double 500m\", 'B-Boys', 'B-Girls', \"Women's 81kg\", \"Women's 75kg\", \"Men's Skiff\", \"Men's Double Sculls\", \"Men's Pair\", \"Women's Double Sculls\", \"Women's 71kg\", \"Women's +81kg\", \"Men's Boulder & Lead\", \"Women's Boulder & Lead\", \"Men's Canoe Single\", \"Men's 92kg\", \"Men's Quadruple Sculls\", \"Men's Four\", \"Men's Eight\", \"Women's Eight\", \"Men's 51kg\", \"Women's Canoe Double 500m\", \"Women's Quadruple Sculls\", \"Women's Canoe Single\", \"Women's Team Sprint\", \"Women's Speed\", \"Men's 80kg\", 'Mixed Dinghy', \"Women's Skiff\", \"Men's Madison\", \"Women's Kayak Four 500m\", \"Men's Kayak Four 500m\", \"Men's Kayak Double 500m\", \"Men's 4 x 100m Freestyle Relay\", 'Mixed 4 x 100m Medley Relay', \"Men's Team Pursuit\", \"Women's 4 x 200m Freestyle Relay\", \"Men's Team Sprint\", \"Men's 4 x 200m Freestyle Relay\", \"Women's Synchronised 3m Springboard\", 'Mixed Relay']\n",
    "# Create a mapping where each country code maps to a unique numerical value\n",
    "Event_mapping = {code: idx for idx, code in enumerate(Event_map)}\n",
    "\n",
    "# Print the mapping (optional)\n",
    "print(Event_mapping)"
   ]
  },
  {
   "cell_type": "code",
   "execution_count": 19,
   "id": "5ffd2089-d1e8-422f-bb07-0a3b6d27db90",
   "metadata": {},
   "outputs": [],
   "source": [
    "df['Event'] = df['Event'].map(Event_mapping)"
   ]
  },
  {
   "cell_type": "code",
   "execution_count": 20,
   "id": "d7cd08e8-bacc-4b9b-bbfa-c26e1af4453b",
   "metadata": {},
   "outputs": [
    {
     "name": "stdout",
     "output_type": "stream",
     "text": [
      "<class 'pandas.core.frame.DataFrame'>\n",
      "RangeIndex: 252565 entries, 0 to 252564\n",
      "Data columns (total 12 columns):\n",
      " #   Column      Non-Null Count   Dtype \n",
      "---  ------      --------------   ----- \n",
      " 0   player_id   252565 non-null  int64 \n",
      " 1   Name        252565 non-null  object\n",
      " 2   Sex         252565 non-null  object\n",
      " 3   NOC         252565 non-null  int64 \n",
      " 4   Year        252565 non-null  int64 \n",
      " 5   Season      252565 non-null  object\n",
      " 6   City        252565 non-null  object\n",
      " 7   Sport       252565 non-null  int64 \n",
      " 8   Event       252565 non-null  int64 \n",
      " 9   Medal       252565 non-null  object\n",
      " 10  Country     252565 non-null  object\n",
      " 11  won_or_not  252565 non-null  int64 \n",
      "dtypes: int64(6), object(6)\n",
      "memory usage: 23.1+ MB\n"
     ]
    }
   ],
   "source": [
    "df.info()"
   ]
  },
  {
   "cell_type": "code",
   "execution_count": null,
   "id": "4f6e8fff-adb8-49f0-bc5d-d2110bf68c44",
   "metadata": {},
   "outputs": [],
   "source": []
  }
 ],
 "metadata": {
  "kernelspec": {
   "display_name": "Python 3 (ipykernel)",
   "language": "python",
   "name": "python3"
  },
  "language_info": {
   "codemirror_mode": {
    "name": "ipython",
    "version": 3
   },
   "file_extension": ".py",
   "mimetype": "text/x-python",
   "name": "python",
   "nbconvert_exporter": "python",
   "pygments_lexer": "ipython3",
   "version": "3.9.19"
  }
 },
 "nbformat": 4,
 "nbformat_minor": 5
}
