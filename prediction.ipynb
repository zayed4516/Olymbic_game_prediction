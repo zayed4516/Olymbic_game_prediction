{
  "cells": [
    {
      "cell_type": "markdown",
      "metadata": {
        "id": "view-in-github",
        "colab_type": "text"
      },
      "source": [
        "<a href=\"https://colab.research.google.com/github/Youssef1Moustafa/Olymbic_prediction/blob/main/prediction.ipynb\" target=\"_parent\"><img src=\"https://colab.research.google.com/assets/colab-badge.svg\" alt=\"Open In Colab\"/></a>"
      ]
    },
    {
      "cell_type": "code",
      "execution_count": 12,
      "id": "f5457729-fc40-4523-8bda-d31a53934075",
      "metadata": {
        "id": "f5457729-fc40-4523-8bda-d31a53934075"
      },
      "outputs": [],
      "source": [
        "#!pip install lightgbm\n",
        "\n",
        "import pandas as pd\n",
        "from sklearn.model_selection import train_test_split, cross_val_score\n",
        "from sklearn.svm import SVC\n",
        "from sklearn.linear_model import LogisticRegression\n",
        "from sklearn.ensemble import RandomForestClassifier\n",
        "from sklearn.tree import DecisionTreeClassifier\n",
        "import xgboost as xgb\n",
        "import lightgbm as lgb\n",
        "from sklearn.linear_model import LogisticRegression\n",
        "from sklearn.tree import DecisionTreeClassifier\n",
        "from sklearn.svm import SVC\n",
        "from sklearn.metrics import accuracy_score\n",
        "from sklearn.metrics import classification_report, confusion_matrix, ConfusionMatrixDisplay, roc_auc_score\n",
        "from imblearn.over_sampling import SMOTE"
      ]
    },
    {
      "cell_type": "code",
      "execution_count": 13,
      "id": "8a22cca8-c3e8-4448-b1ac-7e4e6c41602d",
      "metadata": {
        "colab": {
          "base_uri": "https://localhost:8080/",
          "height": 226
        },
        "id": "8a22cca8-c3e8-4448-b1ac-7e4e6c41602d",
        "outputId": "ca40e650-4ef0-4e31-d634-9d15151b0bbf"
      },
      "outputs": [
        {
          "output_type": "execute_result",
          "data": {
            "text/plain": [
              "   Sex  NOC  Year  Season  City  Sport  Event  Medal  Country  won_or_not  \\\n",
              "0    1   42  1992       0     4     12    164      2      202           0   \n",
              "1    1   42  2012       0     8     43    356      2      202           0   \n",
              "2    1   56  1920       0     1     36    315      2      283           0   \n",
              "3    1   56  1900       0    15     71    822      1      288           1   \n",
              "4    0  148  1932       0     9      8    131      2      713           0   \n",
              "\n",
              "   Gold_Count  Silver_Count  Bronze_Count  Total_Medals  Total_Medals_country  \n",
              "0         0.0           0.0           0.0             0                  1218  \n",
              "1         0.0           0.0           0.0             0                  1218  \n",
              "2         0.0           0.0           0.0             0                   666  \n",
              "3       200.0           0.0           0.0             1                   666  \n",
              "4         0.0           0.0           0.0             0                  1108  "
            ],
            "text/html": [
              "\n",
              "  <div id=\"df-36bfd0bf-7df5-423c-9c88-7c23587c5043\" class=\"colab-df-container\">\n",
              "    <div>\n",
              "<style scoped>\n",
              "    .dataframe tbody tr th:only-of-type {\n",
              "        vertical-align: middle;\n",
              "    }\n",
              "\n",
              "    .dataframe tbody tr th {\n",
              "        vertical-align: top;\n",
              "    }\n",
              "\n",
              "    .dataframe thead th {\n",
              "        text-align: right;\n",
              "    }\n",
              "</style>\n",
              "<table border=\"1\" class=\"dataframe\">\n",
              "  <thead>\n",
              "    <tr style=\"text-align: right;\">\n",
              "      <th></th>\n",
              "      <th>Sex</th>\n",
              "      <th>NOC</th>\n",
              "      <th>Year</th>\n",
              "      <th>Season</th>\n",
              "      <th>City</th>\n",
              "      <th>Sport</th>\n",
              "      <th>Event</th>\n",
              "      <th>Medal</th>\n",
              "      <th>Country</th>\n",
              "      <th>won_or_not</th>\n",
              "      <th>Gold_Count</th>\n",
              "      <th>Silver_Count</th>\n",
              "      <th>Bronze_Count</th>\n",
              "      <th>Total_Medals</th>\n",
              "      <th>Total_Medals_country</th>\n",
              "    </tr>\n",
              "  </thead>\n",
              "  <tbody>\n",
              "    <tr>\n",
              "      <th>0</th>\n",
              "      <td>1</td>\n",
              "      <td>42</td>\n",
              "      <td>1992</td>\n",
              "      <td>0</td>\n",
              "      <td>4</td>\n",
              "      <td>12</td>\n",
              "      <td>164</td>\n",
              "      <td>2</td>\n",
              "      <td>202</td>\n",
              "      <td>0</td>\n",
              "      <td>0.0</td>\n",
              "      <td>0.0</td>\n",
              "      <td>0.0</td>\n",
              "      <td>0</td>\n",
              "      <td>1218</td>\n",
              "    </tr>\n",
              "    <tr>\n",
              "      <th>1</th>\n",
              "      <td>1</td>\n",
              "      <td>42</td>\n",
              "      <td>2012</td>\n",
              "      <td>0</td>\n",
              "      <td>8</td>\n",
              "      <td>43</td>\n",
              "      <td>356</td>\n",
              "      <td>2</td>\n",
              "      <td>202</td>\n",
              "      <td>0</td>\n",
              "      <td>0.0</td>\n",
              "      <td>0.0</td>\n",
              "      <td>0.0</td>\n",
              "      <td>0</td>\n",
              "      <td>1218</td>\n",
              "    </tr>\n",
              "    <tr>\n",
              "      <th>2</th>\n",
              "      <td>1</td>\n",
              "      <td>56</td>\n",
              "      <td>1920</td>\n",
              "      <td>0</td>\n",
              "      <td>1</td>\n",
              "      <td>36</td>\n",
              "      <td>315</td>\n",
              "      <td>2</td>\n",
              "      <td>283</td>\n",
              "      <td>0</td>\n",
              "      <td>0.0</td>\n",
              "      <td>0.0</td>\n",
              "      <td>0.0</td>\n",
              "      <td>0</td>\n",
              "      <td>666</td>\n",
              "    </tr>\n",
              "    <tr>\n",
              "      <th>3</th>\n",
              "      <td>1</td>\n",
              "      <td>56</td>\n",
              "      <td>1900</td>\n",
              "      <td>0</td>\n",
              "      <td>15</td>\n",
              "      <td>71</td>\n",
              "      <td>822</td>\n",
              "      <td>1</td>\n",
              "      <td>288</td>\n",
              "      <td>1</td>\n",
              "      <td>200.0</td>\n",
              "      <td>0.0</td>\n",
              "      <td>0.0</td>\n",
              "      <td>1</td>\n",
              "      <td>666</td>\n",
              "    </tr>\n",
              "    <tr>\n",
              "      <th>4</th>\n",
              "      <td>0</td>\n",
              "      <td>148</td>\n",
              "      <td>1932</td>\n",
              "      <td>0</td>\n",
              "      <td>9</td>\n",
              "      <td>8</td>\n",
              "      <td>131</td>\n",
              "      <td>2</td>\n",
              "      <td>713</td>\n",
              "      <td>0</td>\n",
              "      <td>0.0</td>\n",
              "      <td>0.0</td>\n",
              "      <td>0.0</td>\n",
              "      <td>0</td>\n",
              "      <td>1108</td>\n",
              "    </tr>\n",
              "  </tbody>\n",
              "</table>\n",
              "</div>\n",
              "    <div class=\"colab-df-buttons\">\n",
              "\n",
              "  <div class=\"colab-df-container\">\n",
              "    <button class=\"colab-df-convert\" onclick=\"convertToInteractive('df-36bfd0bf-7df5-423c-9c88-7c23587c5043')\"\n",
              "            title=\"Convert this dataframe to an interactive table.\"\n",
              "            style=\"display:none;\">\n",
              "\n",
              "  <svg xmlns=\"http://www.w3.org/2000/svg\" height=\"24px\" viewBox=\"0 -960 960 960\">\n",
              "    <path d=\"M120-120v-720h720v720H120Zm60-500h600v-160H180v160Zm220 220h160v-160H400v160Zm0 220h160v-160H400v160ZM180-400h160v-160H180v160Zm440 0h160v-160H620v160ZM180-180h160v-160H180v160Zm440 0h160v-160H620v160Z\"/>\n",
              "  </svg>\n",
              "    </button>\n",
              "\n",
              "  <style>\n",
              "    .colab-df-container {\n",
              "      display:flex;\n",
              "      gap: 12px;\n",
              "    }\n",
              "\n",
              "    .colab-df-convert {\n",
              "      background-color: #E8F0FE;\n",
              "      border: none;\n",
              "      border-radius: 50%;\n",
              "      cursor: pointer;\n",
              "      display: none;\n",
              "      fill: #1967D2;\n",
              "      height: 32px;\n",
              "      padding: 0 0 0 0;\n",
              "      width: 32px;\n",
              "    }\n",
              "\n",
              "    .colab-df-convert:hover {\n",
              "      background-color: #E2EBFA;\n",
              "      box-shadow: 0px 1px 2px rgba(60, 64, 67, 0.3), 0px 1px 3px 1px rgba(60, 64, 67, 0.15);\n",
              "      fill: #174EA6;\n",
              "    }\n",
              "\n",
              "    .colab-df-buttons div {\n",
              "      margin-bottom: 4px;\n",
              "    }\n",
              "\n",
              "    [theme=dark] .colab-df-convert {\n",
              "      background-color: #3B4455;\n",
              "      fill: #D2E3FC;\n",
              "    }\n",
              "\n",
              "    [theme=dark] .colab-df-convert:hover {\n",
              "      background-color: #434B5C;\n",
              "      box-shadow: 0px 1px 3px 1px rgba(0, 0, 0, 0.15);\n",
              "      filter: drop-shadow(0px 1px 2px rgba(0, 0, 0, 0.3));\n",
              "      fill: #FFFFFF;\n",
              "    }\n",
              "  </style>\n",
              "\n",
              "    <script>\n",
              "      const buttonEl =\n",
              "        document.querySelector('#df-36bfd0bf-7df5-423c-9c88-7c23587c5043 button.colab-df-convert');\n",
              "      buttonEl.style.display =\n",
              "        google.colab.kernel.accessAllowed ? 'block' : 'none';\n",
              "\n",
              "      async function convertToInteractive(key) {\n",
              "        const element = document.querySelector('#df-36bfd0bf-7df5-423c-9c88-7c23587c5043');\n",
              "        const dataTable =\n",
              "          await google.colab.kernel.invokeFunction('convertToInteractive',\n",
              "                                                    [key], {});\n",
              "        if (!dataTable) return;\n",
              "\n",
              "        const docLinkHtml = 'Like what you see? Visit the ' +\n",
              "          '<a target=\"_blank\" href=https://colab.research.google.com/notebooks/data_table.ipynb>data table notebook</a>'\n",
              "          + ' to learn more about interactive tables.';\n",
              "        element.innerHTML = '';\n",
              "        dataTable['output_type'] = 'display_data';\n",
              "        await google.colab.output.renderOutput(dataTable, element);\n",
              "        const docLink = document.createElement('div');\n",
              "        docLink.innerHTML = docLinkHtml;\n",
              "        element.appendChild(docLink);\n",
              "      }\n",
              "    </script>\n",
              "  </div>\n",
              "\n",
              "\n",
              "<div id=\"df-c76f5be6-dd68-47b0-8d30-437877e171fc\">\n",
              "  <button class=\"colab-df-quickchart\" onclick=\"quickchart('df-c76f5be6-dd68-47b0-8d30-437877e171fc')\"\n",
              "            title=\"Suggest charts\"\n",
              "            style=\"display:none;\">\n",
              "\n",
              "<svg xmlns=\"http://www.w3.org/2000/svg\" height=\"24px\"viewBox=\"0 0 24 24\"\n",
              "     width=\"24px\">\n",
              "    <g>\n",
              "        <path d=\"M19 3H5c-1.1 0-2 .9-2 2v14c0 1.1.9 2 2 2h14c1.1 0 2-.9 2-2V5c0-1.1-.9-2-2-2zM9 17H7v-7h2v7zm4 0h-2V7h2v10zm4 0h-2v-4h2v4z\"/>\n",
              "    </g>\n",
              "</svg>\n",
              "  </button>\n",
              "\n",
              "<style>\n",
              "  .colab-df-quickchart {\n",
              "      --bg-color: #E8F0FE;\n",
              "      --fill-color: #1967D2;\n",
              "      --hover-bg-color: #E2EBFA;\n",
              "      --hover-fill-color: #174EA6;\n",
              "      --disabled-fill-color: #AAA;\n",
              "      --disabled-bg-color: #DDD;\n",
              "  }\n",
              "\n",
              "  [theme=dark] .colab-df-quickchart {\n",
              "      --bg-color: #3B4455;\n",
              "      --fill-color: #D2E3FC;\n",
              "      --hover-bg-color: #434B5C;\n",
              "      --hover-fill-color: #FFFFFF;\n",
              "      --disabled-bg-color: #3B4455;\n",
              "      --disabled-fill-color: #666;\n",
              "  }\n",
              "\n",
              "  .colab-df-quickchart {\n",
              "    background-color: var(--bg-color);\n",
              "    border: none;\n",
              "    border-radius: 50%;\n",
              "    cursor: pointer;\n",
              "    display: none;\n",
              "    fill: var(--fill-color);\n",
              "    height: 32px;\n",
              "    padding: 0;\n",
              "    width: 32px;\n",
              "  }\n",
              "\n",
              "  .colab-df-quickchart:hover {\n",
              "    background-color: var(--hover-bg-color);\n",
              "    box-shadow: 0 1px 2px rgba(60, 64, 67, 0.3), 0 1px 3px 1px rgba(60, 64, 67, 0.15);\n",
              "    fill: var(--button-hover-fill-color);\n",
              "  }\n",
              "\n",
              "  .colab-df-quickchart-complete:disabled,\n",
              "  .colab-df-quickchart-complete:disabled:hover {\n",
              "    background-color: var(--disabled-bg-color);\n",
              "    fill: var(--disabled-fill-color);\n",
              "    box-shadow: none;\n",
              "  }\n",
              "\n",
              "  .colab-df-spinner {\n",
              "    border: 2px solid var(--fill-color);\n",
              "    border-color: transparent;\n",
              "    border-bottom-color: var(--fill-color);\n",
              "    animation:\n",
              "      spin 1s steps(1) infinite;\n",
              "  }\n",
              "\n",
              "  @keyframes spin {\n",
              "    0% {\n",
              "      border-color: transparent;\n",
              "      border-bottom-color: var(--fill-color);\n",
              "      border-left-color: var(--fill-color);\n",
              "    }\n",
              "    20% {\n",
              "      border-color: transparent;\n",
              "      border-left-color: var(--fill-color);\n",
              "      border-top-color: var(--fill-color);\n",
              "    }\n",
              "    30% {\n",
              "      border-color: transparent;\n",
              "      border-left-color: var(--fill-color);\n",
              "      border-top-color: var(--fill-color);\n",
              "      border-right-color: var(--fill-color);\n",
              "    }\n",
              "    40% {\n",
              "      border-color: transparent;\n",
              "      border-right-color: var(--fill-color);\n",
              "      border-top-color: var(--fill-color);\n",
              "    }\n",
              "    60% {\n",
              "      border-color: transparent;\n",
              "      border-right-color: var(--fill-color);\n",
              "    }\n",
              "    80% {\n",
              "      border-color: transparent;\n",
              "      border-right-color: var(--fill-color);\n",
              "      border-bottom-color: var(--fill-color);\n",
              "    }\n",
              "    90% {\n",
              "      border-color: transparent;\n",
              "      border-bottom-color: var(--fill-color);\n",
              "    }\n",
              "  }\n",
              "</style>\n",
              "\n",
              "  <script>\n",
              "    async function quickchart(key) {\n",
              "      const quickchartButtonEl =\n",
              "        document.querySelector('#' + key + ' button');\n",
              "      quickchartButtonEl.disabled = true;  // To prevent multiple clicks.\n",
              "      quickchartButtonEl.classList.add('colab-df-spinner');\n",
              "      try {\n",
              "        const charts = await google.colab.kernel.invokeFunction(\n",
              "            'suggestCharts', [key], {});\n",
              "      } catch (error) {\n",
              "        console.error('Error during call to suggestCharts:', error);\n",
              "      }\n",
              "      quickchartButtonEl.classList.remove('colab-df-spinner');\n",
              "      quickchartButtonEl.classList.add('colab-df-quickchart-complete');\n",
              "    }\n",
              "    (() => {\n",
              "      let quickchartButtonEl =\n",
              "        document.querySelector('#df-c76f5be6-dd68-47b0-8d30-437877e171fc button');\n",
              "      quickchartButtonEl.style.display =\n",
              "        google.colab.kernel.accessAllowed ? 'block' : 'none';\n",
              "    })();\n",
              "  </script>\n",
              "</div>\n",
              "\n",
              "    </div>\n",
              "  </div>\n"
            ],
            "application/vnd.google.colaboratory.intrinsic+json": {
              "type": "dataframe",
              "variable_name": "df"
            }
          },
          "metadata": {},
          "execution_count": 13
        }
      ],
      "source": [
        "df = pd.read_csv('olymbic.csv')\n",
        "df.head()"
      ]
    },
    {
      "cell_type": "code",
      "execution_count": 14,
      "id": "Jm5j5yOAN9Uo",
      "metadata": {
        "id": "Jm5j5yOAN9Uo"
      },
      "outputs": [],
      "source": [
        "df = df.drop(['Gold_Count','Silver_Count','Bronze_Count','Total_Medals','Total_Medals_country'], axis=1)"
      ]
    },
    {
      "cell_type": "code",
      "execution_count": 15,
      "id": "53722258-e156-4bc8-93af-7917dea39abd",
      "metadata": {
        "id": "53722258-e156-4bc8-93af-7917dea39abd"
      },
      "outputs": [],
      "source": [
        "from sklearn.model_selection import train_test_split\n",
        "\n",
        "#selected_features = positive_corr_delivery_type['Feature'].tolist()\n",
        "#X = df[selected_features]\n",
        "X = df.drop(['won_or_not'], axis=1)\n",
        "y = df['won_or_not']\n",
        "X_train, X_test, y_train, y_test = train_test_split(X, y, test_size=0.5, random_state=42)"
      ]
    },
    {
      "cell_type": "code",
      "execution_count": 16,
      "id": "204d4e29-68b2-4d3a-b0f2-08f43020befa",
      "metadata": {
        "id": "204d4e29-68b2-4d3a-b0f2-08f43020befa"
      },
      "outputs": [],
      "source": [
        "smote = SMOTE(random_state=42)\n",
        "X_train_resampled, y_train_resampled = smote.fit_resample(X_train, y_train)"
      ]
    },
    {
      "cell_type": "code",
      "execution_count": 17,
      "id": "9f724332-6393-4eba-bc40-0c67d6d9ed67",
      "metadata": {
        "colab": {
          "base_uri": "https://localhost:8080/"
        },
        "id": "9f724332-6393-4eba-bc40-0c67d6d9ed67",
        "outputId": "bfdaa3c4-cc49-4829-b388-2ab5688f4cdc"
      },
      "outputs": [
        {
          "output_type": "stream",
          "name": "stdout",
          "text": [
            "Resampled class distribution: \n",
            "won_or_not\n",
            "0    106954\n",
            "1    106954\n",
            "Name: count, dtype: int64\n"
          ]
        }
      ],
      "source": [
        "print(f\"Resampled class distribution: \\n{y_train_resampled.value_counts()}\")"
      ]
    },
    {
      "cell_type": "code",
      "execution_count": 18,
      "id": "0fdca9be-c359-4e63-bfe0-9ca42a911976",
      "metadata": {
        "id": "0fdca9be-c359-4e63-bfe0-9ca42a911976"
      },
      "outputs": [],
      "source": [
        "model = RandomForestClassifier(random_state=42)\n",
        "model.fit(X_train_resampled, y_train_resampled)\n",
        "y_pred = model.predict(X_test)"
      ]
    },
    {
      "cell_type": "code",
      "execution_count": 19,
      "id": "2cdabbe3-6793-4ee0-8fd0-43f34b4a662b",
      "metadata": {
        "colab": {
          "base_uri": "https://localhost:8080/"
        },
        "id": "2cdabbe3-6793-4ee0-8fd0-43f34b4a662b",
        "outputId": "ec0a78a3-7873-4ac4-c4d6-12b67b4ded4b"
      },
      "outputs": [
        {
          "output_type": "stream",
          "name": "stdout",
          "text": [
            "Classification Report:\n",
            "               precision    recall  f1-score   support\n",
            "\n",
            "           0       1.00      0.99      0.99    106793\n",
            "           1       0.95      1.00      0.97     19490\n",
            "\n",
            "    accuracy                           0.99    126283\n",
            "   macro avg       0.97      1.00      0.98    126283\n",
            "weighted avg       0.99      0.99      0.99    126283\n",
            "\n",
            "ROC-AUC Score: 1.00\n"
          ]
        }
      ],
      "source": [
        "print(\"Classification Report:\\n\", classification_report(y_test, y_pred))\n",
        "roc_auc = roc_auc_score(y_test, model.predict_proba(X_test)[:, 1])\n",
        "print(f\"ROC-AUC Score: {roc_auc:.2f}\")"
      ]
    },
    {
      "cell_type": "code",
      "execution_count": 20,
      "id": "8b75a29e-8652-4d9b-8520-7a950ec7cef8",
      "metadata": {
        "colab": {
          "base_uri": "https://localhost:8080/"
        },
        "id": "8b75a29e-8652-4d9b-8520-7a950ec7cef8",
        "outputId": "92dcbcc0-43ec-4055-ba48-10109307f894"
      },
      "outputs": [
        {
          "output_type": "stream",
          "name": "stdout",
          "text": [
            "--- Logistic Regression ---\n",
            "Classification Report:\n",
            "               precision    recall  f1-score   support\n",
            "\n",
            "           0       0.94      0.94      0.94    106793\n",
            "           1       0.65      0.67      0.66     19490\n",
            "\n",
            "    accuracy                           0.89    126283\n",
            "   macro avg       0.80      0.80      0.80    126283\n",
            "weighted avg       0.90      0.89      0.89    126283\n",
            "\n",
            "ROC-AUC Score: 0.67\n",
            "\n",
            "--- Decision Tree ---\n",
            "Classification Report:\n",
            "               precision    recall  f1-score   support\n",
            "\n",
            "           0       1.00      0.98      0.99    106793\n",
            "           1       0.92      1.00      0.96     19490\n",
            "\n",
            "    accuracy                           0.99    126283\n",
            "   macro avg       0.96      0.99      0.97    126283\n",
            "weighted avg       0.99      0.99      0.99    126283\n",
            "\n",
            "ROC-AUC Score: 0.99\n",
            "\n",
            "--- Random Forest ---\n",
            "Classification Report:\n",
            "               precision    recall  f1-score   support\n",
            "\n",
            "           0       1.00      0.99      0.99    106793\n",
            "           1       0.95      1.00      0.97     19490\n",
            "\n",
            "    accuracy                           0.99    126283\n",
            "   macro avg       0.97      1.00      0.98    126283\n",
            "weighted avg       0.99      0.99      0.99    126283\n",
            "\n",
            "ROC-AUC Score: 1.00\n",
            "\n",
            "--- XGBoost ---\n",
            "Classification Report:\n",
            "               precision    recall  f1-score   support\n",
            "\n",
            "           0       1.00      0.96      0.98    106793\n",
            "           1       0.84      1.00      0.91     19490\n",
            "\n",
            "    accuracy                           0.97    126283\n",
            "   macro avg       0.92      0.98      0.95    126283\n",
            "weighted avg       0.97      0.97      0.97    126283\n",
            "\n",
            "ROC-AUC Score: 1.00\n",
            "\n",
            "[LightGBM] [Info] Number of positive: 106954, number of negative: 106954\n",
            "[LightGBM] [Info] Auto-choosing row-wise multi-threading, the overhead of testing was 0.007172 seconds.\n",
            "You can set `force_row_wise=true` to remove the overhead.\n",
            "And if memory is not enough, you can set `force_col_wise=true`.\n",
            "[LightGBM] [Info] Total Bins 949\n",
            "[LightGBM] [Info] Number of data points in the train set: 213908, number of used features: 8\n",
            "[LightGBM] [Info] [binary:BoostFromScore]: pavg=0.500000 -> initscore=0.000000\n",
            "--- LightGBM ---\n",
            "Classification Report:\n",
            "               precision    recall  f1-score   support\n",
            "\n",
            "           0       1.00      1.00      1.00    106793\n",
            "           1       1.00      1.00      1.00     19490\n",
            "\n",
            "    accuracy                           1.00    126283\n",
            "   macro avg       1.00      1.00      1.00    126283\n",
            "weighted avg       1.00      1.00      1.00    126283\n",
            "\n",
            "ROC-AUC Score: 1.00\n",
            "\n"
          ]
        }
      ],
      "source": [
        "# Step 5: Define a function to train and evaluate models\n",
        "def train_and_evaluate_model(model, model_name):\n",
        "    model.fit(X_train_resampled, y_train_resampled)\n",
        "    y_pred = model.predict(X_test)\n",
        "    print(f\"--- {model_name} ---\")\n",
        "    print(\"Classification Report:\\n\", classification_report(y_test, y_pred))\n",
        "    roc_auc = roc_auc_score(y_test, model.predict_proba(X_test)[:, 1])\n",
        "    print(f\"ROC-AUC Score: {roc_auc:.2f}\\n\")\n",
        "\n",
        "# Step 6: Train and evaluate different models\n",
        "models = {\n",
        "    \"Logistic Regression\": LogisticRegression(class_weight='balanced', max_iter=1000),\n",
        "    \"Decision Tree\": DecisionTreeClassifier(class_weight='balanced', random_state=42),\n",
        "    \"Random Forest\": RandomForestClassifier(class_weight='balanced', random_state=42),\n",
        "    #\"Support Vector Machine\": SVC(class_weight='balanced', probability=True),\n",
        "    \"XGBoost\": xgb.XGBClassifier(scale_pos_weight=(len(y) - sum(y)) / sum(y), random_state=42),\n",
        "    \"LightGBM\": lgb.LGBMClassifier(class_weight='balanced', random_state=42)\n",
        "}\n",
        "\n",
        "for model_name, model in models.items():\n",
        "    train_and_evaluate_model(model, model_name)"
      ]
    },
    {
      "cell_type": "markdown",
      "id": "c26db09a-08ce-4944-a73f-c85a51846f69",
      "metadata": {
        "id": "c26db09a-08ce-4944-a73f-c85a51846f69"
      },
      "source": [
        "# Importance features"
      ]
    },
    {
      "cell_type": "code",
      "execution_count": 21,
      "id": "ee64bc4b-6909-4bad-b87a-d0d53de60f35",
      "metadata": {
        "id": "ee64bc4b-6909-4bad-b87a-d0d53de60f35"
      },
      "outputs": [],
      "source": [
        "X = df[['NOC','Country','Sport','Event']]\n",
        "y = df['won_or_not']\n",
        "X_train, X_test, y_train, y_test = train_test_split(X, y, test_size=0.5, random_state=42)"
      ]
    },
    {
      "cell_type": "code",
      "execution_count": 22,
      "id": "09f70d1f-21f9-4292-94e5-b44f37b9b272",
      "metadata": {
        "id": "09f70d1f-21f9-4292-94e5-b44f37b9b272"
      },
      "outputs": [],
      "source": [
        "smote = SMOTE(random_state=42)\n",
        "X_train_resampled, y_train_resampled = smote.fit_resample(X_train, y_train)"
      ]
    },
    {
      "cell_type": "code",
      "execution_count": 23,
      "id": "6b5eab04-81c7-4f50-ae14-2eee2b2b6ee8",
      "metadata": {
        "colab": {
          "base_uri": "https://localhost:8080/"
        },
        "id": "6b5eab04-81c7-4f50-ae14-2eee2b2b6ee8",
        "outputId": "382f1f90-add4-4eb9-f146-7703c0173516"
      },
      "outputs": [
        {
          "output_type": "stream",
          "name": "stdout",
          "text": [
            "Resampled class distribution: \n",
            "won_or_not\n",
            "0    106954\n",
            "1    106954\n",
            "Name: count, dtype: int64\n"
          ]
        }
      ],
      "source": [
        "print(f\"Resampled class distribution: \\n{y_train_resampled.value_counts()}\")"
      ]
    },
    {
      "cell_type": "code",
      "execution_count": 24,
      "id": "7a06b369-faa9-4bae-8b3b-b603ec87a812",
      "metadata": {
        "id": "7a06b369-faa9-4bae-8b3b-b603ec87a812"
      },
      "outputs": [],
      "source": [
        "model = RandomForestClassifier(random_state=42)\n",
        "model.fit(X_train_resampled, y_train_resampled)\n",
        "y_pred = model.predict(X_test)"
      ]
    },
    {
      "cell_type": "code",
      "execution_count": 25,
      "id": "68adf292-fd57-4a9d-ad53-903b674e6284",
      "metadata": {
        "colab": {
          "base_uri": "https://localhost:8080/"
        },
        "id": "68adf292-fd57-4a9d-ad53-903b674e6284",
        "outputId": "945e2f98-b974-41b9-fb78-c4924b6cb3f2"
      },
      "outputs": [
        {
          "output_type": "stream",
          "name": "stdout",
          "text": [
            "Classification Report:\n",
            "               precision    recall  f1-score   support\n",
            "\n",
            "           0       0.95      0.82      0.88    106793\n",
            "           1       0.43      0.75      0.55     19490\n",
            "\n",
            "    accuracy                           0.81    126283\n",
            "   macro avg       0.69      0.79      0.71    126283\n",
            "weighted avg       0.87      0.81      0.83    126283\n",
            "\n",
            "ROC-AUC Score: 0.86\n"
          ]
        }
      ],
      "source": [
        "print(\"Classification Report:\\n\", classification_report(y_test, y_pred))\n",
        "roc_auc = roc_auc_score(y_test, model.predict_proba(X_test)[:, 1])\n",
        "print(f\"ROC-AUC Score: {roc_auc:.2f}\")"
      ]
    },
    {
      "cell_type": "code",
      "execution_count": 26,
      "id": "db29647b-ea6a-4b40-b90d-5c5fb19f543d",
      "metadata": {
        "colab": {
          "base_uri": "https://localhost:8080/"
        },
        "id": "db29647b-ea6a-4b40-b90d-5c5fb19f543d",
        "outputId": "580b8e4a-5440-442b-bf80-925ffac3a771"
      },
      "outputs": [
        {
          "output_type": "stream",
          "name": "stdout",
          "text": [
            "--- Logistic Regression ---\n",
            "Classification Report:\n",
            "               precision    recall  f1-score   support\n",
            "\n",
            "           0       0.87      0.54      0.67    106793\n",
            "           1       0.18      0.56      0.28     19490\n",
            "\n",
            "    accuracy                           0.55    126283\n",
            "   macro avg       0.53      0.55      0.47    126283\n",
            "weighted avg       0.76      0.55      0.61    126283\n",
            "\n",
            "ROC-AUC Score: 0.57\n",
            "\n",
            "--- Decision Tree ---\n",
            "Classification Report:\n",
            "               precision    recall  f1-score   support\n",
            "\n",
            "           0       0.95      0.82      0.88    106793\n",
            "           1       0.43      0.74      0.55     19490\n",
            "\n",
            "    accuracy                           0.81    126283\n",
            "   macro avg       0.69      0.78      0.71    126283\n",
            "weighted avg       0.87      0.81      0.83    126283\n",
            "\n",
            "ROC-AUC Score: 0.85\n",
            "\n",
            "--- Random Forest ---\n",
            "Classification Report:\n",
            "               precision    recall  f1-score   support\n",
            "\n",
            "           0       0.95      0.82      0.88    106793\n",
            "           1       0.43      0.75      0.55     19490\n",
            "\n",
            "    accuracy                           0.81    126283\n",
            "   macro avg       0.69      0.79      0.71    126283\n",
            "weighted avg       0.87      0.81      0.83    126283\n",
            "\n",
            "ROC-AUC Score: 0.86\n",
            "\n",
            "--- XGBoost ---\n",
            "Classification Report:\n",
            "               precision    recall  f1-score   support\n",
            "\n",
            "           0       0.98      0.36      0.53    106793\n",
            "           1       0.21      0.96      0.35     19490\n",
            "\n",
            "    accuracy                           0.45    126283\n",
            "   macro avg       0.60      0.66      0.44    126283\n",
            "weighted avg       0.86      0.45      0.50    126283\n",
            "\n",
            "ROC-AUC Score: 0.83\n",
            "\n",
            "[LightGBM] [Info] Number of positive: 106954, number of negative: 106954\n",
            "[LightGBM] [Info] Auto-choosing col-wise multi-threading, the overhead of testing was 0.010314 seconds.\n",
            "You can set `force_col_wise=true` to remove the overhead.\n",
            "[LightGBM] [Info] Total Bins 784\n",
            "[LightGBM] [Info] Number of data points in the train set: 213908, number of used features: 4\n",
            "[LightGBM] [Info] [binary:BoostFromScore]: pavg=0.500000 -> initscore=0.000000\n",
            "--- LightGBM ---\n",
            "Classification Report:\n",
            "               precision    recall  f1-score   support\n",
            "\n",
            "           0       0.94      0.71      0.81    106793\n",
            "           1       0.32      0.75      0.45     19490\n",
            "\n",
            "    accuracy                           0.72    126283\n",
            "   macro avg       0.63      0.73      0.63    126283\n",
            "weighted avg       0.84      0.72      0.76    126283\n",
            "\n",
            "ROC-AUC Score: 0.81\n",
            "\n"
          ]
        }
      ],
      "source": [
        "# Step 5: Define a function to train and evaluate models\n",
        "def train_and_evaluate_model(model, model_name):\n",
        "    model.fit(X_train_resampled, y_train_resampled)\n",
        "    y_pred = model.predict(X_test)\n",
        "    print(f\"--- {model_name} ---\")\n",
        "    print(\"Classification Report:\\n\", classification_report(y_test, y_pred))\n",
        "    roc_auc = roc_auc_score(y_test, model.predict_proba(X_test)[:, 1])\n",
        "    print(f\"ROC-AUC Score: {roc_auc:.2f}\\n\")\n",
        "\n",
        "# Step 6: Train and evaluate different models\n",
        "models = {\n",
        "    \"Logistic Regression\": LogisticRegression(class_weight='balanced', max_iter=1000),\n",
        "    \"Decision Tree\": DecisionTreeClassifier(class_weight='balanced', random_state=42),\n",
        "    \"Random Forest\": RandomForestClassifier(class_weight='balanced', random_state=42),\n",
        "    \"XGBoost\": xgb.XGBClassifier(scale_pos_weight=(len(y) - sum(y)) / sum(y), random_state=42),\n",
        "    \"LightGBM\": lgb.LGBMClassifier(class_weight='balanced', random_state=42)\n",
        "}\n",
        "\n",
        "for model_name, model in models.items():\n",
        "    train_and_evaluate_model(model, model_name)"
      ]
    },
    {
      "cell_type": "code",
      "execution_count": 27,
      "id": "77414277-30f8-45bd-b6d0-9a2db1d3316b",
      "metadata": {
        "colab": {
          "base_uri": "https://localhost:8080/"
        },
        "id": "77414277-30f8-45bd-b6d0-9a2db1d3316b",
        "outputId": "c9db4ac9-23a5-4cbd-cac6-ff344af18a47"
      },
      "outputs": [
        {
          "output_type": "stream",
          "name": "stdout",
          "text": [
            "Accuracy for this fold: 0.8081\n",
            "Accuracy for this fold: 0.8034\n",
            "Accuracy for this fold: 0.8102\n",
            "Accuracy for this fold: 0.8087\n",
            "Accuracy for this fold: 0.8081\n"
          ]
        }
      ],
      "source": [
        "from sklearn.model_selection import StratifiedKFold\n",
        "\n",
        "kf = StratifiedKFold(n_splits=5, shuffle=True, random_state=42)\n",
        "\n",
        "# Step 4: Apply K-Fold Cross-Validation and store accuracies\n",
        "accuracies = []\n",
        "\n",
        "for train_index, test_index in kf.split(X, y):\n",
        "    # Split into train and test for this fold\n",
        "    X_train, X_test = X.iloc[train_index], X.iloc[test_index]\n",
        "    y_train, y_test = y.iloc[train_index], y.iloc[test_index]\n",
        "\n",
        "    # Apply SMOTE on the training data to handle imbalance\n",
        "    smote = SMOTE(random_state=42)\n",
        "    X_train_resampled, y_train_resampled = smote.fit_resample(X_train, y_train)\n",
        "\n",
        "    # Train the RandomForest model\n",
        "    model = RandomForestClassifier(random_state=42)\n",
        "    model.fit(X_train_resampled, y_train_resampled)\n",
        "\n",
        "    # Make predictions on the test set\n",
        "    y_pred = model.predict(X_test)\n",
        "\n",
        "    # Calculate accuracy for this fold\n",
        "    acc = accuracy_score(y_test, y_pred)\n",
        "    accuracies.append(acc)\n",
        "    print(f\"Accuracy for this fold: {acc:.4f}\")"
      ]
    },
    {
      "cell_type": "code",
      "execution_count": 28,
      "id": "c9c6e6ac-cd34-487e-bff9-aa94a8787c48",
      "metadata": {
        "colab": {
          "base_uri": "https://localhost:8080/"
        },
        "id": "c9c6e6ac-cd34-487e-bff9-aa94a8787c48",
        "outputId": "993f2122-a3b0-4b20-9bd6-531020070cf1"
      },
      "outputs": [
        {
          "output_type": "stream",
          "name": "stdout",
          "text": [
            "\n",
            "Mean Accuracy across all folds: 0.8077\n"
          ]
        }
      ],
      "source": [
        "import numpy as np\n",
        "# Step 5: Calculate the mean accuracy across all folds\n",
        "mean_accuracy = np.mean(accuracies)\n",
        "print(f\"\\nMean Accuracy across all folds: {mean_accuracy:.4f}\")"
      ]
    },
    {
      "cell_type": "code",
      "execution_count": 29,
      "id": "f556e409-ee09-43f1-a0b3-22cd59c7e6b2",
      "metadata": {
        "colab": {
          "base_uri": "https://localhost:8080/"
        },
        "id": "f556e409-ee09-43f1-a0b3-22cd59c7e6b2",
        "outputId": "7767e015-2b81-4f69-f8d6-ecbb88b1e408"
      },
      "outputs": [
        {
          "output_type": "stream",
          "name": "stdout",
          "text": [
            "Accuracy for this fold: 0.8081\n",
            "Accuracy for this fold: 0.8034\n",
            "Accuracy for this fold: 0.8102\n",
            "Accuracy for this fold: 0.8087\n",
            "Accuracy for this fold: 0.8081\n"
          ]
        }
      ],
      "source": [
        "import joblib\n",
        "# Initialize StratifiedKFold and SMOTE\n",
        "kf = StratifiedKFold(n_splits=5, shuffle=True, random_state=42)\n",
        "smote = SMOTE(random_state=42)\n",
        "\n",
        "accuracies = []\n",
        "best_model = None\n",
        "best_accuracy = 0\n",
        "\n",
        "# K-Fold Cross-Validation with SMOTE and RandomForest\n",
        "for train_index, test_index in kf.split(X, y):\n",
        "    X_train, X_test = X.iloc[train_index], X.iloc[test_index]\n",
        "    y_train, y_test = y.iloc[train_index], y.iloc[test_index]\n",
        "\n",
        "    # Apply SMOTE to the training data\n",
        "    X_train_resampled, y_train_resampled = smote.fit_resample(X_train, y_train)\n",
        "\n",
        "    # Train the RandomForest model\n",
        "    model = RandomForestClassifier(random_state=42)\n",
        "    model.fit(X_train_resampled, y_train_resampled)\n",
        "\n",
        "    # Predict and evaluate\n",
        "    y_pred = model.predict(X_test)\n",
        "    acc = accuracy_score(y_test, y_pred)\n",
        "    accuracies.append(acc)\n",
        "    print(f\"Accuracy for this fold: {acc:.4f}\")\n",
        "\n",
        "    # Save the best model\n",
        "    if acc > best_accuracy:\n",
        "        best_accuracy = acc\n",
        "        best_model = model"
      ]
    },
    {
      "cell_type": "code",
      "execution_count": 30,
      "id": "l12ZFL6kyRXi",
      "metadata": {
        "colab": {
          "base_uri": "https://localhost:8080/"
        },
        "id": "l12ZFL6kyRXi",
        "outputId": "22bfeba8-257f-44d9-f5a8-1dbf3844e324"
      },
      "outputs": [
        {
          "output_type": "stream",
          "name": "stdout",
          "text": [
            "\n",
            "Mean Accuracy: 0.8077\n",
            "Model saved as 'best_model.pkl'.\n",
            "Model loaded successfully.\n"
          ]
        }
      ],
      "source": [
        "# Calculate mean accuracy\n",
        "import joblib\n",
        "\n",
        "mean_accuracy = np.mean(accuracies)\n",
        "print(f\"\\nMean Accuracy: {mean_accuracy:.4f}\")\n",
        "\n",
        "# Save the best model to a .pkl file\n",
        "joblib.dump(best_model, 'best_model.pkl')\n",
        "print(\"Model saved as 'best_model.pkl'.\")\n",
        "\n",
        "# Load the model (Example)\n",
        "loaded_model = joblib.load('best_model.pkl')\n",
        "print(\"Model loaded successfully.\")"
      ]
    },
    {
      "cell_type": "code",
      "execution_count": null,
      "id": "2m8rPI00yTHu",
      "metadata": {
        "id": "2m8rPI00yTHu"
      },
      "outputs": [],
      "source": []
    }
  ],
  "metadata": {
    "colab": {
      "provenance": [],
      "include_colab_link": true
    },
    "kernelspec": {
      "display_name": "Python 3",
      "name": "python3"
    },
    "language_info": {
      "codemirror_mode": {
        "name": "ipython",
        "version": 3
      },
      "file_extension": ".py",
      "mimetype": "text/x-python",
      "name": "python",
      "nbconvert_exporter": "python",
      "pygments_lexer": "ipython3",
      "version": "3.9.19"
    }
  },
  "nbformat": 4,
  "nbformat_minor": 5
}